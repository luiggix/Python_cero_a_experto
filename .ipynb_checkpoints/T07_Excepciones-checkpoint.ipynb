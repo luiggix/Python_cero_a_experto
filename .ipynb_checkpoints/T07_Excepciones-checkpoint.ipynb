{
 "cells": [
  {
   "cell_type": "markdown",
   "metadata": {},
   "source": [
    "# Python de cero a experto\n",
    "**Autor:** Luis Miguel de la Cruz Salas\n",
    "\n",
    "<a href=\"https://github.com/luiggix/Python_cero_a_experto\">Python de cero a experto</a> by Luis M. de la Cruz Salas is licensed under <a href=\"https://creativecommons.org/licenses/by-nc-nd/4.0?ref=chooser-v1\">Attribution-NonCommercial-NoDerivatives 4.0 International</a>"
   ]
  },
  {
   "cell_type": "markdown",
   "metadata": {},
   "source": [
    "## Pythonico es más bonito"
   ]
  },
  {
   "cell_type": "markdown",
   "metadata": {},
   "source": [
    "### Excepciones: *try, except, finally*\n",
    "\n",
    "Tenemos dos tipos principales de errores:\n",
    "- De sintaxis: ocurren cuando no se escriben correctamente las expresiones y declaraciones, siguiendo la especificación de la interfaz de Python:"
   ]
  },
  {
   "cell_type": "code",
   "execution_count": null,
   "metadata": {},
   "outputs": [],
   "source": [
    "prit('Hola mundo!')"
   ]
  },
  {
   "cell_type": "markdown",
   "metadata": {},
   "source": [
    "Observe que el tipo de error se imprime cuando éste ocurre. En el caso anterior el error fue de tipo `NameError`, por lo que hay que revisar que todo esté correctamente escrito."
   ]
  },
  {
   "cell_type": "markdown",
   "metadata": {},
   "source": [
    "- Excepciones: Son errores lógicos, que detienen la ejecución de un programa aún cuando la sintaxis sea la correcta: "
   ]
  },
  {
   "cell_type": "code",
   "execution_count": null,
   "metadata": {},
   "outputs": [],
   "source": [
    "def raizCuadrada(numero):\n",
    "    numero = float(numero)\n",
    "    print(\"La raíz cuadrada del número %f es %f\" % (numero, numero ** 0.5))"
   ]
  },
  {
   "cell_type": "code",
   "execution_count": null,
   "metadata": {},
   "outputs": [],
   "source": [
    "raizCuadrada(1)"
   ]
  },
  {
   "cell_type": "code",
   "execution_count": null,
   "metadata": {},
   "outputs": [],
   "source": [
    "raizCuadrada(-1)"
   ]
  },
  {
   "cell_type": "code",
   "execution_count": null,
   "metadata": {},
   "outputs": [],
   "source": [
    "raizCuadrada(1+1j)"
   ]
  },
  {
   "cell_type": "code",
   "execution_count": null,
   "metadata": {},
   "outputs": [],
   "source": [
    "raizCuadrada(\"hola\")"
   ]
  },
  {
   "cell_type": "markdown",
   "metadata": {},
   "source": [
    "En los ejemplos anteriores hay errores es de tipo `TypeError`, es decir ocurrió un error con los tipos de datos que se están manipulando; y errores de tipo `ValueError`, es decir hay un problema con el contenido del objeto.\n",
    "\n",
    "### Tipos de excepciones. \n",
    "\n",
    "Todas las excepciones en Python son ejemplos concretos (objetos) de una clase (*instance*) que se derivan de la clase principal <a href=\"https://docs.python.org/3/library/exceptions.html#BaseException\">BaseExcepcion</a>. Más detalles se pueden consultar <a href=\"http://docs.python.org/3/library/exceptions.html\">aquí</a>.\n",
    "\n",
    "Las excepciones se pueden capturar y manejar adecuadamente. Para ello se tienen las siguientes herramientas:\n",
    "\n",
    "* `try`\n",
    "* `except`\n",
    "* `else`\n",
    "* `finally`\n",
    "\n",
    "Cuando se identifica una sección de código susceptible de errores, ésta puede ser delimitada con la expresión `try`. Cualquier excepción que ocurra dentro de esta sección de código podrá ser capturada y gestionada.\n",
    "\n",
    "La expresión `except` es la encargada de gestionar las excepciones que se capturan. Si se utiliza sin mayor información, ésta ejecutará el código que contiene para todas las excepciones que ocurran."
   ]
  },
  {
   "cell_type": "code",
   "execution_count": null,
   "metadata": {},
   "outputs": [],
   "source": [
    "def raizCuadrada(numero):\n",
    "    try:\n",
    "        numero = float(numero)\n",
    "        print(\"La raíz cuadrada del número {numero} es {numero**0.5}\")\n",
    "    except:\n",
    "        pass\n",
    "    \n",
    "    print('Gracias por usar Python!.')"
   ]
  },
  {
   "cell_type": "code",
   "execution_count": null,
   "metadata": {},
   "outputs": [],
   "source": [
    "raizCuadrada(1)"
   ]
  },
  {
   "cell_type": "code",
   "execution_count": null,
   "metadata": {},
   "outputs": [],
   "source": [
    "raizCuadrada(-1)"
   ]
  },
  {
   "cell_type": "code",
   "execution_count": null,
   "metadata": {},
   "outputs": [],
   "source": [
    "raizCuadrada(\"hola\")"
   ]
  },
  {
   "cell_type": "markdown",
   "metadata": {},
   "source": [
    "### Tratamiento de las excepciones"
   ]
  },
  {
   "cell_type": "code",
   "execution_count": null,
   "metadata": {},
   "outputs": [],
   "source": [
    "def raizCuadrada(numero):\n",
    "    ocurre_error = False\n",
    "    try:\n",
    "        numero = float(numero)\n",
    "        print(\"La raíz cuadrada del número %f es %f\" % (numero, numero ** 0.5))\n",
    "    except:\n",
    "        ocurre_error = True\n",
    "        \n",
    "    if ocurre_error:\n",
    "        print(\"Hubo una falla en el programa, no se pudo realizar el cálculo\")\n",
    "    else:\n",
    "        print('Gracias por usar Python!.')"
   ]
  },
  {
   "cell_type": "code",
   "execution_count": null,
   "metadata": {},
   "outputs": [],
   "source": [
    "raizCuadrada(1)"
   ]
  },
  {
   "cell_type": "code",
   "execution_count": null,
   "metadata": {},
   "outputs": [],
   "source": [
    "raizCuadrada(-1)"
   ]
  },
  {
   "cell_type": "code",
   "execution_count": null,
   "metadata": {},
   "outputs": [],
   "source": [
    "raizCuadrada(\"hola\")"
   ]
  },
  {
   "cell_type": "markdown",
   "metadata": {},
   "source": [
    "#### Gestión de excepciones por su tipo.\n",
    "\n",
    "La expresión `except` puede ser utilizada de forma tal que ejecute código dependiendo del tipo de error que ocurra. Para más información de los tipos de error que existen en Python, consulte <a href=\"https://docs.python.org/3/library/exceptions.html#concrete-exceptions\"> Concrete exceptions </a>."
   ]
  },
  {
   "cell_type": "code",
   "execution_count": null,
   "metadata": {},
   "outputs": [],
   "source": [
    "def raizCuadrada(numero):\n",
    "    ocurre_error = False\n",
    "    try:\n",
    "        numero = float(numero)\n",
    "        print(\"La raíz cuadrada del número %f es %f\" % (numero, numero ** 0.5))\n",
    "    except TypeError:\n",
    "        ocurre_error = True\n",
    "        print(\"Ocurrió un error de tipo: TypeError, verifique que los tipos sean compatibles.\")\n",
    "    except:\n",
    "        ocurre_error = True\n",
    "        print(\"Ocurrió algo misterioso\")\n",
    "        \n",
    "    if ocurre_error:\n",
    "        print(\"Hubo una falla en el programa, no se pudo realizar el cálculo\")\n",
    "    else:\n",
    "        print('Gracias por usar Python!.')"
   ]
  },
  {
   "cell_type": "code",
   "execution_count": null,
   "metadata": {},
   "outputs": [],
   "source": [
    "raizCuadrada(1)"
   ]
  },
  {
   "cell_type": "code",
   "execution_count": null,
   "metadata": {},
   "outputs": [],
   "source": [
    "raizCuadrada(-1)"
   ]
  },
  {
   "cell_type": "code",
   "execution_count": null,
   "metadata": {},
   "outputs": [],
   "source": [
    "raizCuadrada(\"hola\")"
   ]
  },
  {
   "cell_type": "code",
   "execution_count": null,
   "metadata": {},
   "outputs": [],
   "source": [
    "raizCuadrada(numero)"
   ]
  },
  {
   "cell_type": "markdown",
   "metadata": {},
   "source": [
    "#### Información del error"
   ]
  },
  {
   "cell_type": "code",
   "execution_count": null,
   "metadata": {},
   "outputs": [],
   "source": [
    "def raizCuadrada(numero): \n",
    "    ocurre_error = False\n",
    "    try:\n",
    "        numero = float(numero)\n",
    "        print(\"La raíz cuadrada del número %f es %f\" % (numero, numero ** 0.5))\n",
    "    except TypeError as detalles:\n",
    "        ocurre_error = True\n",
    "        print(\"Ocurrió un error (TypeError):\", detalles)\n",
    "    except ValueError as detalles:\n",
    "        ocurre_error = True\n",
    "        print(\"Ocurrió un error (ValueError):\", detalles)\n",
    "    except:\n",
    "        ocurre_error = True\n",
    "        print(\"Ocurrió algo misterioso\")\n",
    "        \n",
    "    if ocurre_error:\n",
    "        print(\"Hubo una falla en el programa, no se pudo realizar el cálculo\")\n",
    "    else:\n",
    "        print('Gracias por usar Python!.')"
   ]
  },
  {
   "cell_type": "code",
   "execution_count": null,
   "metadata": {},
   "outputs": [],
   "source": [
    "raizCuadrada(1)"
   ]
  },
  {
   "cell_type": "code",
   "execution_count": null,
   "metadata": {},
   "outputs": [],
   "source": [
    "raizCuadrada(-1)"
   ]
  },
  {
   "cell_type": "code",
   "execution_count": null,
   "metadata": {},
   "outputs": [],
   "source": [
    "raizCuadrada('dd')"
   ]
  },
  {
   "cell_type": "markdown",
   "metadata": {},
   "source": [
    "#### Sección `finally`\n",
    "Esta sección se ejecuta siempre, sin importar si hubo una excepción o no."
   ]
  },
  {
   "cell_type": "code",
   "execution_count": null,
   "metadata": {},
   "outputs": [],
   "source": [
    "def raizCuadrada(numero):\n",
    "    ocurre_error = False\n",
    "    try:\n",
    "        numero = float(numero)\n",
    "        print(\"La raíz cuadrada del número %f es %f\" % (numero, numero ** 0.5))\n",
    "    except TypeError as detalles:\n",
    "        ocurre_error = True\n",
    "        print(\"Ocurrió un error (TypeError):\", detalles)\n",
    "    except ValueError as detalles:\n",
    "        ocurre_error = True\n",
    "        print(\"Ocurrió un error (ValueError):\", detalles)\n",
    "    except:\n",
    "        ocurre_error = True\n",
    "        print(\"Ocurrió algo misterioso\")\n",
    "    finally:\n",
    "        if ocurre_error:\n",
    "            print(\"Hubo una falla en el programa, no se pudo realizar el cálculo\")\n",
    "        else:\n",
    "            print('Gracias por usar Python!.')"
   ]
  },
  {
   "cell_type": "code",
   "execution_count": null,
   "metadata": {},
   "outputs": [],
   "source": [
    "raizCuadrada(1)"
   ]
  },
  {
   "cell_type": "code",
   "execution_count": null,
   "metadata": {},
   "outputs": [],
   "source": [
    "raizCuadrada(-1)"
   ]
  },
  {
   "cell_type": "code",
   "execution_count": null,
   "metadata": {},
   "outputs": [],
   "source": [
    "raizCuadrada(1j)"
   ]
  },
  {
   "cell_type": "code",
   "execution_count": null,
   "metadata": {},
   "outputs": [],
   "source": [
    "raizCuadrada(\"hola\")"
   ]
  },
  {
   "cell_type": "code",
   "execution_count": null,
   "metadata": {},
   "outputs": [],
   "source": []
  }
 ],
 "metadata": {
  "anaconda-cloud": {},
  "kernelspec": {
   "display_name": "Python 3",
   "language": "python",
   "name": "python3"
  },
  "language_info": {
   "codemirror_mode": {
    "name": "ipython",
    "version": 3
   },
   "file_extension": ".py",
   "mimetype": "text/x-python",
   "name": "python",
   "nbconvert_exporter": "python",
   "pygments_lexer": "ipython3",
   "version": "3.8.5"
  }
 },
 "nbformat": 4,
 "nbformat_minor": 4
}
