{
 "cells": [
  {
   "cell_type": "markdown",
   "metadata": {},
   "source": [
    "# Python de cero a experto\n",
    "**Autor:** Luis Miguel de la Cruz Salas\n",
    "\n",
    "<a href=\"https://github.com/luiggix/Python_cero_a_experto\">Python de cero a experto</a> by Luis M. de la Cruz Salas is licensed under <a href=\"https://creativecommons.org/licenses/by-nc-nd/4.0?ref=chooser-v1\">Attribution-NonCommercial-NoDerivatives 4.0 International</a>"
   ]
  },
  {
   "cell_type": "markdown",
   "metadata": {},
   "source": [
    "## Pythonico es más bonito"
   ]
  },
  {
   "cell_type": "markdown",
   "metadata": {},
   "source": [
    "### Funciones\n",
    "\n",
    "Las funciones son la primera forma de estructurar un programa. Esto nos lleva al paradigma de programación estructurada, junto con las construcciones de control de flujo. Las funciones nos permiten agrupar y reutilizar líneas de código.\n",
    "\n",
    "La sintáxis es:\n",
    "\n",
    "```python\n",
    "def nombre de la función(parm1,parm2,...):\n",
    "    bloque de código\n",
    "    return resultado\n",
    "```"
   ]
  },
  {
   "cell_type": "code",
   "execution_count": null,
   "metadata": {},
   "outputs": [],
   "source": [
    "# La siguiente función calcula la secuencia de Fibonacci\n",
    "def fib(n):  # La función se llama fib y recibe el parámetro n\n",
    "    a, b = 0, 1\n",
    "    while a < n:\n",
    "        print(a, end=',')\n",
    "        a, b = b, a+b"
   ]
  },
  {
   "cell_type": "code",
   "execution_count": null,
   "metadata": {},
   "outputs": [],
   "source": [
    "fib(10) # ejecutamos la función fib con el argumento 10"
   ]
  },
  {
   "cell_type": "code",
   "execution_count": null,
   "metadata": {},
   "outputs": [],
   "source": [
    "type(fib)"
   ]
  },
  {
   "cell_type": "markdown",
   "metadata": {},
   "source": [
    "Le podemos poner otro nombre a la función"
   ]
  },
  {
   "cell_type": "code",
   "execution_count": null,
   "metadata": {},
   "outputs": [],
   "source": [
    "Fibonacci = fib"
   ]
  },
  {
   "cell_type": "code",
   "execution_count": null,
   "metadata": {},
   "outputs": [],
   "source": [
    "Fibonacci(200)"
   ]
  },
  {
   "cell_type": "code",
   "execution_count": null,
   "metadata": {},
   "outputs": [],
   "source": [
    "type(Fibonacci)"
   ]
  },
  {
   "cell_type": "code",
   "execution_count": null,
   "metadata": {},
   "outputs": [],
   "source": [
    "print(id(fib), id(Fibonacci))"
   ]
  },
  {
   "cell_type": "markdown",
   "metadata": {},
   "source": [
    "### Ámbitos\n",
    "\n",
    "Las funciones (y otros operadores también), crean su propio ámbito, de tal manera que las etiquetas declaradas dentro de funciones son locales."
   ]
  },
  {
   "cell_type": "code",
   "execution_count": null,
   "metadata": {},
   "outputs": [],
   "source": [
    "a = 20 # Objeto global etiquetado con a\n",
    "def f():\n",
    "    a = 21 # Objeto local etiquetado con a\n",
    "    return a"
   ]
  },
  {
   "cell_type": "code",
   "execution_count": null,
   "metadata": {},
   "outputs": [],
   "source": [
    "print(a)"
   ]
  },
  {
   "cell_type": "code",
   "execution_count": null,
   "metadata": {},
   "outputs": [],
   "source": [
    "print(f())"
   ]
  },
  {
   "cell_type": "markdown",
   "metadata": {},
   "source": [
    "Para usar el objeto global dentro de la función debemos usar `global`"
   ]
  },
  {
   "cell_type": "code",
   "execution_count": null,
   "metadata": {},
   "outputs": [],
   "source": [
    "a = 20\n",
    "def f():\n",
    "    global a \n",
    "    return a"
   ]
  },
  {
   "cell_type": "code",
   "execution_count": null,
   "metadata": {},
   "outputs": [],
   "source": [
    "print(a)"
   ]
  },
  {
   "cell_type": "code",
   "execution_count": null,
   "metadata": {},
   "outputs": [],
   "source": [
    "print(f())"
   ]
  },
  {
   "cell_type": "markdown",
   "metadata": {},
   "source": [
    "### Retorno de una función\n",
    "\n",
    "La palabra reservada `return` regresa un objeto, que en principio contiene el resultado de las operaciones realizadas por la función."
   ]
  },
  {
   "cell_type": "code",
   "execution_count": null,
   "metadata": {},
   "outputs": [],
   "source": [
    "# Función que calcula la posición y velocidad en el tiro vertical de un objeto.\n",
    "def verticalThrow(t,v0): \n",
    "    g = 9.81 # [m / s**2]\n",
    "    y = v0 * t - 0.5 * g * t**2 \n",
    "    v = v0 - g * t \n",
    "    return (y, v)  # regresa la posición [m] y la velocidad [m/s]"
   ]
  },
  {
   "cell_type": "code",
   "execution_count": null,
   "metadata": {},
   "outputs": [],
   "source": [
    "t = 2.0   # [s]\n",
    "v0 = 20 # [m/s]\n",
    "verticalThrow(t, v0)"
   ]
  },
  {
   "cell_type": "code",
   "execution_count": null,
   "metadata": {},
   "outputs": [],
   "source": [
    "resultado = verticalThrow(t, v0)"
   ]
  },
  {
   "cell_type": "code",
   "execution_count": null,
   "metadata": {},
   "outputs": [],
   "source": [
    "print(resultado)"
   ]
  },
  {
   "cell_type": "markdown",
   "metadata": {},
   "source": [
    "### Parámetros por omisión"
   ]
  },
  {
   "cell_type": "code",
   "execution_count": null,
   "metadata": {},
   "outputs": [],
   "source": [
    "# Función que calcula la posición y velocidad en el tiro vertical de un objeto.\n",
    "def verticalThrow(t, v0 = 20): \n",
    "    g = 9.81 # [m / s**2]\n",
    "    y = v0 * t - 0.5 * g * t**2 \n",
    "    v = v0 - g * t \n",
    "    return y, v  # regresa la posición [m] y la velocidad [m/s]"
   ]
  },
  {
   "cell_type": "code",
   "execution_count": null,
   "metadata": {},
   "outputs": [],
   "source": [
    "pos, vel = verticalThrow(t)"
   ]
  },
  {
   "cell_type": "code",
   "execution_count": null,
   "metadata": {},
   "outputs": [],
   "source": [
    "print(pos, vel)"
   ]
  },
  {
   "cell_type": "markdown",
   "metadata": {},
   "source": [
    "### Argumentos posicionales y `keyword`\n",
    "Un argumento es el valor que se le pasa a una función cuando se llama. Hay dos tipos de argumentos:\n",
    "\n",
    "- *Positional argument* : un argumento que no es precedido por un identificador, o pasado en una tupla precedido por `*`:\n",
    "\n",
    "    ```python\n",
    "    verticalThrow(3, 50)\n",
    "    verticalThrow(*(3, 50))\n",
    "    ```\n",
    "    \n",
    "- *Keyword argument* : un argumento precedido por un identificador en la llamada de una función (o que se pasa por valor en un diccionario precedido por `**`):\n",
    "\n",
    "    ```python\n",
    "    verticalThrow(t=3, v0=50)\n",
    "    verticalThrow(**{'t': 3, 'v0': 50})\n",
    "    ```"
   ]
  },
  {
   "cell_type": "code",
   "execution_count": null,
   "metadata": {},
   "outputs": [],
   "source": [
    "verticalThrow(3,50)"
   ]
  },
  {
   "cell_type": "code",
   "execution_count": null,
   "metadata": {},
   "outputs": [],
   "source": [
    "verticalThrow(*(3,50))"
   ]
  },
  {
   "cell_type": "code",
   "execution_count": null,
   "metadata": {},
   "outputs": [],
   "source": [
    "verticalThrow(t=3,v0=50)"
   ]
  },
  {
   "cell_type": "code",
   "execution_count": null,
   "metadata": {},
   "outputs": [],
   "source": [
    "verticalThrow(**{'t':3,'v0':50})"
   ]
  },
  {
   "cell_type": "code",
   "execution_count": null,
   "metadata": {},
   "outputs": [],
   "source": [
    "verticalThrow(v0=50,t=3)"
   ]
  },
  {
   "cell_type": "markdown",
   "metadata": {},
   "source": [
    "### Número variable de parámetros"
   ]
  },
  {
   "cell_type": "code",
   "execution_count": null,
   "metadata": {},
   "outputs": [],
   "source": [
    "# *args: número variable de Positional arguments empacados en una tupla\n",
    "# *kwargs: número variable de Keyword arguments empacados en un diccionario\n",
    "def parametrosVariables(*args, **kwargs):\n",
    "    print('args es una tupla : ', args)\n",
    "    print('kwargs es un diccionario: ', kwargs)\n",
    "    print(set(kwargs))\n",
    "    \n",
    "parametrosVariables('one', 'two','three', 'four', a = 4,  x=1, y=2, z=3, w=[1,2,2])"
   ]
  },
  {
   "cell_type": "code",
   "execution_count": null,
   "metadata": {},
   "outputs": [],
   "source": [
    "def funcion_kargs(**argumentos):\n",
    "    for key, val in argumentos.items():\n",
    "        print(f\" key = {key} : value = {val}\")"
   ]
  },
  {
   "cell_type": "code",
   "execution_count": null,
   "metadata": {},
   "outputs": [],
   "source": [
    "funcion_kargs(nombre = 'Luis', apellido='de la Cruz', edad=15, peso=80.5 )"
   ]
  },
  {
   "cell_type": "code",
   "execution_count": null,
   "metadata": {},
   "outputs": [],
   "source": [
    "mi_dicc = {'nombre':'Luis', 'apellido':'de la Cruz', 'edad':15, 'peso':80.5}"
   ]
  },
  {
   "cell_type": "code",
   "execution_count": null,
   "metadata": {},
   "outputs": [],
   "source": [
    "funcion_kargs(**mi_dicc)"
   ]
  },
  {
   "cell_type": "markdown",
   "metadata": {},
   "source": [
    "### Funciones como parámetros de otras funciones"
   ]
  },
  {
   "cell_type": "code",
   "execution_count": null,
   "metadata": {},
   "outputs": [],
   "source": [
    "def g():\n",
    "    print(\"Iniciando la función 'g()'\")\n",
    "    \n",
    "def func(f):\n",
    "    print(\"Iniciando la función 'func()'\")\n",
    "    print(\"Ejecución de la función 'f()', nombre real '\" + f.__name__ + \"()'\")\n",
    "    f()\n",
    "    \n",
    "func(g)"
   ]
  },
  {
   "cell_type": "code",
   "execution_count": null,
   "metadata": {},
   "outputs": [],
   "source": [
    "import math\n",
    "\n",
    "def integra(func,a,b,N):\n",
    "    print(f\"Integral de {func.__name__} en el intervalo ({a},{b}) usando {N} puntos\")\n",
    "    h = (b - a) / N\n",
    "    resultado = 0\n",
    "    x = [a + h*i for i in range(N+1)]\n",
    "    for xi in x:\n",
    "        resultado += func(xi) * h\n",
    "    return resultado\n",
    "\n",
    "print(integra(math.sin, 1,2,5))\n",
    "print(integra(math.cos, 2,3,10))"
   ]
  },
  {
   "cell_type": "markdown",
   "metadata": {},
   "source": [
    "### Funciones que regresan otra función"
   ]
  },
  {
   "cell_type": "code",
   "execution_count": null,
   "metadata": {},
   "outputs": [],
   "source": [
    "def funcionPadre(n):\n",
    "\n",
    "    def funcionHijo1():\n",
    "        return \"Resultado de funcionHijo1()\"\n",
    "\n",
    "    def funcionHijo2():\n",
    "        return \"Resultado de funcionHijo2()\"\n",
    "\n",
    "    if n == 10:\n",
    "        return funcionHijo1\n",
    "    else:\n",
    "        return funcionHijo2\n",
    "\n",
    "f1 = funcionPadre(10)\n",
    "f2 = funcionPadre(11)\n",
    "\n",
    "print(f1())\n",
    "print(f2())\n",
    "\n",
    "#print(f1)\n",
    "#print(f2)"
   ]
  },
  {
   "cell_type": "markdown",
   "metadata": {},
   "source": [
    "#### Ejemplo 1.\n",
    "Implementar una fábrica de polinomios de segundo grado: \n",
    "\n",
    "$$\n",
    "p(x) = a x^2 + b x + c\n",
    "$$"
   ]
  },
  {
   "cell_type": "code",
   "execution_count": null,
   "metadata": {},
   "outputs": [],
   "source": [
    "def polinomio(a, b, c):\n",
    "    \n",
    "    def polSegundoGrado(x):\n",
    "        return a * x**2 + b * x + c\n",
    "    \n",
    "    return polSegundoGrado\n",
    "\n",
    "p1 = polinomio(2, 3, -1) # 2x^2 + 3x - 1\n",
    "p2 = polinomio(-1, 2, 1) # -x^2 + 2x + 1\n",
    "\n",
    "for x in range(-2, 2, 1):\n",
    "    print(f'x = {x:3d} \\t p1(x) = {p1(x):3d} \\t p2(x) = {p2(x):3d}')"
   ]
  },
  {
   "cell_type": "markdown",
   "metadata": {},
   "source": [
    "#### Ejemplo 2.\n",
    "\n",
    "Implementar una fábrica de polinomios de cualquier grado: \n",
    "\n",
    "$$\n",
    "\\sum\\limits_{k=0}^{n} a_k x^k = a_n x^n + a_{n-1} x^{n-1} + \\dots + a_1 x + a_0 \n",
    "$$"
   ]
  },
  {
   "cell_type": "code",
   "execution_count": null,
   "metadata": {},
   "outputs": [],
   "source": [
    "def polinomioFactory(*coeficientes):\n",
    "\n",
    "    def polinomio(x):\n",
    "        res = 0\n",
    "        for i, coef in enumerate(coeficientes):\n",
    "            res += coef * x ** i\n",
    "        return res\n",
    "    \n",
    "    return polinomio\n",
    "\n",
    "p1 = polinomioFactory(5)           # a_0 = 5\n",
    "p2 = polinomioFactory(2, 4)        # 4 x + 2\n",
    "p3 = polinomioFactory(-1, 2, 1)    # x^2 + 2x - 1\n",
    "p4 = polinomioFactory(0, 3, -1, 1) # x^3 - x^2 + 3x + 0\n",
    "\n",
    "for x in range(-2, 2, 1):\n",
    "    print(f'x = {x:3d} \\t p1(x) = {p1(x):3d} \\t p2(x) = {p2(x):3d} \\t p3(x) = {p3(x):3d} \\t p4(x) = {p4(x):3d}')"
   ]
  },
  {
   "cell_type": "markdown",
   "metadata": {},
   "source": [
    "### Documentación con *docstring*\n",
    "\n",
    "Python ofrece dos tipos básicos de comentarios para documentar el código:\n",
    "\n",
    "1. Lineal.<br>\n",
    "Este tipo de comentarios se llevan a cabo utilizando el símbolo especial `#`. El intérprete de Python sabrá que todo lo que sigue delante de este símbolo es un comentario y por lo tanto no se toma en cuenta en la ejecución:\n",
    "\n",
    "```python\n",
    "a = 10 # Este es un comentario\n",
    "\n",
    "```\n",
    "\n",
    "2. Docstrings<br>\n",
    "En programación, un *docstring* es una cadena de caracteres embedidas en el código fuente, similares a un comentario, para documentar un segmento de código específico. A diferencia de los comentarios tradicionales, las docstrings no se quitan del código cuando es analizado, sino que son retenidas a través de la ejecución del programa. Esto permite al programador inspeccionar esos comentarios en tiempo de ejecución, por ejemplo como un sistema de ayuda interactivo o como metadatos. En Python se utilizan las triples comillas para definir un *docstring*.\n",
    "\n",
    "```python\n",
    "def funcion(x):\n",
    "    '''\n",
    "    Esta es una descripción de la función ...\n",
    "    '''\n",
    "    \n",
    "def foo(y):\n",
    "    \"\"\"\n",
    "    También de esta manera se puede definir una docstring\n",
    "    \"\"\"\n",
    "   \n",
    "```\n"
   ]
  },
  {
   "cell_type": "code",
   "execution_count": null,
   "metadata": {},
   "outputs": [],
   "source": [
    "def suma(a,b):\n",
    "    '''\n",
    "    Esta función calcula  la suma de los parámetros a y b. \n",
    "    Regresa el resultado de la suma\n",
    "    '''\n",
    "    return a + b"
   ]
  },
  {
   "cell_type": "code",
   "execution_count": null,
   "metadata": {},
   "outputs": [],
   "source": [
    "suma"
   ]
  },
  {
   "cell_type": "code",
   "execution_count": null,
   "metadata": {},
   "outputs": [],
   "source": [
    "# En numpy se usa la siguiente definición de docstrings\n",
    "def suma(a,b):\n",
    "    '''\n",
    "    Calcula la suma de los dos parámetros a y b.\n",
    "    \n",
    "    Args: \n",
    "        a: int Numero a sumar\n",
    "        b: int Numero a sumar\n",
    "    Return:\n",
    "        c: int Suma del numero a y b\n",
    "    '''\n",
    "    c = a + b\n",
    "    return c"
   ]
  },
  {
   "cell_type": "code",
   "execution_count": null,
   "metadata": {},
   "outputs": [],
   "source": [
    "suma"
   ]
  },
  {
   "cell_type": "code",
   "execution_count": null,
   "metadata": {},
   "outputs": [],
   "source": []
  }
 ],
 "metadata": {
  "kernelspec": {
   "display_name": "Python 3",
   "language": "python",
   "name": "python3"
  },
  "language_info": {
   "codemirror_mode": {
    "name": "ipython",
    "version": 3
   },
   "file_extension": ".py",
   "mimetype": "text/x-python",
   "name": "python",
   "nbconvert_exporter": "python",
   "pygments_lexer": "ipython3",
   "version": "3.8.5"
  }
 },
 "nbformat": 4,
 "nbformat_minor": 4
}
