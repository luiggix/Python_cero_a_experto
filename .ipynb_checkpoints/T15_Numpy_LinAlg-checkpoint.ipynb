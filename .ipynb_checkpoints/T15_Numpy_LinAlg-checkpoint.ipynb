{
 "cells": [
  {
   "cell_type": "markdown",
   "metadata": {},
   "source": [
    "# Python de cero a experto\n",
    "**Autor:** Luis Miguel de la Cruz Salas\n",
    "\n",
    "<a href=\"https://github.com/luiggix/Python_cero_a_experto\">Python de cero a experto</a> by Luis M. de la Cruz Salas is licensed under <a href=\"https://creativecommons.org/licenses/by-nc-nd/4.0?ref=chooser-v1\">Attribution-NonCommercial-NoDerivatives 4.0 International</a>"
   ]
  },
  {
   "cell_type": "markdown",
   "metadata": {},
   "source": [
    "## Unirvesal Functions (*ufunc*)"
   ]
  },
  {
   "cell_type": "markdown",
   "metadata": {},
   "source": [
    "Una función universal (*ufunc*) es aquella que opera sobre arreglos de numpy (´ndarrays´) elemento por elemento, soportando *broadcasting* y *casting*, entre otras características estándares. \n",
    "\n",
    "- Se dice que una *ufunc* es un envoltorio (*wrapper*) vectorizado para una función que toma un número fijo de entradas específicas y produce un número de salidas específicas.\n",
    "\n",
    "- En NumPy, las funciones universales son objetos de la clase ´numpy.ufunc´. \n",
    "\n",
    "- Muchas de estas funciones están implementadas y compiladas en lenguaje C. \n",
    "\n",
    "- Las *ufunc* básicas operan sobre escalares, pero existe también un tipo generalizado para el cual los elementos básicos son subarreglos (vectores, matrices, etc.) y se realiza un *broadcasting* sobre las otras dimensiones. "
   ]
  },
  {
   "cell_type": "markdown",
   "metadata": {},
   "source": [
    "### Broadcasting\n",
    "La siguiente figura muestra varios tipo de *broadcasting* que se aplican en los arreglos y funciones de Numpy. \n",
    "\n",
    "<img src=\"./Figuras/Broadcasting.png\"  style=\"width: 500px;\"/>\n",
    "\n",
    "**Observación**: Los cuadros en gris tenue son usados para mostrar el concepto de *broadcasting*, pero no se reserva memoria para ellos."
   ]
  },
  {
   "cell_type": "code",
   "execution_count": null,
   "metadata": {},
   "outputs": [],
   "source": [
    "import numpy as np\n",
    "import matplotlib.pyplot as plt"
   ]
  },
  {
   "cell_type": "code",
   "execution_count": null,
   "metadata": {},
   "outputs": [],
   "source": [
    "x = np.arange(3)\n",
    "x"
   ]
  },
  {
   "cell_type": "code",
   "execution_count": null,
   "metadata": {},
   "outputs": [],
   "source": [
    "y = x + 5\n",
    "y"
   ]
  },
  {
   "cell_type": "code",
   "execution_count": null,
   "metadata": {},
   "outputs": [],
   "source": [
    "matriz = np.ones((3,3))\n",
    "matriz"
   ]
  },
  {
   "cell_type": "code",
   "execution_count": null,
   "metadata": {},
   "outputs": [],
   "source": [
    "vector = np.arange(3)\n",
    "vector"
   ]
  },
  {
   "cell_type": "code",
   "execution_count": null,
   "metadata": {},
   "outputs": [],
   "source": [
    "matriz + vector"
   ]
  },
  {
   "cell_type": "code",
   "execution_count": null,
   "metadata": {},
   "outputs": [],
   "source": [
    "columna = np.arange(3).reshape(3,1)\n",
    "columna"
   ]
  },
  {
   "cell_type": "code",
   "execution_count": null,
   "metadata": {},
   "outputs": [],
   "source": [
    "renglon = np.arange(3)\n",
    "renglon"
   ]
  },
  {
   "cell_type": "code",
   "execution_count": null,
   "metadata": {},
   "outputs": [],
   "source": [
    "columna + renglon"
   ]
  },
  {
   "cell_type": "code",
   "execution_count": null,
   "metadata": {},
   "outputs": [],
   "source": [
    "columna * renglon"
   ]
  },
  {
   "cell_type": "markdown",
   "metadata": {},
   "source": [
    "**Reglas del broadcasting**<br>\n",
    "\n",
    "Para determinar la interacción entre dos arreglos, en Numpy se siguen las siguientes reglas:\n",
    "\n",
    "* **Regla 1**. Si dos arreglos difieren en sus dimensiones, el *shape* del que tiene menos dimensiones es completado con unos sobre su lado izquierdo\n",
    "* **Regla 2**. Si el *shape* de los dos arreglos no coincide en alguna dimensión, el arreglo con el *shape* igual a 1  se completa para que coincida con el *shape* del otro arreglo.\n",
    "* **Regla 3**. Si el *shape* de los dos arreglos no coincide en alguna dimensión, pero ninguna de las dos es igual a 1 entonces se tendrá un error del estilo:\n",
    "\n",
    "```python\n",
    "ValueError: operands could not be broadcast together with shapes (4,3) (4,) \n",
    "```"
   ]
  },
  {
   "cell_type": "markdown",
   "metadata": {},
   "source": [
    "#### Ejemplo 1."
   ]
  },
  {
   "cell_type": "code",
   "execution_count": null,
   "metadata": {},
   "outputs": [],
   "source": [
    "Mat = np.ones((3,2))\n",
    "b = np.arange(2)\n",
    "print(Mat.shape)\n",
    "print(b.shape)"
   ]
  },
  {
   "cell_type": "markdown",
   "metadata": {},
   "source": [
    "Cuando se vaya a realizar una operación con estos dos arreglos, por la **Regla 1** lo que Numpy hará internamente es:\n",
    "```\n",
    "Mat.shape <--- (3,2)\n",
    "b.shape   <--- (1,2)\n",
    "```\n",
    "\n",
    "Luego, por la **Regla 2** se completa la dimensión del *shape* del arreglo `b` que sea igual 1:\n",
    "```\n",
    "Mat.shape <--- (3,2)\n",
    "b.shape   <--- (2,2)\n",
    "```\n",
    "De esta manera es posible realizar operaciones entre ambos arreglos:"
   ]
  },
  {
   "cell_type": "code",
   "execution_count": null,
   "metadata": {},
   "outputs": [],
   "source": [
    "Mat + b"
   ]
  },
  {
   "cell_type": "code",
   "execution_count": null,
   "metadata": {},
   "outputs": [],
   "source": [
    "Mat * b"
   ]
  },
  {
   "cell_type": "markdown",
   "metadata": {},
   "source": [
    "#### Ejemplo 2."
   ]
  },
  {
   "cell_type": "code",
   "execution_count": null,
   "metadata": {},
   "outputs": [],
   "source": [
    "Mat = np.ones((3,1))\n",
    "b = np.arange(4)\n",
    "print(Mat.shape)\n",
    "print(b.shape)"
   ]
  },
  {
   "cell_type": "markdown",
   "metadata": {},
   "source": [
    "Por la **Regla 1** lo que Numpy hará internamente es:\n",
    "```\n",
    "Mat.shape <--- (3,1)\n",
    "b.shape   <--- (1,4)\n",
    "```\n",
    "\n",
    "Por la **Regla 2** se completan las dimensiones de los arreglos que sean igual 1:\n",
    "```\n",
    "Mat.shape <--- (3,4)\n",
    "b.shape   <--- (3,4)\n",
    "```\n",
    "De esta manera es posible realizar operaciones entre ambos arreglos:"
   ]
  },
  {
   "cell_type": "code",
   "execution_count": null,
   "metadata": {},
   "outputs": [],
   "source": [
    "Mat + b"
   ]
  },
  {
   "cell_type": "markdown",
   "metadata": {},
   "source": [
    "#### Ejemplo 3."
   ]
  },
  {
   "cell_type": "code",
   "execution_count": null,
   "metadata": {},
   "outputs": [],
   "source": [
    "Mat = np.ones((4,3))\n",
    "b = np.arange(4)\n",
    "print(Mat.shape)\n",
    "print(b.shape)"
   ]
  },
  {
   "cell_type": "markdown",
   "metadata": {},
   "source": [
    "Por la **Regla 1** lo que Numpy hará internamente es:\n",
    "```\n",
    "Mat.shape <--- (4,3)\n",
    "b.shape   <--- (1,4)\n",
    "```\n",
    "\n",
    "Por la **Regla 2** se completan las dimensiones de los arreglos que sean igual 1:\n",
    "```\n",
    "Mat.shape <--- (4,3)\n",
    "b.shape   <--- (4,4)\n",
    "```\n",
    "Observe que en este caso los shapes de los arreglos no coinciden, por lo que no será posible operar con ellos juntos."
   ]
  },
  {
   "cell_type": "code",
   "execution_count": null,
   "metadata": {},
   "outputs": [],
   "source": [
    "Mat + b"
   ]
  },
  {
   "cell_type": "markdown",
   "metadata": {},
   "source": [
    "### Ufunc disponibles en Numpy\n",
    "Para una lista completa de todas las funciones universales disponibles en Numpy refierase al siguiente sitio:\n",
    "https://numpy.org/doc/stable/reference/ufuncs.html#available-ufuncs ."
   ]
  },
  {
   "cell_type": "markdown",
   "metadata": {},
   "source": [
    "#### Ejemplo 4."
   ]
  },
  {
   "cell_type": "code",
   "execution_count": null,
   "metadata": {},
   "outputs": [],
   "source": [
    "x = np.arange(0, 2*np.pi, 0.1)\n",
    "y = np.sin(x)\n",
    "plt.plot(x,y)"
   ]
  },
  {
   "cell_type": "markdown",
   "metadata": {},
   "source": [
    "#### Ejemplo 5."
   ]
  },
  {
   "cell_type": "code",
   "execution_count": null,
   "metadata": {},
   "outputs": [],
   "source": [
    "x = np.linspace(0, 10, 100)                # Vector renglón\n",
    "y = np.linspace(0, 10, 100)[:, np.newaxis] # Vector columna\n",
    "z = x * y\n",
    "print(f' x.shape = {x.shape} \\n y.shape = {y.shape} \\n z.shape = {z.shape}')"
   ]
  },
  {
   "cell_type": "code",
   "execution_count": null,
   "metadata": {},
   "outputs": [],
   "source": [
    "i = plt.imshow(z)\n",
    "plt.colorbar(i)"
   ]
  },
  {
   "cell_type": "code",
   "execution_count": null,
   "metadata": {},
   "outputs": [],
   "source": [
    "z = np.sin(x) ** 10 + np.cos(10 + y * x) * np.cos(x)\n",
    "print(f' x.shape = {x.shape} \\n y.shape = {y.shape} \\n z.shape = {z.shape}')\n",
    "i = plt.imshow(z)\n",
    "plt.colorbar(i)"
   ]
  },
  {
   "cell_type": "markdown",
   "metadata": {},
   "source": [
    "## Álgebra lineal"
   ]
  },
  {
   "cell_type": "code",
   "execution_count": null,
   "metadata": {},
   "outputs": [],
   "source": [
    "A = np.linspace(1,9,9).reshape(3,3)\n",
    "B = np.linspace(1,9,9).reshape(3,3)\n",
    "a = np.linspace(1,3,3)\n",
    "b = np.linspace(1,3,3)\n",
    "print(A)\n",
    "print(B)\n",
    "print(a)\n",
    "print(b)"
   ]
  },
  {
   "cell_type": "code",
   "execution_count": null,
   "metadata": {},
   "outputs": [],
   "source": [
    "A.T # Transpuesta de la matriz"
   ]
  },
  {
   "cell_type": "code",
   "execution_count": null,
   "metadata": {},
   "outputs": [],
   "source": [
    "a * b # Producto de dos vectores elemento por elemento"
   ]
  },
  {
   "cell_type": "code",
   "execution_count": null,
   "metadata": {},
   "outputs": [],
   "source": [
    "A * B # Producto de dos matrices elemento por elemento"
   ]
  },
  {
   "cell_type": "code",
   "execution_count": null,
   "metadata": {},
   "outputs": [],
   "source": [
    "np.dot(a,b) # Producto punto de dos vectores"
   ]
  },
  {
   "cell_type": "code",
   "execution_count": null,
   "metadata": {},
   "outputs": [],
   "source": [
    "a @ b # Producto punto de dos vectores"
   ]
  },
  {
   "cell_type": "code",
   "execution_count": null,
   "metadata": {},
   "outputs": [],
   "source": [
    "np.dot(A,b) # Producto matriz - vector"
   ]
  },
  {
   "cell_type": "code",
   "execution_count": null,
   "metadata": {},
   "outputs": [],
   "source": [
    "A @ b # Producto matriz - vector"
   ]
  },
  {
   "cell_type": "code",
   "execution_count": null,
   "metadata": {},
   "outputs": [],
   "source": [
    "np.dot(A,B) # Producto matriz - matriz"
   ]
  },
  {
   "cell_type": "code",
   "execution_count": null,
   "metadata": {},
   "outputs": [],
   "source": [
    "A @ B  # Producto matriz - matriz"
   ]
  },
  {
   "cell_type": "code",
   "execution_count": null,
   "metadata": {},
   "outputs": [],
   "source": [
    "c = b[:,np.newaxis] # Agregamos una dimension al vector (vector columna)\n",
    "print(c.shape)\n",
    "print(c)"
   ]
  },
  {
   "cell_type": "code",
   "execution_count": null,
   "metadata": {},
   "outputs": [],
   "source": [
    "c * a # Producto externo: vector columna por vector renglón"
   ]
  },
  {
   "cell_type": "markdown",
   "metadata": {},
   "source": [
    "### Paquete `linalg`\n",
    "\n",
    "Esta biblioteca ofrece varios algorimos para aplicarlos sobre arreglos de numpy (véa <a href=\"https://numpy.org/doc/stable/reference/routines.linalg.html\">aquí</a> la referencia).\n",
    "Todas operaciones de álgebra lineal de Numpy se basan en las bibliotecas\n",
    "BLAS (<a href=\"http://www.netlib.org/blas/\">Basic Linear Algebra Suprograms</a> ) y \n",
    "LAPACK (<a href=\"http://www.netlib.org/lapack/\">Linear Algebra Package </a>) para proveer de implementaciones eficientes de bajo nivel de los algoritmos estándares. \n",
    "\n",
    "Estas biblioteca pueden proveer de versiones altamente optimizadas para aprovechar el hardware óptimamente (multihilos y multiprocesador). En estos casos se hace uso de bibliotecas tales como OpenBLAS, MKL (TM), y/o ATLAS."
   ]
  },
  {
   "cell_type": "code",
   "execution_count": null,
   "metadata": {},
   "outputs": [],
   "source": [
    "np.show_config() # Para conocer la configuración del Numpy que tengo instalado"
   ]
  },
  {
   "cell_type": "markdown",
   "metadata": {},
   "source": [
    "#### Ejemplo 6."
   ]
  },
  {
   "cell_type": "markdown",
   "metadata": {},
   "source": [
    "Cruce de dos rectas:<br>\n",
    "\n",
    "$\n",
    "\\begin{array}{ccc}\n",
    "3x_0 + 2x_1 & = &2 \\\\\n",
    "2x_0 + 6x_1 & = &-8\n",
    "\\end{array}\n",
    "$\n",
    "\n",
    "En forma de sistema lineal:\n",
    "\n",
    "$\n",
    "\\left[\n",
    "\\begin{array}{cc}\n",
    "3 & 2 \\\\\n",
    "2 & 6\n",
    "\\end{array} \\right]\n",
    "$\n",
    "$\n",
    "\\left[\n",
    "\\begin{array}{c}\n",
    "x_{0} \\\\\n",
    "x_{1}\n",
    "\\end{array} \\right] =\n",
    "$\n",
    "$\n",
    "\\left[\n",
    "\\begin{array}{c}\n",
    "2 \\\\ \n",
    "-8\n",
    "\\end{array} \\right]\n",
    "$\n",
    "\n",
    "Podemos calcular el cruce de las rectas resolviendo el sistema lineal:"
   ]
  },
  {
   "cell_type": "code",
   "execution_count": null,
   "metadata": {},
   "outputs": [],
   "source": [
    "A = np.array([[3, 2],[2,6]] )\n",
    "b = np.array([2,-8])\n",
    "print(\"Matriz A : \\n\",A)\n",
    "print(\"Vector b : \\n\", b)\n",
    "sol = np.linalg.solve(A,b) # Función del módulo linalg para resolver el sistema\n",
    "print(\"Solución del sistema: \", sol)"
   ]
  },
  {
   "cell_type": "markdown",
   "metadata": {},
   "source": [
    "**Graficamos las rectas y la solución:**\n",
    "\n",
    "Las ecuaciones de las rectas se pueden escribir como:\n",
    "\n",
    "$\n",
    "\\begin{array}{ccc}\n",
    "\\dfrac{3}{2}x_0 + x_1 & = & \\dfrac{2}{2} \\\\\n",
    "\\dfrac{2}{6}x_0 + x_1 & = & -\\dfrac{8}{6}\n",
    "\\end{array} \\Longrightarrow\n",
    "\\begin{array}{ccc}\n",
    "y_0 = m_0 x + b_0 \\\\\n",
    "y_1 = m_1 x + b_1\n",
    "\\end{array} \\text{ donde }\n",
    "\\begin{array}{ccc}\n",
    "m_0 = -\\dfrac{3}{2} & b_0 = 1 \\\\\n",
    "m_1 = -\\dfrac{2}{6} & b_1 = -\\dfrac{8}{6}\n",
    "\\end{array}\n",
    "$"
   ]
  },
  {
   "cell_type": "code",
   "execution_count": null,
   "metadata": {},
   "outputs": [],
   "source": [
    "def graficaRectas(x, y0, y1, sol):\n",
    "    plt.plot(x,y0,lw=3,label = '$3x_0+2x_1=2$')\n",
    "    plt.plot(x,y1,lw=3,label = '$2x_0+6x_1=-8$')\n",
    "    plt.scatter(sol[0], sol[1], c='red', s = 75, alpha=0.75, zorder=5, label='Solución')\n",
    "    plt.xlabel('$x_0$')\n",
    "    plt.ylabel('$x_1$')\n",
    "    plt.title('Cruce de rectas')\n",
    "    plt.grid()\n",
    "    plt.legend()"
   ]
  },
  {
   "cell_type": "code",
   "execution_count": null,
   "metadata": {},
   "outputs": [],
   "source": [
    "m0 = -3/2\n",
    "b0 = 1\n",
    "m1 = -2/6\n",
    "b1 = -8/6\n",
    "x = np.linspace(-1,4,10)\n",
    "y0 = m0 * x + b0\n",
    "y1 = m1 * x + b1 \n",
    "\n",
    "graficaRectas(x, y0, y1, sol)"
   ]
  },
  {
   "cell_type": "code",
   "execution_count": null,
   "metadata": {},
   "outputs": [],
   "source": [
    "eigen = np.linalg.eig(A)\n",
    "eigen"
   ]
  },
  {
   "cell_type": "code",
   "execution_count": null,
   "metadata": {},
   "outputs": [],
   "source": [
    "def dibujaEigen(eigen, sol):\n",
    "    xv,yv = np.meshgrid([sol[0], sol[0]],[sol[1], sol[1]])\n",
    "    u = np.hstack( (eigen[1][0], np.array([0, 0])) ) \n",
    "    v = np.hstack( (eigen[1][1], np.array([0, 0])) )   \n",
    "    vec = plt.quiver(xv,yv,u,v,scale=10, zorder=5)"
   ]
  },
  {
   "cell_type": "code",
   "execution_count": null,
   "metadata": {},
   "outputs": [],
   "source": [
    "dibujaEigen(eigen, sol)\n",
    "graficaRectas(x, y0, y1, sol)"
   ]
  },
  {
   "cell_type": "markdown",
   "metadata": {},
   "source": [
    "### Forma cuadrática\n",
    "\n",
    "$ f(x) = \\dfrac{1}{2} \\mathbf{x}^T A \\mathbf{x} - \\mathbf{x}^T \\mathbf{b} + c $\n",
    "\n",
    "$\n",
    "A =\n",
    "\\left[\n",
    "\\begin{array}{cc}\n",
    "3 & 2 \\\\\n",
    "2 & 6\n",
    "\\end{array} \\right],\n",
    "x =\n",
    "\\left[\n",
    "\\begin{array}{c}\n",
    "x_{0} \\\\\n",
    "x_{1}\n",
    "\\end{array} \\right],\n",
    "b =\n",
    "\\left[\n",
    "\\begin{array}{c}\n",
    "2\\\\ -8\n",
    "\\end{array}\n",
    "\\right], \n",
    "c =\n",
    "\\left[\n",
    "\\begin{array}{c}\n",
    "0\\\\ 0\n",
    "\\end{array}\n",
    "\\right], \n",
    "$\n",
    "\n",
    "$ f^\\prime(x) = \\dfrac{1}{2} A^T \\mathbf{x} + \\dfrac{1}{2} A \\mathbf{x} - \\mathbf{b} $\n",
    "\n",
    "- Cuando $A$ es simétrica: $ f^\\prime(x) = A \\mathbf{x} - \\mathbf{b} $\n",
    "- Entonces un punto crítico de $f(x)$ se obtiene cuando $ f^\\prime(x) = A \\mathbf{x} - \\mathbf{b} = 0$, es decir cuando $A \\mathbf{x} = \\mathbf{b}$\n"
   ]
  },
  {
   "cell_type": "code",
   "execution_count": null,
   "metadata": {},
   "outputs": [],
   "source": [
    "from mpl_toolkits.mplot3d import Axes3D\n",
    "\n",
    "def dibujaSurf(A,b):\n",
    "    def f(A,b,x,c):\n",
    "        return 0.5 * (x.T * A * x) - b.T * x + c\n",
    "\n",
    "    size_grid = 30\n",
    "    x1 = np.linspace(-3,6,size_grid)\n",
    "    y1 = np.linspace(-6,3,size_grid)\n",
    "\n",
    "    xg,yg = np.meshgrid(x1,y1)\n",
    "    z = np.zeros((size_grid, size_grid))\n",
    "\n",
    "    for i in range(size_grid):\n",
    "        for j in range(size_grid):\n",
    "            x = np.matrix([[xg[i,j]],[yg[i,j]]])\n",
    "            z[i,j] = f(A,b,x,0)\n",
    "            \n",
    "    fig = plt.figure()\n",
    "    surf = fig.gca(projection='3d')\n",
    "    surf.plot_surface(xg,yg,z,rstride=1,cstride=1, alpha=1.0, cmap='viridis')\n",
    "    surf.view_init(15, 130)\n",
    "    surf.set_xlabel('$x_0$')\n",
    "    surf.set_ylabel('$x_1$')\n",
    "    surf.set_zlabel('$f$')\n",
    "    return xg, yg, z"
   ]
  },
  {
   "cell_type": "code",
   "execution_count": null,
   "metadata": {},
   "outputs": [],
   "source": [
    "xg,yg,z = dibujaSurf(A,b)"
   ]
  },
  {
   "cell_type": "code",
   "execution_count": null,
   "metadata": {},
   "outputs": [],
   "source": [
    "dibujaEigen(eigen, sol)\n",
    "graficaRectas(x, y0, y1, sol)\n",
    "cont = plt.contour(xg,yg,z,30,cmap='binary')"
   ]
  },
  {
   "cell_type": "markdown",
   "metadata": {},
   "source": [
    "**Algoritmo del descenso del gradiente** <br>\n",
    "$\n",
    "\\begin{array}{l}\n",
    "\\text{Input} : \\mathbf{x}_0, tol \\\\\n",
    "\\mathbf{r}_0 = \\mathbf{b}-A\\mathbf{x}_0 \\\\\n",
    "k = 0 \\\\\n",
    "\\text{WHILE}(\\mathbf{r}_k > tol) \\\\\n",
    "\\qquad \\mathbf{r}_k \\leftarrow \\mathbf{b}-A\\mathbf{x}_k \\\\\n",
    "\\qquad \\alpha_k \\leftarrow \\dfrac{\\mathbf{r}_k^T\\mathbf{r}_k}{\\mathbf{r}_k^T A \\mathbf{r}_k} \\\\\n",
    "\\qquad \\mathbf{x}_{k+1} \\leftarrow \\mathbf{x}_k + \\alpha_k \\mathbf{r}_k \\\\\n",
    "\\qquad k \\leftarrow k + 1 \\\\\n",
    "\\text{ENDWHILE}\n",
    "\\end{array}\n",
    "$"
   ]
  },
  {
   "cell_type": "code",
   "execution_count": null,
   "metadata": {},
   "outputs": [],
   "source": [
    "def steepest(A,b,x,tol,kmax):\n",
    "    steps = [[x[0,0], x[1,0]]]\n",
    "    r = b - A @ x\n",
    "    res = np.linalg.norm(r)\n",
    "    k = 0\n",
    "    while(res > tol and k < kmax):\n",
    "        alpha = r.T @ r / (r.T @ A @ r)\n",
    "        x = x + r * alpha\n",
    "        steps.append([x[0,0],x[1,0]])\n",
    "        r = b - A @ x\n",
    "        res = np.linalg.norm(r)\n",
    "        k += 1\n",
    "        print(k, res)\n",
    "    return x, steps"
   ]
  },
  {
   "cell_type": "code",
   "execution_count": null,
   "metadata": {},
   "outputs": [],
   "source": [
    "xini = np.array([-2.0,-2.0])\n",
    "tol = 0.001\n",
    "kmax = 20\n",
    "\n",
    "xs, pasos = steepest(A,b[:,np.newaxis],xini[:,np.newaxis],tol,kmax)"
   ]
  },
  {
   "cell_type": "code",
   "execution_count": null,
   "metadata": {},
   "outputs": [],
   "source": [
    "def dibujaPasos(xi, sol, pasos):\n",
    "    pasos = np.matrix(pasos)\n",
    "    plt.plot(pasos[:,0],pasos[:,1],'-')\n",
    "    plt.scatter(xi[0], xi[1], c='yellow', s = 75, alpha=0.75, zorder=5, label='Solución')\n",
    "    plt.scatter(sol[0], sol[1], c='red', s = 75, alpha=0.75, zorder=5, label='Solución')"
   ]
  },
  {
   "cell_type": "code",
   "execution_count": null,
   "metadata": {},
   "outputs": [],
   "source": [
    "dibujaEigen(eigen, sol)\n",
    "graficaRectas(x, y0, y1, sol)\n",
    "cont = plt.contour(xg,yg,z,30,cmap='binary')\n",
    "dibujaPasos(xini, sol, pasos)"
   ]
  },
  {
   "cell_type": "code",
   "execution_count": null,
   "metadata": {},
   "outputs": [],
   "source": []
  }
 ],
 "metadata": {
  "kernelspec": {
   "display_name": "Python 3",
   "language": "python",
   "name": "python3"
  },
  "language_info": {
   "codemirror_mode": {
    "name": "ipython",
    "version": 3
   },
   "file_extension": ".py",
   "mimetype": "text/x-python",
   "name": "python",
   "nbconvert_exporter": "python",
   "pygments_lexer": "ipython3",
   "version": "3.8.5"
  }
 },
 "nbformat": 4,
 "nbformat_minor": 4
}
