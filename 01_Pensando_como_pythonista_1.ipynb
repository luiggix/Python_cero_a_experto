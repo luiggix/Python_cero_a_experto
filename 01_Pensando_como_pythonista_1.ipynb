{
 "cells": [
  {
   "cell_type": "markdown",
   "metadata": {},
   "source": [
    "# Python de cero a experto\n",
    "**Autor:** Luis Miguel de la Cruz Salas\n",
    "\n",
    "<a href=\"https://github.com/luiggix/Python_cero_a_experto\">Python de cero a experto</a> by Luis M. de la Cruz Salas is licensed under <a href=\"https://creativecommons.org/licenses/by-nc-nd/4.0?ref=chooser-v1\">Attribution-NonCommercial-NoDerivatives 4.0 International</a>\n",
    "\n",
    "\n",
    "**Objetivos.**\n",
    "Revisar los conceptos de objetos, etiquetas (nombres, variables), identidad, tipado dinámico,  funciones de la biblioteca estándar, estado interno y comportamiento.\n",
    "\n",
    "**Instrucciones.**\n",
    "\n",
    "1. Para ejecutar una celda teclear: [Shift + Enter] <br>\n",
    "2. Cuando se modifica el código de cualquier celda, se debe re-ejecutar la celda. <br> \n",
    "3. Las celdas que dependan de una celda modificada, se deben re-ejecutar. <br>\n",
    "4. Cuando tenemos el nombre de una función de biblioteca, si ubicamos el cursor sobre el nombre y tecleamos [Shift + Tab] obtendremos ayuda sobre dicha función.<br>\n",
    "5. Lo anterior aplica a funciones definidas por el usuario, siempre y cuando se haya documentado con *docstring*.<br>\n",
    "6. Cuando tecleamos el nombre de un objeto, previamente definido, y le agregamos un '.' podemos en ese momento teclear el [Tab] para obtener ayuda sobre su comportamiento."
   ]
  },
  {
   "cell_type": "markdown",
   "metadata": {},
   "source": [
    "## Objetos, Etiquetas e Identidad."
   ]
  },
  {
   "cell_type": "markdown",
   "metadata": {},
   "source": [
    "En Python, todo lo que se crea es un **objeto**.\n",
    "\n",
    "En la celda que sigue, teclear lo siguiente: \n",
    "```python\n",
    "a = 1\n",
    "```"
   ]
  },
  {
   "cell_type": "code",
   "execution_count": null,
   "metadata": {},
   "outputs": [],
   "source": [
    "a = 1 "
   ]
  },
  {
   "cell_type": "markdown",
   "metadata": {},
   "source": [
    "Acabamos de crear uno objeto!\n",
    "- El objeto es `1` \n",
    "- La etiqueta con que identificamos ese objeto es la letra `a` (nombre del objeto)\n",
    "\n",
    "Cuando se pone el nombre del objeto `a` en una celda y se ejecuta, generalmente se obtiene su contenido o su tipo, veamos:"
   ]
  },
  {
   "cell_type": "code",
   "execution_count": null,
   "metadata": {},
   "outputs": [],
   "source": [
    "a "
   ]
  },
  {
   "cell_type": "markdown",
   "metadata": {},
   "source": [
    "Para saber de qué tipo es el objeto, usamos la función `type(a)`"
   ]
  },
  {
   "cell_type": "code",
   "execution_count": null,
   "metadata": {},
   "outputs": [],
   "source": [
    "type(a)"
   ]
  },
  {
   "cell_type": "markdown",
   "metadata": {},
   "source": [
    "Observamos que el objeto cuyo nombre es `a` es de tipo `int` (entero)\n",
    "\n",
    "La función `id()` devuelve la identidad del objeto `a` en la memoria de la computadora"
   ]
  },
  {
   "cell_type": "code",
   "execution_count": null,
   "metadata": {},
   "outputs": [],
   "source": [
    "id(a)"
   ]
  },
  {
   "cell_type": "markdown",
   "metadata": {},
   "source": [
    "Creamos ahora el objeto `2` y lo etiquetamos con `a` y luego preguntamos el tipo y la identidad del objeto:"
   ]
  },
  {
   "cell_type": "code",
   "execution_count": null,
   "metadata": {},
   "outputs": [],
   "source": [
    "a = 2 "
   ]
  },
  {
   "cell_type": "code",
   "execution_count": null,
   "metadata": {},
   "outputs": [],
   "source": [
    "type(a)"
   ]
  },
  {
   "cell_type": "code",
   "execution_count": null,
   "metadata": {},
   "outputs": [],
   "source": [
    "id(a) "
   ]
  },
  {
   "cell_type": "markdown",
   "metadata": {},
   "source": [
    "¿Qué pasó con el objeto `1`?"
   ]
  },
  {
   "cell_type": "markdown",
   "metadata": {},
   "source": [
    "Podemos darle otro nombre al objeto etiquetado previamente con el nombre `a`"
   ]
  },
  {
   "cell_type": "code",
   "execution_count": null,
   "metadata": {},
   "outputs": [],
   "source": [
    "b = a "
   ]
  },
  {
   "cell_type": "code",
   "execution_count": null,
   "metadata": {},
   "outputs": [],
   "source": [
    "id(b)"
   ]
  },
  {
   "cell_type": "markdown",
   "metadata": {},
   "source": [
    "Obsérvese que `b` y `a` tienen el mismo identificador, lo que significa que el objeto al que \"apuntan\" es el mismo. ¿A qué objeto hacen referencia `a` y `b`? Para saberlo, usamos las funciones `type()` y `print()`:"
   ]
  },
  {
   "cell_type": "code",
   "execution_count": null,
   "metadata": {},
   "outputs": [],
   "source": [
    "type(a)"
   ]
  },
  {
   "cell_type": "code",
   "execution_count": null,
   "metadata": {},
   "outputs": [],
   "source": [
    "type(b)"
   ]
  },
  {
   "cell_type": "code",
   "execution_count": null,
   "metadata": {},
   "outputs": [],
   "source": [
    "print(a,b)"
   ]
  },
  {
   "cell_type": "markdown",
   "metadata": {},
   "source": [
    "Observamos que el objeto al que hacen referencia es el entero `2`.\n",
    "\n",
    "¿Quá pasa si hacemos `a = 5`?"
   ]
  },
  {
   "cell_type": "code",
   "execution_count": null,
   "metadata": {},
   "outputs": [],
   "source": [
    "a = 5"
   ]
  },
  {
   "cell_type": "code",
   "execution_count": null,
   "metadata": {},
   "outputs": [],
   "source": [
    "print(a,b)"
   ]
  },
  {
   "cell_type": "code",
   "execution_count": null,
   "metadata": {},
   "outputs": [],
   "source": [
    "id(a)"
   ]
  },
  {
   "cell_type": "code",
   "execution_count": null,
   "metadata": {},
   "outputs": [],
   "source": [
    "id(b)"
   ]
  },
  {
   "cell_type": "markdown",
   "metadata": {},
   "source": [
    "Ahora hagamos `c=b` y consultemos el tipo e identificador de `a`, `b` y `c`:"
   ]
  },
  {
   "cell_type": "code",
   "execution_count": null,
   "metadata": {},
   "outputs": [],
   "source": [
    "c = b\n",
    "c"
   ]
  },
  {
   "cell_type": "code",
   "execution_count": null,
   "metadata": {},
   "outputs": [],
   "source": [
    "print(type(a), type(b), type(c))"
   ]
  },
  {
   "cell_type": "code",
   "execution_count": null,
   "metadata": {},
   "outputs": [],
   "source": [
    "print(id(a), id(b), id(c))"
   ]
  },
  {
   "cell_type": "markdown",
   "metadata": {},
   "source": [
    "Es posible eliminar etiquetas usando la función `del()`"
   ]
  },
  {
   "cell_type": "code",
   "execution_count": null,
   "metadata": {},
   "outputs": [],
   "source": [
    "del(c)"
   ]
  },
  {
   "cell_type": "code",
   "execution_count": null,
   "metadata": {},
   "outputs": [],
   "source": [
    "c"
   ]
  },
  {
   "cell_type": "code",
   "execution_count": null,
   "metadata": {},
   "outputs": [],
   "source": [
    "print(a, b)"
   ]
  },
  {
   "cell_type": "code",
   "execution_count": null,
   "metadata": {},
   "outputs": [],
   "source": [
    "print(type(a), type(b))"
   ]
  },
  {
   "cell_type": "code",
   "execution_count": null,
   "metadata": {},
   "outputs": [],
   "source": [
    "print(id(a), id(b))"
   ]
  },
  {
   "cell_type": "markdown",
   "metadata": {},
   "source": [
    "## Tipado dinámico\n",
    "\n",
    "Podemos crear objetos de muchos tipos y el tipo del objeto se determina en el momento de su creación. Por ejemplo:"
   ]
  },
  {
   "cell_type": "code",
   "execution_count": null,
   "metadata": {},
   "outputs": [],
   "source": [
    "o = 100\n",
    "print(type(o), id(o), o)"
   ]
  },
  {
   "cell_type": "code",
   "execution_count": null,
   "metadata": {},
   "outputs": [],
   "source": [
    "o = 3.141592\n",
    "print(type(o), id(o), o)"
   ]
  },
  {
   "cell_type": "code",
   "execution_count": null,
   "metadata": {},
   "outputs": [],
   "source": [
    "o = 'Hola Mundo Pythonico!'\n",
    "print(type(o), id(o), len(o), o)"
   ]
  },
  {
   "cell_type": "markdown",
   "metadata": {},
   "source": [
    "En los tres ejemplos anteriores observamos que `o` hace referencia a objetos de tipos diferentes, y ese tipo se conoce cuando se crea el objeto. Entonces, el tipo de un objeto se determina en el momento de su creación. A esto se le conoce como *tipado dinámico*."
   ]
  },
  {
   "cell_type": "markdown",
   "metadata": {},
   "source": [
    "## Funciones de la biblioteca estándar"
   ]
  },
  {
   "cell_type": "markdown",
   "metadata": {},
   "source": [
    "Las funciones que hemos estado usando hasta ahora `type()`, `id()`, `print()`, `len()` son funciones de la biblioteca estándar (*Built-in-functions*) que se pueden usar directamente. Puede encontrar una lista de estas funciones en <a href=\"https://docs.python.org/3.8/library/functions.html\">Built-in Functions</a> (se pueden ver las funciones de diferentes versiones de Python).\n",
    "\n",
    "Una función que proporciona ayuda es `help()`, por ejemplo:"
   ]
  },
  {
   "cell_type": "code",
   "execution_count": null,
   "metadata": {},
   "outputs": [],
   "source": [
    "help(print)"
   ]
  },
  {
   "cell_type": "markdown",
   "metadata": {},
   "source": [
    "También se puede obtener ayuda si ponemos el cursor en la función y tecleamos [Shift+Tab], por ejemplo:"
   ]
  },
  {
   "cell_type": "code",
   "execution_count": null,
   "metadata": {},
   "outputs": [],
   "source": [
    "print"
   ]
  },
  {
   "cell_type": "markdown",
   "metadata": {},
   "source": [
    "Las funciones de la biblioteca estándar reciben como parámetros objetos de distintos tipos. Algunas de ellas no funcionan con ciertos tipos de objetos, por ejemplo:"
   ]
  },
  {
   "cell_type": "code",
   "execution_count": null,
   "metadata": {},
   "outputs": [],
   "source": [
    "print(o, len(o))"
   ]
  },
  {
   "cell_type": "code",
   "execution_count": null,
   "metadata": {},
   "outputs": [],
   "source": [
    "p = 3.1416"
   ]
  },
  {
   "cell_type": "code",
   "execution_count": null,
   "metadata": {},
   "outputs": [],
   "source": [
    "print(p, len(p))"
   ]
  },
  {
   "cell_type": "code",
   "execution_count": null,
   "metadata": {},
   "outputs": [],
   "source": [
    "help(len)"
   ]
  },
  {
   "cell_type": "markdown",
   "metadata": {},
   "source": [
    "Cualquier función en Python, también es un objeto:"
   ]
  },
  {
   "cell_type": "code",
   "execution_count": null,
   "metadata": {},
   "outputs": [],
   "source": [
    "print"
   ]
  },
  {
   "cell_type": "code",
   "execution_count": null,
   "metadata": {},
   "outputs": [],
   "source": [
    "print, len, type, id"
   ]
  },
  {
   "cell_type": "code",
   "execution_count": null,
   "metadata": {},
   "outputs": [],
   "source": [
    "print(print, type)"
   ]
  },
  {
   "cell_type": "markdown",
   "metadata": {},
   "source": [
    "## Estado interno y comportamiento de los objetos\n",
    "\n",
    "Los objetos tienen dos características importantes:\n",
    "1. estado interno y\n",
    "2. comportamiento."
   ]
  },
  {
   "cell_type": "code",
   "execution_count": 1,
   "metadata": {},
   "outputs": [],
   "source": [
    "cadena = 'Hola mundo pythonico'"
   ]
  },
  {
   "cell_type": "code",
   "execution_count": 2,
   "metadata": {},
   "outputs": [
    {
     "name": "stdout",
     "output_type": "stream",
     "text": [
      "<class 'str'>\n"
     ]
    }
   ],
   "source": [
    "print(type(cadena))"
   ]
  },
  {
   "cell_type": "markdown",
   "metadata": {},
   "source": [
    "Si tecleamos `cadena.` e inmediatamente después [Tab] obtendremos una lista de funciones y atributos que podemos usar sobre los objetos de tipo `str`:"
   ]
  },
  {
   "cell_type": "code",
   "execution_count": null,
   "metadata": {},
   "outputs": [],
   "source": [
    "cadena.split()"
   ]
  },
  {
   "cell_type": "markdown",
   "metadata": {},
   "source": [
    "En el ejemplo anterior, la función `split()` es parte del comportamiento del objeto. Pruebe otras funciones."
   ]
  },
  {
   "cell_type": "code",
   "execution_count": null,
   "metadata": {},
   "outputs": [],
   "source": [
    "cadena.center(30,'*')"
   ]
  },
  {
   "cell_type": "markdown",
   "metadata": {},
   "source": [
    "El estado interno de un objeto, es básicamente el valor que contienen sus atributos. En algunos casos podemos conocer ese estado interno usando la función `print`:"
   ]
  },
  {
   "cell_type": "code",
   "execution_count": null,
   "metadata": {},
   "outputs": [],
   "source": [
    "print(cadena)"
   ]
  },
  {
   "cell_type": "code",
   "execution_count": null,
   "metadata": {},
   "outputs": [],
   "source": [
    "print(cadena[6])"
   ]
  },
  {
   "cell_type": "code",
   "execution_count": null,
   "metadata": {},
   "outputs": [],
   "source": [
    "p = 5"
   ]
  },
  {
   "cell_type": "code",
   "execution_count": null,
   "metadata": {},
   "outputs": [],
   "source": [
    "p.numerator"
   ]
  },
  {
   "cell_type": "code",
   "execution_count": null,
   "metadata": {},
   "outputs": [],
   "source": [
    "p.denominator"
   ]
  },
  {
   "cell_type": "code",
   "execution_count": null,
   "metadata": {},
   "outputs": [],
   "source": [
    "p = 3.1416"
   ]
  },
  {
   "cell_type": "code",
   "execution_count": null,
   "metadata": {},
   "outputs": [],
   "source": [
    "p.real"
   ]
  },
  {
   "cell_type": "code",
   "execution_count": null,
   "metadata": {},
   "outputs": [],
   "source": [
    "p.imag"
   ]
  },
  {
   "cell_type": "markdown",
   "metadata": {},
   "source": [
    "## Reglas para los nombres de los objetos.\n",
    "\n",
    "Las siguientes son algunas reglas para poner nombre a los objetos:\n",
    "\n",
    "1. Los nombres no pueden iniciar con un número.\n",
    "2. No puede haber espacios en los nombres; se recomienda usar guión bajo '\\_' para separar nombres: \n",
    "```python\n",
    "fuerza_de_gravedad = 9.8\n",
    "``` \n",
    "3. No se puede usar ninguno de los siguientes símbolos en los nombres de las etiquetas:\n",
    "```python\n",
    "' \" , < > / ? | \\ ( ) ! @ # $ % ^ & * ~ - +\n",
    "```\n",
    "4. Se considera una buena práctica usar minúsculas en los nombres.\n",
    "\n",
    "Para más información véase: <a href=\"https://www.python.org/dev/peps/pep-0008/\"> PEP8 </a>\n",
    "\n",
    "<br>"
   ]
  },
  {
   "cell_type": "code",
   "execution_count": null,
   "metadata": {},
   "outputs": [],
   "source": []
  }
 ],
 "metadata": {
  "kernelspec": {
   "display_name": "Python 3",
   "language": "python",
   "name": "python3"
  },
  "language_info": {
   "codemirror_mode": {
    "name": "ipython",
    "version": 3
   },
   "file_extension": ".py",
   "mimetype": "text/x-python",
   "name": "python",
   "nbconvert_exporter": "python",
   "pygments_lexer": "ipython3",
   "version": "3.8.5"
  }
 },
 "nbformat": 4,
 "nbformat_minor": 4
}
