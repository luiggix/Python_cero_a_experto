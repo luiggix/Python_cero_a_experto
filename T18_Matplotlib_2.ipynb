{
 "cells": [
  {
   "cell_type": "markdown",
   "metadata": {},
   "source": [
    "# Python de cero a experto\n",
    "**Autor:** Luis Miguel de la Cruz Salas\n",
    "\n",
    "<a href=\"https://github.com/luiggix/Python_cero_a_experto\">Python de cero a experto</a> by Luis M. de la Cruz Salas is licensed under <a href=\"https://creativecommons.org/licenses/by-nc-nd/4.0?ref=chooser-v1\">Attribution-NonCommercial-NoDerivatives 4.0 International</a>"
   ]
  },
  {
   "cell_type": "markdown",
   "metadata": {},
   "source": [
    "## Matplotlib\n",
    "Es una biblioteca de Python multiplataforma para generar gráficos (plots) en dos dimensiones con las características: \n",
    "* Se puede usar en una variedad de ámbitos:\n",
    "    - Scripts de Python, Shells de IPython, Notebooks de Jupyter, Aplicaciones para Web e Interfaces Gráficas de Usuario (GUI). \n",
    "* Se puede usar para desarrollar aplicaciones profesionales.\n",
    "* Puede generar varios tipos de formatos de figuras y videos:\n",
    "    - png, jpg, svg, pdf, mp4, ...\n",
    "* Tiene un soporte limitado para realizar figuras en 3D.\n",
    "* Puede combinarse con otras bibliotecas y aplicaciones para extender su funcionalidad.\n",
    "\n",
    "**Arquitectura** de tres capas:\n",
    "* **Scripting**: API para crear gráficas.\n",
    "    - Provee de una interfaz simple para crear gráficas.\n",
    "    - Está orientada a usuarios sin mucha experiencia en la programación.\n",
    "    - Es lo que se conoce como el API de pyplot.\n",
    "* **Artist**: Hace el trabajo interno de creación de los elementos de la gráfica.\n",
    "   - Los Artist (artesanos?) dibujan los elementos de la gráfica.\n",
    "   - Cada elemento que se ve en la gráfica es un Artist.\n",
    "   - Provee de un API orientado a objetos muy flexible.\n",
    "   - Está orientado a programadores expertos para crear aplicaciones complejas.\n",
    "* **Backend**: El lugar donde se despliega la gráfica. Las gráficas se envían a un dispositivo de salida. Puede ser cualquier interfaz que soporta Matplotlib:\n",
    "   - User interface backends (interactive backends): pygtk, wxpython, tkinter, qt4, macosx, … \n",
    "   - Hard-copy backends (non-interactive backends): .png, .svg, .pdf, .ps\n",
    "\n",
    "<img src=\"./Figuras/anatomy_001.png\" style=\"width: 400px;\"/>\n"
   ]
  },
  {
   "cell_type": "code",
   "execution_count": null,
   "metadata": {},
   "outputs": [],
   "source": [
    "import numpy as np\n",
    "import matplotlib.pyplot as plt"
   ]
  },
  {
   "cell_type": "markdown",
   "metadata": {},
   "source": [
    "### Figure\n",
    "- Representa a la figura completa. \n",
    "- Le da seguimiento a todos sus ejes hijos (*Axes*), un puñado de artistas especiales (*titles*, *figure legends*, etc.) y el lienzo (*canvas*).\n",
    "- Una figura puede tener cualquier número de ejes (*Axes*), y siempre debe haber al menos uno.\n",
    "- La forma más fácil de crear una figura es con `pyplot`."
   ]
  },
  {
   "cell_type": "code",
   "execution_count": null,
   "metadata": {},
   "outputs": [],
   "source": [
    "# Creación de una figura (pyplot)\n",
    "fig = plt.figure()"
   ]
  },
  {
   "cell_type": "markdown",
   "metadata": {},
   "source": [
    "### Axes\n",
    "- Es la región de la imagen con el espacio para graficar los datos.\n",
    "- Una figura puede contener muchos objetos de tipo *Axes*, pero un objeto *Axes* solo puede estar en una figura.\n",
    "- Los objetos *Axes* contienen dos (o tres en 3D) objetos *Axis* los cuales se encargan de los límites de los datos.\n",
    "- Cada objeto *Axes* tiene un título (`set_title())`, un *x-label* (`set_xlabel()`) y un *y-label* (`set_ylabel()`).\n",
    "- La clase `Axes` y sus funciones miembro son el primer punto de entrada para trabajar con la interface Orientada a Objetos."
   ]
  },
  {
   "cell_type": "code",
   "execution_count": null,
   "metadata": {},
   "outputs": [],
   "source": [
    "# Obtiene los ejes (Axes) de la figura actual (get current axes)\n",
    "# (pyplot)\n",
    "plt.gca() "
   ]
  },
  {
   "cell_type": "code",
   "execution_count": null,
   "metadata": {},
   "outputs": [],
   "source": [
    "plt.axes()"
   ]
  },
  {
   "cell_type": "code",
   "execution_count": null,
   "metadata": {},
   "outputs": [],
   "source": [
    "# Genera una subgráfica\n",
    "# (pyplot)\n",
    "fig, axes = plt.subplots(1)"
   ]
  },
  {
   "cell_type": "code",
   "execution_count": null,
   "metadata": {},
   "outputs": [],
   "source": [
    "# Genera 6 subgráficas, arreglo de 2 renglones por tres columnas\n",
    "# (pyplot)\n",
    "fig, axes = plt.subplots(2,3)"
   ]
  },
  {
   "cell_type": "markdown",
   "metadata": {},
   "source": [
    "### Axis\n",
    "- Estos son objetos del tipo línea numerada. \n",
    "- Se encargan de configurar los límites de la gráfica y de generar las marcas sobre los ejes (*ticks*) y las etiquetas sobre esas marcas (*ticklabels*).\n",
    "- El lugar donde se ponen esas marcas se determina por un objeto `Locator` y las cadenas de las etiquetas son formateadas por un objeto `Formatter`.\n",
    "- La combinación de los objetos `Locator` y `Formatter` adecuados dan un control muy fino sobre el lugar de los *ticks* y sus *ticklabels*.\n"
   ]
  },
  {
   "cell_type": "code",
   "execution_count": null,
   "metadata": {},
   "outputs": [],
   "source": [
    "# Generación de las etiquetas de los ejes, los ticks y los tickslabels.\n",
    "#(pyplot)\n",
    "fig = plt.figure(figsize=(10,5))\n",
    "plt.xlabel('x')\n",
    "plt.ylabel('y')\n",
    "plt.xticks(ticks=np.linspace(0,1,5), labels=['a', 'b', 'c', 'd', 'c'])\n",
    "plt.yticks(ticks=np.linspace(0,1,2), labels=['A', 'B'])"
   ]
  },
  {
   "cell_type": "markdown",
   "metadata": {},
   "source": [
    "### Artist\n",
    "- Todo lo que se puede ver en la figura es un *Artist*: `Figure`, `Axes` y `Axis`, `Text`, `Line2D`, `collection`, `Patch`, etc.\n",
    "- Cuando una figura es producida/generada, todos los *Artist* son dibujados sobre el canvas.\n",
    "- La mayoría de los *Artist* están ligados a objetos de tipo `Axes`, esos *Artist* no se pueden compartir con múltiples `Axes`, ni se pueden mover a otros `Axes`.\n"
   ]
  },
  {
   "cell_type": "code",
   "execution_count": null,
   "metadata": {},
   "outputs": [],
   "source": [
    "# Figura con una gráfica y varios Artist\n",
    "# (pyplot)\n",
    "x = np.linspace(0,2*np.pi,100)\n",
    "y = np.sin(4*x)*np.exp(-x)\n",
    "plt.figure()\n",
    "plt.plot(x,y, label='$\\sin(4 \\pi x) e^{-x}$')\n",
    "plt.suptitle('FIGURA') # título de la figura\n",
    "plt.title('Onda amortiguada') # título de los ejes\n",
    "plt.xlabel('$x$')\n",
    "plt.ylabel('$y$')\n",
    "plt.grid()\n",
    "plt.legend()\n",
    "plt.savefig('onda_amortiguada.pdf')\n",
    "plt.show()"
   ]
  },
  {
   "cell_type": "markdown",
   "metadata": {},
   "source": [
    "### Ejemplo 1.\n",
    "Visualizar una imagen."
   ]
  },
  {
   "cell_type": "code",
   "execution_count": null,
   "metadata": {},
   "outputs": [],
   "source": [
    "import matplotlib.image as mpimg"
   ]
  },
  {
   "cell_type": "code",
   "execution_count": null,
   "metadata": {},
   "outputs": [],
   "source": [
    "chapulin = mpimg.imread('Figuras/chapulin.jpg')"
   ]
  },
  {
   "cell_type": "code",
   "execution_count": null,
   "metadata": {},
   "outputs": [],
   "source": [
    "#print(chapulin)"
   ]
  },
  {
   "cell_type": "code",
   "execution_count": null,
   "metadata": {},
   "outputs": [],
   "source": [
    "plt.imshow(chapulin)"
   ]
  },
  {
   "cell_type": "code",
   "execution_count": null,
   "metadata": {},
   "outputs": [],
   "source": [
    "print(type(chapulin))"
   ]
  },
  {
   "cell_type": "code",
   "execution_count": null,
   "metadata": {},
   "outputs": [],
   "source": [
    "canal1_chapulin = chapulin[:,:,2]"
   ]
  },
  {
   "cell_type": "code",
   "execution_count": null,
   "metadata": {},
   "outputs": [],
   "source": [
    "plt.imshow(canal1_chapulin)"
   ]
  },
  {
   "cell_type": "code",
   "execution_count": null,
   "metadata": {},
   "outputs": [],
   "source": [
    "plt.imshow(canal1_chapulin, cmap='hot')"
   ]
  },
  {
   "cell_type": "code",
   "execution_count": null,
   "metadata": {},
   "outputs": [],
   "source": [
    "nueva = plt.imshow(canal1_chapulin, cmap='seismic')\n",
    "plt.colorbar(nueva)"
   ]
  },
  {
   "cell_type": "code",
   "execution_count": null,
   "metadata": {},
   "outputs": [],
   "source": [
    "h = plt.hist(canal1_chapulin.ravel(), bins=256)"
   ]
  },
  {
   "cell_type": "code",
   "execution_count": null,
   "metadata": {},
   "outputs": [],
   "source": [
    "fig = plt.figure()\n",
    "\n",
    "ax = fig.add_subplot(1, 2, 1)\n",
    "imgplot = plt.imshow(chapulin)\n",
    "ax.set_title('Before')\n",
    "plt.colorbar(ticks=[0,100,200], orientation='horizontal')\n",
    "\n",
    "ax = fig.add_subplot(1, 2, 2)\n",
    "imgplot = plt.imshow(canal1_chapulin, cmap='hot')\n",
    "ax.set_title('After')\n",
    "plt.colorbar(ticks=[0,100,200], orientation='horizontal')\n",
    "\n",
    "#plt.tight_layout()"
   ]
  },
  {
   "cell_type": "markdown",
   "metadata": {},
   "source": [
    "### Ejemplo 2.\n",
    "Dibujar las funciones $sin(x)$ , $cos(x)$ y puntos aleatorios en una sola gráfica en el dominio $(x,y) \\in [0,2\\pi] \\times [-1,1]$."
   ]
  },
  {
   "cell_type": "code",
   "execution_count": null,
   "metadata": {},
   "outputs": [],
   "source": [
    "x = np.linspace(0,2*np.pi,100)\n",
    "r = np.random.rand(2,50)\n",
    "r[0] *= 2*np.pi\n",
    "r[1] =  r[1] * 2 - 1\n",
    "\n",
    "#r = np.random.rand(2,50) * np.array([2*np.pi, 2]).reshape(2,1) - np.array([0,1]).reshape(2,1)\n",
    "\n",
    "y1 = np.sin(x)\n",
    "y2 = np.cos(x)\n",
    "\n",
    "plt.plot(x, y1, x, y2)\n",
    "plt.scatter(r[0], r[1])"
   ]
  },
  {
   "cell_type": "code",
   "execution_count": null,
   "metadata": {},
   "outputs": [],
   "source": [
    "# Mejorando la gráfica\n",
    "plt.plot(x, y1, lw = 3, c='C7', label='sin')\n",
    "plt.plot(x, y2, label='cos')\n",
    "area = np.random.rand(50) * 100\n",
    "plt.scatter(r[0], r[1], s=area, c=area, cmap='cool', edgecolor='k', lw=0.5, alpha=0.5)\n",
    "plt.legend()"
   ]
  },
  {
   "cell_type": "markdown",
   "metadata": {},
   "source": [
    "### Múltiples gráficas\n",
    "Realizar el ejemplo 3 pero en gráficas separadas dentro de una misma figura:\n",
    "1. tres renglones.\n",
    "2. tres columnas.\n",
    "3. una en un renglón y dos en otro renglón."
   ]
  },
  {
   "cell_type": "code",
   "execution_count": null,
   "metadata": {},
   "outputs": [],
   "source": [
    "# 1. tres renglones\n",
    "plt.subplot(311)\n",
    "plt.plot(x, y1, lw = 2, c='C7', label='sin')\n",
    "plt.legend()\n",
    "plt.subplot(3,1,2)\n",
    "plt.plot(x, y2)\n",
    "plt.subplot(313)\n",
    "plt.scatter(r[0], r[1], s=area, c=area, cmap='cool', edgecolor='k', lw=0.5, alpha=0.5)\n",
    "#plt.tight_layout()\n",
    "#plt.subplots_adjust(left=None, right=None,\n",
    "#                    bottom=None, top=None, \n",
    "#                    wspace=None, hspace=0.5)\n"
   ]
  },
  {
   "cell_type": "code",
   "execution_count": null,
   "metadata": {},
   "outputs": [],
   "source": [
    "# 2. tres columnas\n",
    "plt.subplot(131)\n",
    "plt.plot(x, y1, lw = 2, c='C7', label='sin')\n",
    "plt.legend()\n",
    "plt.subplot(132)\n",
    "plt.plot(x, y2)\n",
    "plt.subplot(133)\n",
    "plt.scatter(r[0], r[1], s=area, c=area, cmap='cool', edgecolor='k', lw=0.5, alpha=0.5)\n",
    "plt.tight_layout()"
   ]
  },
  {
   "cell_type": "code",
   "execution_count": null,
   "metadata": {},
   "outputs": [],
   "source": [
    "# 3. una en un renglón y dos en otro renglón.plt.plot(x,y)\n",
    "\n",
    "# Agregamos un arreglo de 4 x 4 gráficas\n",
    "plt.subplot(2,2,1)\n",
    "plt.subplot(2,2,2)\n",
    "plt.subplot(2,2,3)\n",
    "plt.subplot(2,2,4)\n",
    "\n",
    "# Sobreponemos en el renglón 1 una gráfica que abarca todo el renglón\n",
    "plt.subplot(2,1,1)\n"
   ]
  },
  {
   "cell_type": "code",
   "execution_count": null,
   "metadata": {},
   "outputs": [],
   "source": [
    "# Ahora agregamos las gráficas a los Axes\n",
    "plt.subplot(221)\n",
    "plt.subplot(222)\n",
    "\n",
    "plt.subplot(223)\n",
    "plt.plot(x, y1, lw = 2, c='C7', label='sin')\n",
    "plt.legend()\n",
    "plt.subplot(224)\n",
    "plt.plot(x, y2)\n",
    "\n",
    "plt.subplot(211)\n",
    "plt.scatter(r[0], r[1], s=area, c=area, cmap='cool', edgecolor='k', lw=0.5, alpha=0.5)\n"
   ]
  },
  {
   "cell_type": "markdown",
   "metadata": {},
   "source": [
    "### Efecto de `tight_layout`"
   ]
  },
  {
   "cell_type": "code",
   "execution_count": null,
   "metadata": {},
   "outputs": [],
   "source": [
    "def grafica(ax, fontsize=12):\n",
    "    ax.scatter(r[0], r[1], s=area, c=area, cmap='cool', edgecolor='k', lw=0.5, \n",
    "               alpha=0.85, zorder=2)\n",
    "    ax.plot(x, y1, ls='-', lw=5.75, zorder=1)\n",
    "    ax.plot(x, y2, ls='-', lw=5.75, zorder=1)\n",
    "\n",
    "#    ax.locator_params(nbins=3) # Número de ticks en ambos ejes\n",
    "    ax.set_xlabel('x-label', fontsize=fontsize)\n",
    "    ax.set_ylabel('y-label', fontsize=fontsize)\n",
    "    ax.set_title('Title', fontsize=fontsize)"
   ]
  },
  {
   "cell_type": "code",
   "execution_count": null,
   "metadata": {},
   "outputs": [],
   "source": [
    "# Algunas veces los títulos, las etiquetas de los ejes o los ticklabels pueden\n",
    "# quedar fuera de la gráfica\n",
    "fig, ax = plt.subplots()\n",
    "grafica(ax, fontsize=24)\n",
    "#plt.tight_layout()    # Ajusta la gráfica automáticamente\n",
    "plt.savefig('figura_tight.pdf')"
   ]
  },
  {
   "cell_type": "code",
   "execution_count": null,
   "metadata": {},
   "outputs": [],
   "source": [
    "fig, ((ax1, ax2), (ax3, ax4)) = plt.subplots(nrows=2, ncols=2)\n",
    "grafica(ax1)\n",
    "grafica(ax2)\n",
    "grafica(ax3)\n",
    "grafica(ax4)\n",
    "#plt.tight_layout() # Ajusta la gráfica automáticamente\n",
    "#plt.tight_layout(pad=0.4, w_pad=0.5, h_pad=2.0, rect=[0,0,0.5,1])"
   ]
  },
  {
   "cell_type": "code",
   "execution_count": null,
   "metadata": {},
   "outputs": [],
   "source": [
    "ax1 = plt.subplot(221)\n",
    "ax2 = plt.subplot(223)\n",
    "ax3 = plt.subplot(122)\n",
    "\n",
    "grafica(ax1)\n",
    "grafica(ax2)\n",
    "grafica(ax3)\n",
    "\n",
    "#plt.tight_layout() # Ajusta la gráfica automáticamente\n"
   ]
  },
  {
   "cell_type": "markdown",
   "metadata": {},
   "source": [
    "### Múltiples gráficas con `subplot2grid`"
   ]
  },
  {
   "cell_type": "code",
   "execution_count": null,
   "metadata": {},
   "outputs": [],
   "source": [
    "# (0,0) (0,1) (0,2)\n",
    "# (1,0) (1,1) (1,2)\n",
    "# (2,0) (2,1) (2,2)\n",
    "\n",
    "ax1 = plt.subplot2grid((3, 3), (0, 0))\n",
    "ax2 = plt.subplot2grid((3, 3), (0, 1), colspan=2)\n",
    "ax3 = plt.subplot2grid((3, 3), (1, 0), colspan=2, rowspan=2)\n",
    "ax4 = plt.subplot2grid((3, 3), (1, 2), rowspan=2)\n",
    "\n",
    "grafica(ax1)\n",
    "grafica(ax2)\n",
    "grafica(ax3)\n",
    "grafica(ax4)\n",
    "\n",
    "plt.tight_layout()"
   ]
  },
  {
   "cell_type": "markdown",
   "metadata": {},
   "source": [
    "### Múltiples gráficas con `Grispec`"
   ]
  },
  {
   "cell_type": "code",
   "execution_count": null,
   "metadata": {},
   "outputs": [],
   "source": [
    "import matplotlib.gridspec as gridspec\n",
    "\n",
    "plt.close('all')\n",
    "fig = plt.figure()\n",
    "\n",
    "gs1 = gridspec.GridSpec(2, 1)\n",
    "ax1 = fig.add_subplot(gs1[0])\n",
    "ax2 = fig.add_subplot(gs1[1])\n",
    "\n",
    "grafica(ax1)\n",
    "grafica(ax2)\n",
    "\n",
    "gs1.tight_layout(fig)"
   ]
  },
  {
   "cell_type": "code",
   "execution_count": null,
   "metadata": {},
   "outputs": [],
   "source": [
    "fig = plt.figure()\n",
    "\n",
    "gs1 = gridspec.GridSpec(2, 1)\n",
    "ax1 = fig.add_subplot(gs1[0])\n",
    "ax2 = fig.add_subplot(gs1[1])\n",
    "\n",
    "grafica(ax1)\n",
    "grafica(ax2)\n",
    "\n",
    "gs1.tight_layout(fig, rect=[0, 0, 0.5, 1])\n",
    "\n",
    "gs2 = gridspec.GridSpec(3, 1)\n",
    "\n",
    "for ss in gs2:\n",
    "    ax = fig.add_subplot(ss)\n",
    "    grafica(ax)\n",
    "    ax.set_title(\"\")\n",
    "    ax.set_xlabel(\"\")\n",
    "\n",
    "ax.set_xlabel(\"x-label\", fontsize=12)\n",
    "\n",
    "gs2.tight_layout(fig, rect=[0.5, 0, 1, 1], h_pad=0.5)\n",
    "\n",
    "# We may try to match the top and bottom of two grids ::\n",
    "top = min(gs1.top, gs2.top)\n",
    "bottom = max(gs1.bottom, gs2.bottom)\n",
    "\n",
    "gs1.update(top=top, bottom=bottom)\n",
    "gs2.update(top=top, bottom=bottom)\n",
    "plt.show()"
   ]
  },
  {
   "cell_type": "markdown",
   "metadata": {},
   "source": [
    "### Ajuste del `colorbar`"
   ]
  },
  {
   "cell_type": "code",
   "execution_count": null,
   "metadata": {},
   "outputs": [],
   "source": [
    "fig = plt.figure(figsize=(5, 5))\n",
    "im = plt.imshow(chapulin, interpolation=\"none\")\n",
    "plt.colorbar(im)\n",
    "plt.tight_layout()"
   ]
  },
  {
   "cell_type": "code",
   "execution_count": null,
   "metadata": {},
   "outputs": [],
   "source": [
    "# La función make_axes_locatable (parte del módulo axes_divider) \n",
    "# toma unos ejes existentes, crea un divisor para estos ejes y \n",
    "# regresa un objeto de la clase AxesLocator. \n",
    "# El método append_axes de este AxesLocator se puede usar para\n",
    "# crear unos ejes nuevos en uno de los lados (\"top\", \"right\", \"bottom\", or \"left\")\n",
    "# de los ejes originales.\n",
    "\n",
    "from mpl_toolkits.axes_grid1 import make_axes_locatable\n",
    "\n",
    "fig = plt.figure(figsize=(5, 5))\n",
    "im = plt.imshow(chapulin, interpolation=\"none\")\n",
    "divider = make_axes_locatable(plt.gca())\n",
    "cax = divider.append_axes(\"right\", \"5%\", pad=\"3%\")\n",
    "plt.colorbar(im, cax=cax)\n",
    "plt.tight_layout()"
   ]
  },
  {
   "cell_type": "code",
   "execution_count": null,
   "metadata": {},
   "outputs": [],
   "source": [
    "# En el \"top\" hay que ajustar la orientación y los ticks\n",
    "fig = plt.figure(figsize=(5, 5))\n",
    "im = plt.imshow(chapulin, interpolation=\"none\")\n",
    "divider = make_axes_locatable(plt.gca())\n",
    "cax = divider.append_axes(\"top\", \"5%\", pad=\"3%\")\n",
    "plt.colorbar(im, cax=cax, orientation='horizontal')\n",
    "cax.xaxis.set_ticks_position(\"top\") # Posición de los ticks\n",
    "plt.tight_layout()"
   ]
  },
  {
   "cell_type": "markdown",
   "metadata": {},
   "source": [
    "### Personalización de los ticks\n",
    "\n",
    "Existen los *major ticks* y lo *minor ticks* "
   ]
  },
  {
   "cell_type": "code",
   "execution_count": null,
   "metadata": {},
   "outputs": [],
   "source": [
    "ax = plt.axes(xscale='log', yscale='log')\n",
    "plt.xlim(1,1000)\n",
    "plt.ylim(1,1000)\n",
    "plt.grid()"
   ]
  },
  {
   "cell_type": "markdown",
   "metadata": {},
   "source": [
    "Los *major ticks* se ven con una raya más larga y una etiqueta, mientras que cada *minor tick* se muestran con una raya más pequeña y sin etiqueta.\n",
    "\n",
    "Estas propiedades se pueden personalizar usando objetos `formatter` y `locator` de cada uno de los ejes."
   ]
  },
  {
   "cell_type": "code",
   "execution_count": null,
   "metadata": {},
   "outputs": [],
   "source": [
    "print(ax.xaxis.get_major_locator())\n",
    "print(ax.xaxis.get_minor_locator())\n",
    "\n",
    "print(ax.xaxis.get_major_formatter())\n",
    "print(ax.xaxis.get_minor_formatter())"
   ]
  },
  {
   "cell_type": "code",
   "execution_count": null,
   "metadata": {},
   "outputs": [],
   "source": [
    "ax = plt.axes()\n",
    "grafica(ax)\n",
    "# Esconde los ticks\n",
    "#ax.xaxis.set_major_locator(plt.NullLocator())\n",
    "#ax.yaxis.set_major_locator(plt.NullLocator())\n",
    "# Esconde las etiquetas de los ticks\n",
    "#ax.xaxis.set_major_formatter(plt.NullFormatter())\n",
    "#ax.yaxis.set_major_formatter(plt.NullFormatter())"
   ]
  },
  {
   "cell_type": "code",
   "execution_count": null,
   "metadata": {},
   "outputs": [],
   "source": [
    "fig, ax = plt.subplots(8, 8, figsize=(5, 5))\n",
    "fig.subplots_adjust(hspace=0, wspace=0)\n",
    "\n",
    "# Get some face data from scikit-learn\n",
    "from sklearn.datasets import fetch_olivetti_faces\n",
    "faces = fetch_olivetti_faces().images\n",
    "\n",
    "for i in range(8):\n",
    "    for j in range(8):\n",
    "        ax[i, j].xaxis.set_major_locator(plt.NullLocator())\n",
    "        ax[i, j].yaxis.set_major_locator(plt.NullLocator())\n",
    "        ax[i, j].imshow(faces[(i+j+1)*(i+1)+30], cmap=\"gray\")"
   ]
  },
  {
   "cell_type": "markdown",
   "metadata": {},
   "source": [
    "### Aumentando o disminuyendo el número de ticks"
   ]
  },
  {
   "cell_type": "code",
   "execution_count": null,
   "metadata": {},
   "outputs": [],
   "source": [
    "# 9 subgráficas que comparten los ejes\n",
    "fig, ax = plt.subplots(3, 3, sharex=True, sharey=True)"
   ]
  },
  {
   "cell_type": "code",
   "execution_count": null,
   "metadata": {},
   "outputs": [],
   "source": [
    "# Recorro los ejes y en cada uno aumento los ticks\n",
    "for axi in ax.flat:\n",
    "    axi.xaxis.set_major_locator(plt.MaxNLocator(5))\n",
    "    axi.yaxis.set_major_locator(plt.MaxNLocator(5))\n",
    "fig"
   ]
  },
  {
   "cell_type": "markdown",
   "metadata": {},
   "source": [
    "### Ticks y Ticklabels más elegantes"
   ]
  },
  {
   "cell_type": "code",
   "execution_count": null,
   "metadata": {},
   "outputs": [],
   "source": [
    "params = {'text.usetex'    : True,\n",
    "          'font.family': 'DejaVu Serif'}\n",
    "plt.rcParams.update(params)\n",
    "\n",
    "fig, ax = plt.subplots()\n",
    "x = np.linspace(0, 3 * np.pi, 1000)\n",
    "ax.plot(x, np.sin(x), lw=3, label='Seno')\n",
    "ax.plot(x, np.cos(x), lw=3, label='Coseno')\n",
    "\n",
    "# Set up grid, legend, and limits\n",
    "ax.grid(True)\n",
    "ax.legend(frameon=False)\n",
    "ax.axis('equal')\n",
    "ax.set_xlim(0, 3 * np.pi);\n",
    "\n",
    "# Ubicación de los ticks en múltiplos de pi\n",
    "ax.xaxis.set_major_locator(plt.MultipleLocator(np.pi / 2))\n",
    "ax.xaxis.set_minor_locator(plt.MultipleLocator(np.pi / 4))"
   ]
  },
  {
   "cell_type": "code",
   "execution_count": null,
   "metadata": {},
   "outputs": [],
   "source": [
    "def format_func(value, tick_number):\n",
    "    # find number of multiples of pi/2\n",
    "    N = int(np.round(2 * value / np.pi))\n",
    "    if N == 0:\n",
    "        return \"0\"\n",
    "    elif N == 1:\n",
    "        return \"$\\pi/2$\"\n",
    "    elif N == 2:\n",
    "        return \"$\\pi$\"\n",
    "    elif N % 2 > 0:\n",
    "        return \"${0}\\pi/2$\".format(N)\n",
    "    else:\n",
    "        return \"${0}\\pi$\".format(N // 2)\n",
    "\n",
    "ax.xaxis.set_major_formatter(plt.FuncFormatter(format_func))\n",
    "fig"
   ]
  },
  {
   "cell_type": "markdown",
   "metadata": {},
   "source": [
    "\n",
    "\n",
    "Opciones para `Locator` y `Formmater`\n",
    "\n",
    "|Clase `Locator` |Descripción |\n",
    "|---|---|\n",
    "|NullLocator | No ticks|\n",
    "|FixedLocator | Tick locations are fixed|\n",
    "|IndexLocator | Locator for index plots (e.g., where x = range(len(y)))|\n",
    "|LinearLocator | Evenly spaced ticks from min to max|\n",
    "|LogLocator | Logarithmically ticks from min to max|\n",
    "|MultipleLocator | Ticks and range are a multiple of base|\n",
    "|MaxNLocator | Finds up to a max number of ticks at nice locations|\n",
    "|AutoLocator |(Default.) MaxNLocator with simple defaults.|\n",
    "|AutoMinorLocator \tLocator for minor ticks|\n",
    "\n",
    "|Clase `Formatter` |Descripción|\n",
    "|---|---|\n",
    "|NullFormatter |No labels on the ticks|\n",
    "|IndexFormatter |Set the strings from a list of labels|\n",
    "|FixedFormatter |Set the strings manually for the labels|\n",
    "|FuncFormatter |User-defined function sets the labels|\n",
    "|FormatStrFormatter |Use a format string for each value|\n",
    "|ScalarFormatter |(Default.) Formatter for scalar values|\n",
    "|LogFormatter |Default formatter for log axes|\n"
   ]
  },
  {
   "cell_type": "code",
   "execution_count": null,
   "metadata": {},
   "outputs": [],
   "source": []
  }
 ],
 "metadata": {
  "kernelspec": {
   "display_name": "Python 3",
   "language": "python",
   "name": "python3"
  },
  "language_info": {
   "codemirror_mode": {
    "name": "ipython",
    "version": 3
   },
   "file_extension": ".py",
   "mimetype": "text/x-python",
   "name": "python",
   "nbconvert_exporter": "python",
   "pygments_lexer": "ipython3",
   "version": "3.8.5"
  }
 },
 "nbformat": 4,
 "nbformat_minor": 4
}
