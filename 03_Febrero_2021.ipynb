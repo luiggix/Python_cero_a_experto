{
 "cells": [
  {
   "cell_type": "code",
   "execution_count": 11,
   "metadata": {},
   "outputs": [
    {
     "data": {
      "text/plain": [
       "\"\\nfor i in range(10):\\n    if i == 5:\\n        break\\n    print(i)\\nelse:\\n    print('Estoy en la sección else')\\n\""
      ]
     },
     "execution_count": 11,
     "metadata": {},
     "output_type": "execute_result"
    }
   ],
   "source": [
    "for i in range(10):\n",
    "    if i == 5:\n",
    "        break\n",
    "    print(i)\n",
    "else:\n",
    "    print('Estoy en la sección else')"
   ]
  },
  {
   "cell_type": "code",
   "execution_count": null,
   "metadata": {},
   "outputs": [],
   "source": []
  },
  {
   "cell_type": "code",
   "execution_count": 15,
   "metadata": {},
   "outputs": [
    {
     "name": "stdout",
     "output_type": "stream",
     "text": [
      "[{'a': 1, 'b': 2}, {'z': 34, 'y': 45}]\n"
     ]
    }
   ],
   "source": [
    "dic1 = {'a':1, 'b':2}\n",
    "dic2 = {'z':34, 'y':45}\n",
    "\n",
    "lista = []\n",
    "\n",
    "lista.append(dic1)\n",
    "lista.append(dic2)\n",
    "\n",
    "print(lista)"
   ]
  },
  {
   "cell_type": "code",
   "execution_count": 19,
   "metadata": {},
   "outputs": [
    {
     "name": "stdout",
     "output_type": "stream",
     "text": [
      "{0: 0, 1: 1, 2: 4, 3: 9, 4: 16}\n",
      "[(0, {0: 0, 1: 1, 2: 4, 3: 9, 4: 16}), (1, {0: 0, 1: 1, 2: 4, 3: 9, 4: 16}), (2, {0: 0, 1: 1, 2: 4, 3: 9, 4: 16})]\n"
     ]
    }
   ],
   "source": [
    "lista1 = []\n",
    "dic = {}\n",
    "for l in range(3):\n",
    "    for i in range(5):\n",
    "        dic[i] = i**2\n",
    "    lista1.append((l,dic))\n",
    "print(dic)\n",
    "print(lista1)"
   ]
  },
  {
   "cell_type": "code",
   "execution_count": null,
   "metadata": {},
   "outputs": [],
   "source": []
  }
 ],
 "metadata": {
  "kernelspec": {
   "display_name": "Python 3",
   "language": "python",
   "name": "python3"
  },
  "language_info": {
   "codemirror_mode": {
    "name": "ipython",
    "version": 3
   },
   "file_extension": ".py",
   "mimetype": "text/x-python",
   "name": "python",
   "nbconvert_exporter": "python",
   "pygments_lexer": "ipython3",
   "version": "3.8.5"
  }
 },
 "nbformat": 4,
 "nbformat_minor": 4
}
