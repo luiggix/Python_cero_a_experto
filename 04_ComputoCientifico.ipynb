{
 "cells": [
  {
   "cell_type": "markdown",
   "metadata": {},
   "source": [
    "# Python de cero a experto\n",
    "**Autor:** Luis Miguel de la Cruz Salas\n",
    "\n",
    "<a href=\"https://github.com/luiggix/Python_cero_a_experto\">Python de cero a experto</a> by Luis M. de la Cruz Salas is licensed under <a href=\"https://creativecommons.org/licenses/by-nc-nd/4.0?ref=chooser-v1\">Attribution-NonCommercial-NoDerivatives 4.0 International</a>"
   ]
  },
  {
   "cell_type": "markdown",
   "metadata": {},
   "source": [
    "## Conducción de calor\n",
    "\n",
    "**Jean-Baptiste Joseph Fourier**\n",
    "fue un matemático y físico francés que ejerció una fuerte influencia en la ciencia a través de su trabajo *Théorie analytique de la chaleur*. En este trabajo mostró que es posible analizar la conducción de calor en cuerpos sólidos en términos de series matemáticas infinitas, las cuales ahora llevan su nombre: *Series de Fourier*. Fourier comenzó su trabajo en 1807, en Grenoble, y lo completó en París en 1822. Su trabajo le permitió expresar la conducción de calor en objetos bidimensionales (hojas muy delgadas de algún material) en términos de una ecuación diferencial:\n",
    "\n",
    "\n",
    "$$\n",
    "\\dfrac{\\partial u}{ \\partial t} = \\kappa \\left(\\dfrac{\\partial^2 u}{ \\partial x^2} + \\dfrac{\\partial^2 u}{ \\partial y^2}\\right)\n",
    "$$\n",
    "\n",
    "donde $u$ representa la temperatura en un instante de tiempo $t$ y en un punto $(x,y)$ del plano Cartesiano y $\\kappa$ es la conductividad del material.\n",
    "\n",
    "La solución a la ecuación anterior se puede aproximar usando el método de diferencias y una fórmula explícita de dicha solución es la siguiente:\n",
    "\n",
    "$$\n",
    "u_{i,j}^{n+1} = u_{i,j}^n + \\dfrac{h_t\\kappa}{h^2} \n",
    "\\left(u_{i+1,j}^n + u_{i-1,j}^n + u_{i,j+1}^n + u_{i,j-1}^n - 4u_{i,j}^n\\right) \n",
    "$$\n",
    "\n",
    "donde:\n",
    "- $u_{i,j} = u(x_i, y_j), u_{i+1,j} = u(x_{i+1}, y_j), u_{i-1,j} = u(x_{i-1}, y_j), u_{i,j+1} = u(x_i, y_{j+1}), u_{i,j-1} = u(x_i, y_{j-1})$. \n",
    "- El superíndice indica el instante de tiempo, entonces el instante actual es $n = t$ y el instante siguiente es $n+1 = t + h_t$, con $h_t$ el paso de tiempo.\n",
    "- En este ejemplo $h_x = h_y$.\n",
    "\n",
    "Usando esta aproximación, vamos a realizar una ejemplo de conducción de calor, pero para ello necesitamos conocer las herramientas de <a href=\"./T14_Numpy.ipynb\">numpy</a> y de <a href=\"./T15_Matplotlib.ipynb\">matplotlib</a>."
   ]
  },
  {
   "cell_type": "markdown",
   "metadata": {},
   "source": [
    "### Ejemplo 1.\n",
    "<div>\n",
    " <img src=\"./Figuras/malla2D_DF.png\"  hspace=\"5\" vspace=\"5\" style=\"float: right;\"/>\n",
    "Calculemos la transferencia de calor por conducción en una placa cuadrada unitaria usando el método de diferencias finitas. El problema se describe de la siguiente manera:\n",
    "$$\n",
    "\\dfrac{\\partial u}{ \\partial t} = \\kappa \\left(\\dfrac{\\partial^2 u}{ \\partial x^2} + \\dfrac{\\partial^2 u}{ \\partial y^2}\\right)\n",
    "$$\n",
    "$$\n",
    "\\begin{eqnarray}\n",
    "\\hline\n",
    "u(x,y,t=0) & = & 0 \\qquad \\text{Condición inicial}\\\\\n",
    "\\hline\n",
    "u(0,y,t) & = & 20 \\qquad \\text{Condiciones}\\\\\n",
    "u(1,y,t) & = & 5 \\qquad \\qquad \\text{de}\\\\\n",
    "u(x,0,t) & = & 50 \\qquad \\text{frontera}\\\\\n",
    "u(x,1,t) & = & 8 \\\\\n",
    "\\hline\n",
    "\\end{eqnarray}\n",
    "$$ \n",
    " </div>"
   ]
  },
  {
   "cell_type": "markdown",
   "metadata": {},
   "source": [
    "**<font color=\"#126534\">SOLUCIÓN.</font>**<br>\n",
    "\n",
    "Los pasos a seguir son los siguientes.\n",
    "\n",
    "**1. Definir los parámetros físicos y numéricos del problema:**"
   ]
  },
  {
   "cell_type": "code",
   "execution_count": 1,
   "metadata": {},
   "outputs": [],
   "source": [
    "import numpy as np"
   ]
  },
  {
   "cell_type": "code",
   "execution_count": 2,
   "metadata": {},
   "outputs": [],
   "source": [
    "# Parámetros físicos\n",
    "k = 1.0  # Conductividad\n",
    "Lx = 1.0  # Longitud del dominio en dirección x\n",
    "Ly = 1.0  # Longitud del dominio en dirección y\n",
    "\n",
    "# Parámetros numéricos\n",
    "Nx = 9 # Número de incógnitas en dirección x\n",
    "Ny = 9 # Número de incógnitas en dirección y\n",
    "h = Lx / (Nx+1) # Espaciamiento entre los puntos de la rejilla\n",
    "ht = 0.0001     # Paso de tiempo\n",
    "N = (Nx + 2)* (Ny + 2) # Número total de puntos en la rejilla"
   ]
  },
  {
   "cell_type": "markdown",
   "metadata": {},
   "source": [
    "**2. Definir la rejilla donde se hará el cálculo (malla):**"
   ]
  },
  {
   "cell_type": "code",
   "execution_count": 3,
   "metadata": {},
   "outputs": [
    {
     "name": "stdout",
     "output_type": "stream",
     "text": [
      "[0.  0.1 0.2 0.3 0.4 0.5 0.6 0.7 0.8 0.9 1. ]\n",
      "[0.  0.1 0.2 0.3 0.4 0.5 0.6 0.7 0.8 0.9 1. ]\n"
     ]
    }
   ],
   "source": [
    "x = np.linspace(0,Lx,Nx+2) # Arreglo con las coordenadas en x\n",
    "y = np.linspace(0,Ly,Ny+2) # Arreglo con las coordenadas en y\n",
    "print(x)\n",
    "print(y)"
   ]
  },
  {
   "cell_type": "code",
   "execution_count": 4,
   "metadata": {},
   "outputs": [
    {
     "name": "stdout",
     "output_type": "stream",
     "text": [
      "[[0.  0.1 0.2 0.3 0.4 0.5 0.6 0.7 0.8 0.9 1. ]\n",
      " [0.  0.1 0.2 0.3 0.4 0.5 0.6 0.7 0.8 0.9 1. ]\n",
      " [0.  0.1 0.2 0.3 0.4 0.5 0.6 0.7 0.8 0.9 1. ]\n",
      " [0.  0.1 0.2 0.3 0.4 0.5 0.6 0.7 0.8 0.9 1. ]\n",
      " [0.  0.1 0.2 0.3 0.4 0.5 0.6 0.7 0.8 0.9 1. ]\n",
      " [0.  0.1 0.2 0.3 0.4 0.5 0.6 0.7 0.8 0.9 1. ]\n",
      " [0.  0.1 0.2 0.3 0.4 0.5 0.6 0.7 0.8 0.9 1. ]\n",
      " [0.  0.1 0.2 0.3 0.4 0.5 0.6 0.7 0.8 0.9 1. ]\n",
      " [0.  0.1 0.2 0.3 0.4 0.5 0.6 0.7 0.8 0.9 1. ]\n",
      " [0.  0.1 0.2 0.3 0.4 0.5 0.6 0.7 0.8 0.9 1. ]\n",
      " [0.  0.1 0.2 0.3 0.4 0.5 0.6 0.7 0.8 0.9 1. ]]\n",
      "[[0.  0.  0.  0.  0.  0.  0.  0.  0.  0.  0. ]\n",
      " [0.1 0.1 0.1 0.1 0.1 0.1 0.1 0.1 0.1 0.1 0.1]\n",
      " [0.2 0.2 0.2 0.2 0.2 0.2 0.2 0.2 0.2 0.2 0.2]\n",
      " [0.3 0.3 0.3 0.3 0.3 0.3 0.3 0.3 0.3 0.3 0.3]\n",
      " [0.4 0.4 0.4 0.4 0.4 0.4 0.4 0.4 0.4 0.4 0.4]\n",
      " [0.5 0.5 0.5 0.5 0.5 0.5 0.5 0.5 0.5 0.5 0.5]\n",
      " [0.6 0.6 0.6 0.6 0.6 0.6 0.6 0.6 0.6 0.6 0.6]\n",
      " [0.7 0.7 0.7 0.7 0.7 0.7 0.7 0.7 0.7 0.7 0.7]\n",
      " [0.8 0.8 0.8 0.8 0.8 0.8 0.8 0.8 0.8 0.8 0.8]\n",
      " [0.9 0.9 0.9 0.9 0.9 0.9 0.9 0.9 0.9 0.9 0.9]\n",
      " [1.  1.  1.  1.  1.  1.  1.  1.  1.  1.  1. ]]\n"
     ]
    }
   ],
   "source": [
    "xg, yg = np.meshgrid(x,y) # Creamos la rejilla para usarla en Matplotlib\n",
    "print(xg)\n",
    "print(yg)"
   ]
  },
  {
   "cell_type": "code",
   "execution_count": 5,
   "metadata": {},
   "outputs": [],
   "source": [
    "import matplotlib.pyplot as plt"
   ]
  },
  {
   "cell_type": "code",
   "execution_count": 6,
   "metadata": {},
   "outputs": [
    {
     "data": {
      "text/plain": [
       "<matplotlib.collections.PathCollection at 0x7fd64a79b130>"
      ]
     },
     "execution_count": 6,
     "metadata": {},
     "output_type": "execute_result"
    },
    {
     "data": {
      "image/png": "[encoded data removed]",
      "text/plain": [
       "<Figure size 432x288 with 1 Axes>"
      ]
     },
     "metadata": {
      "needs_background": "light"
     },
     "output_type": "display_data"
    }
   ],
   "source": [
    "plt.scatter(xg, yg) # Graficamos la rejilla"
   ]
  },
  {
   "cell_type": "markdown",
   "metadata": {},
   "source": [
    "**3. Definir las condiciones iniciales y de frontera:**\n",
    "$$\n",
    "\\begin{eqnarray}\n",
    "\\hline\n",
    "u(x,y,t=0) & = & 0 \\qquad \\text{Condición inicial}\\\\\n",
    "\\hline\n",
    "u(0,y,t) & = & 20 \\qquad \\text{Condiciones}\\\\\n",
    "u(1,y,t) & = & 5 \\qquad \\qquad \\text{de}\\\\\n",
    "u(x,0,t) & = & 50 \\qquad \\text{frontera}\\\\\n",
    "u(x,1,t) & = & 8 \\\\\n",
    "\\hline\n",
    "\\end{eqnarray}\n",
    "$$"
   ]
  },
  {
   "cell_type": "code",
   "execution_count": 7,
   "metadata": {},
   "outputs": [
    {
     "name": "stdout",
     "output_type": "stream",
     "text": [
      "[[0. 0. 0. 0. 0. 0. 0. 0. 0. 0. 0.]\n",
      " [0. 0. 0. 0. 0. 0. 0. 0. 0. 0. 0.]\n",
      " [0. 0. 0. 0. 0. 0. 0. 0. 0. 0. 0.]\n",
      " [0. 0. 0. 0. 0. 0. 0. 0. 0. 0. 0.]\n",
      " [0. 0. 0. 0. 0. 0. 0. 0. 0. 0. 0.]\n",
      " [0. 0. 0. 0. 0. 0. 0. 0. 0. 0. 0.]\n",
      " [0. 0. 0. 0. 0. 0. 0. 0. 0. 0. 0.]\n",
      " [0. 0. 0. 0. 0. 0. 0. 0. 0. 0. 0.]\n",
      " [0. 0. 0. 0. 0. 0. 0. 0. 0. 0. 0.]\n",
      " [0. 0. 0. 0. 0. 0. 0. 0. 0. 0. 0.]\n",
      " [0. 0. 0. 0. 0. 0. 0. 0. 0. 0. 0.]]\n",
      "[[50. 20. 20. 20. 20. 20. 20. 20. 20. 20.  8.]\n",
      " [50.  0.  0.  0.  0.  0.  0.  0.  0.  0.  8.]\n",
      " [50.  0.  0.  0.  0.  0.  0.  0.  0.  0.  8.]\n",
      " [50.  0.  0.  0.  0.  0.  0.  0.  0.  0.  8.]\n",
      " [50.  0.  0.  0.  0.  0.  0.  0.  0.  0.  8.]\n",
      " [50.  0.  0.  0.  0.  0.  0.  0.  0.  0.  8.]\n",
      " [50.  0.  0.  0.  0.  0.  0.  0.  0.  0.  8.]\n",
      " [50.  0.  0.  0.  0.  0.  0.  0.  0.  0.  8.]\n",
      " [50.  0.  0.  0.  0.  0.  0.  0.  0.  0.  8.]\n",
      " [50.  0.  0.  0.  0.  0.  0.  0.  0.  0.  8.]\n",
      " [50.  5.  5.  5.  5.  5.  5.  5.  5.  5.  8.]]\n"
     ]
    }
   ],
   "source": [
    "u = np.zeros(N).reshape(Nx+2, Ny+2) # Arreglo para almacenar la aproximación\n",
    "print(u)\n",
    "u[0,:]    = 20  # Pared izquierda    \n",
    "u[Nx+1,:] = 5   # Pared derecha\n",
    "u[:,0]    = 50  # Pared inferior\n",
    "u[:,Ny+1] = 8   # Pared superior  \n",
    "print(u) "
   ]
  },
  {
   "cell_type": "code",
   "execution_count": 8,
   "metadata": {},
   "outputs": [
    {
     "data": {
      "text/plain": [
       "<matplotlib.colorbar.Colorbar at 0x7fd649ea5520>"
      ]
     },
     "execution_count": 8,
     "metadata": {},
     "output_type": "execute_result"
    },
    {
     "data": {
      "image/png": "[encoded data removed]",
      "text/plain": [
       "<Figure size 432x288 with 2 Axes>"
      ]
     },
     "metadata": {
      "needs_background": "light"
     },
     "output_type": "display_data"
    }
   ],
   "source": [
    "f = plt.imshow(u)\n",
    "plt.colorbar(f)"
   ]
  },
  {
   "cell_type": "markdown",
   "metadata": {},
   "source": [
    "**4. Implementar el algoritmo de solución:**\n",
    "$$\n",
    "u_{i,j}^{n+1} = u_{i,j}^n + \\dfrac{\\kappa}{h^2} \n",
    "\\left(u_{i+1,j}^n + u_{i-1,j}^n + u_{i,j+1}^n + u_{i,j-1}^n - 4u_{i,j}^n\\right) \n",
    "$$\n"
   ]
  },
  {
   "cell_type": "code",
   "execution_count": 9,
   "metadata": {},
   "outputs": [
    {
     "name": "stdout",
     "output_type": "stream",
     "text": [
      "17.2629661414254\n",
      "13.602554907075358\n",
      "11.121464292079526\n",
      "9.370340343338656\n",
      "8.089431314598079\n",
      "7.121431307338295\n",
      "6.3681582882854775\n",
      "5.7667100290256075\n",
      "5.275727580531657\n",
      "4.867291496014421\n",
      "4.522054027452314\n",
      "4.226261372943586\n",
      "3.9698959855402296\n",
      "3.745493517737013\n",
      "3.547373613271126\n",
      "3.3711295389631717\n",
      "3.2132828772489206\n",
      "3.0710454523767496\n",
      "2.9421521475712167\n",
      "2.824741357872151\n",
      "2.7172679513259683\n",
      "2.6184387521297467\n",
      "2.5271638648303663\n",
      "2.4425193146763595\n",
      "2.363717902820954\n",
      "2.290086125094306\n",
      "2.2210456430727876\n",
      "2.1560982312045556\n",
      "2.094813422134956\n",
      "2.036818279028632\n",
      "1.9817888683696612\n",
      "1.9294431092766995\n",
      "1.8795347490871392\n",
      "1.8318482687809046\n",
      "1.7861945617665094\n",
      "1.7424072597326863\n",
      "1.700339602469993\n",
      "1.6598617667041742\n",
      "1.620858583384764\n",
      "1.5832275844672883\n",
      "1.5468773296753073\n",
      "1.5117259715044917\n",
      "1.4777000231834065\n",
      "1.4447332996949114\n",
      "1.4127660064863383\n",
      "1.381743954309308\n",
      "1.3516178818527333\n",
      "1.322342870562428\n",
      "1.2938778383566352\n",
      "1.2661851009139355\n",
      "1.2392299908820428\n",
      "1.212980526778256\n",
      "1.1874071245620865\n",
      "1.1624823458905373\n",
      "1.138180677942807\n",
      "1.114478340447452\n",
      "1.0913531161802335\n",
      "1.0687842017418048\n",
      "1.0467520758851223\n",
      "1.025238383054624\n",
      "1.0042258301337272\n",
      "0.9836980946818262\n",
      "0.9636397431848914\n",
      "0.9440361580507419\n",
      "0.9248734722567947\n",
      "0.9061385107087614\n",
      "0.887818737497627\n"
     ]
    },
    {
     "data": {
      "text/plain": [
       "<matplotlib.colorbar.Colorbar at 0x7fd649de49d0>"
      ]
     },
     "execution_count": 9,
     "metadata": {},
     "output_type": "execute_result"
    },
    {
     "data": {
      "image/png": "[encoded data removed]",
      "text/plain": [
       "<Figure size 432x288 with 2 Axes>"
      ]
     },
     "metadata": {
      "needs_background": "light"
     },
     "output_type": "display_data"
    }
   ],
   "source": [
    "ht = 0.001\n",
    "r = k * ht / h**2\n",
    "u_new = u.copy()\n",
    "tolerancia = 9.0e-1 #1.0e-3\n",
    "error = 1.0\n",
    "while(error > tolerancia):\n",
    "    for i in range(1,Nx+1):\n",
    "        for j in range(1,Ny+1):\n",
    "            u_new[i,j] = u[i,j] + r * (u[i+1,j] + u[i-1,j] + u[i,j+1] + u[i,j-1] - 4*u[i,j])\n",
    "    error = np.linalg.norm(u_new - u)\n",
    "    print(error)\n",
    "    u[:] = u_new[:]\n",
    "    \n",
    "f = plt.imshow(u)\n",
    "plt.colorbar(f)"
   ]
  },
  {
   "cell_type": "markdown",
   "metadata": {},
   "source": [
    "### Ejercicio 1.\n",
    "Realiza los siguiente gráficos de la solución anterior:\n",
    "1. Contornos llenos (`contourf`) y líneas de contorno negras sobrepuestas (`contour`).\n",
    "2. Almacena el error en cada iteración y grafícalo en semi-log.\n",
    "3. Realiza las dos gráficas anteriores en un solo renglón."
   ]
  },
  {
   "cell_type": "markdown",
   "metadata": {},
   "source": [
    "## Flujo de calor\n",
    "\n",
    "Fourier también estableció una ley para el flujo de calor que se escribe como:\n",
    "\n",
    "$$\n",
    "\\vec{q} = -\\kappa \\nabla u = -\\kappa \\left(\\dfrac{\\partial u}{\\partial x}, \\dfrac{\\partial u}{\\partial y}\\right)\n",
    "$$"
   ]
  },
  {
   "cell_type": "markdown",
   "metadata": {},
   "source": [
    "### Ejemplo 2.\n",
    "Usando la información calculada de la temperatura (almacenada en el arreglo `u`), vamos a calcular el flujo de calor usando la siguiente fórmula en diferencias:\n",
    "\n",
    "$$\n",
    "\\vec{q}_{i,j} = (qx_{i,j}, qy_{i,j}) = -\\dfrac{\\kappa}{2h} (u_{i+1,j}-u_{i-1,j}, u_{i,j+1}-u_{i,j-1} )\n",
    "$$"
   ]
  },
  {
   "cell_type": "markdown",
   "metadata": {},
   "source": [
    "**<font color=\"#126534\">SOLUCIÓN.</font>**<br>"
   ]
  },
  {
   "cell_type": "code",
   "execution_count": 10,
   "metadata": {},
   "outputs": [
    {
     "data": {
      "text/plain": [
       "<matplotlib.quiver.Quiver at 0x7fd649dd63a0>"
      ]
     },
     "execution_count": 10,
     "metadata": {},
     "output_type": "execute_result"
    },
    {
     "data": {
      "image/png": "[encoded data removed]",
      "text/plain": [
       "<Figure size 432x288 with 1 Axes>"
      ]
     },
     "metadata": {
      "needs_background": "light"
     },
     "output_type": "display_data"
    }
   ],
   "source": [
    "qx = np.zeros(N).reshape(Nx+2, Ny+2)\n",
    "qy = qx.copy()\n",
    "\n",
    "s = k / 2*h\n",
    "for i in range(1,Nx+1):\n",
    "    for j in range(1,Ny+1):\n",
    "        qx[i,j] = -s * (u[i+1,j] - u[i-1,j])\n",
    "        qy[i,j] = -s * (u[i,j+1] - u[i,j-1])\n",
    "\n",
    "plt.quiver(xg, yg, qx, qy, scale=10, zorder=10)"
   ]
  },
  {
   "cell_type": "markdown",
   "metadata": {},
   "source": [
    "### Ejercicio 2.\n",
    "Grafica el campo vectorial del flujo de calor, junto con los contornos de la temperatura (`contourf` y `contour`). Haz que tu gráfica se vea con razón de aspecto correcta de 1 por 1.\n"
   ]
  },
  {
   "cell_type": "markdown",
   "metadata": {},
   "source": [
    "## Seguimiento de partículas\n",
    "\n",
    "\n",
    "\n",
    "<div>\n",
    " <img src=\"./Figuras/Vectorial.png\"  hspace=\"5\" vspace=\"5\" style=\"float: right;\"/>\n",
    "Si soltamos una partícula en un flujo, dicha partícula seguirá la dirección del flujo y delineará  una trayectoria como se muestra en la siguiente figura. Para calcular los puntos de la trayectoria debemos resolver una ecuación como la siguiente:\n",
    "    \n",
    "$$\n",
    "\\dfrac{\\partial \\vec{x}}{ \\partial t} = \\vec{v} \\qquad \\text{con} \\qquad \\vec{x}(t=0) = \\vec{x}_o \n",
    "$$\n",
    "    \n",
    "donde $\\vec{x} = (x,y) $ representa la posición de la partícula y $\\vec{v} = (vx, vy)$ su velocidad.\n",
    "El método más sencillo para encontrar las posiciones de la partícula es conocido como de *Euler hacia adelante* y se escribe como:\n",
    "    \n",
    "$$\n",
    "\\vec{x}_i^{n+1} = \\vec{x}_i^{n} + h_t * \\vec{v}_{i}^n\n",
    "$$\n",
    "    \n",
    "donde $\\vec{x}_i^{n}$ representa la posición de la partícula $i$ en el instante $n$, $h_t$ es el paso de tiempo y $\\vec{v}_i$ es la velocidad en la partícula $i$ en el instante $n$.\n",
    " </div>\n"
   ]
  },
  {
   "cell_type": "markdown",
   "metadata": {},
   "source": [
    "## Ejemplo 3.\n",
    "Calcular y graficar las trayectorias de varias partículas usando el campo vectorial generado por el flujo de calor del ejemplo 2."
   ]
  },
  {
   "cell_type": "markdown",
   "metadata": {},
   "source": [
    "**<font color=\"#126534\">SOLUCIÓN.</font>**<br>\n",
    "\n",
    "Escribimos la fórmula de *Euler hacia atrás* en componentes como sigue:\n",
    "\n",
    "$$\n",
    "\\begin{eqnarray}\n",
    "x_i^{n+1} & = & x_i^{n} + h_t * vx_{i}^n \\\\\n",
    "y_i^{n+1} & = & y_i^{n} + h_t * vy_{i}^n \n",
    "\\end{eqnarray}\n",
    "$$"
   ]
  },
  {
   "cell_type": "markdown",
   "metadata": {},
   "source": [
    "**1. Definimos un punto inicial de forma aleatoria en el cuadrado unitario:**"
   ]
  },
  {
   "cell_type": "code",
   "execution_count": 14,
   "metadata": {},
   "outputs": [
    {
     "name": "stdout",
     "output_type": "stream",
     "text": [
      "0.34213983697308825 0.1557185306844998\n"
     ]
    }
   ],
   "source": [
    "xo = np.random.rand()\n",
    "yo = np.random.rand()\n",
    "print(xo,yo)"
   ]
  },
  {
   "cell_type": "markdown",
   "metadata": {},
   "source": [
    "**2. Definimos arreglos para almacenar las coordenadas de la trayectoria:**"
   ]
  },
  {
   "cell_type": "code",
   "execution_count": 15,
   "metadata": {},
   "outputs": [
    {
     "name": "stdout",
     "output_type": "stream",
     "text": [
      "[0.34213984 0.         0.         0.         0.         0.\n",
      " 0.         0.         0.         0.        ]\n",
      "[0.15571853 0.         0.         0.         0.         0.\n",
      " 0.         0.         0.         0.        ]\n"
     ]
    }
   ],
   "source": [
    "Pasos = 10\n",
    "xp = np.zeros(Pasos)\n",
    "yp = np.zeros(Pasos)\n",
    "xp[0] = xo\n",
    "yp[0] = yo\n",
    "print(xp)\n",
    "print(yp)"
   ]
  },
  {
   "cell_type": "code",
   "execution_count": 16,
   "metadata": {},
   "outputs": [
    {
     "data": {
      "text/plain": [
       "(0.0, 1.0)"
      ]
     },
     "execution_count": 16,
     "metadata": {},
     "output_type": "execute_result"
    },
    {
     "data": {
      "image/png": "[encoded data removed]",
      "text/plain": [
       "<Figure size 432x288 with 1 Axes>"
      ]
     },
     "metadata": {
      "needs_background": "light"
     },
     "output_type": "display_data"
    }
   ],
   "source": [
    "plt.plot(xp[0], yp[0], 'o-')\n",
    "plt.xlim(0,1)\n",
    "plt.ylim(0,1)"
   ]
  },
  {
   "cell_type": "markdown",
   "metadata": {},
   "source": [
    "**3. Implementamos el método de Euler hacia adelante**:"
   ]
  },
  {
   "cell_type": "code",
   "execution_count": 17,
   "metadata": {},
   "outputs": [],
   "source": [
    "# Interpolación de la velocidad\n",
    "def interpolaVel(qx, qy, xpi, ypi, h):\n",
    "    # localizamos la partícula dentro de la rejilla:\n",
    "    li = int(xpi/h)\n",
    "    lj = int(ypi/h)\n",
    "    return (qx[li,lj], qy[li,lj])"
   ]
  },
  {
   "cell_type": "code",
   "execution_count": 18,
   "metadata": {},
   "outputs": [],
   "source": [
    "ht = 0.1\n",
    "for n in range(1,Pasos):\n",
    "    vx, vy = interpolaVel(qx, qy, xp[n-1], yp[n-1], h)\n",
    "    xp[n] = xp[n-1] + ht * vx\n",
    "    yp[n] = yp[n-1] + ht * vy"
   ]
  },
  {
   "cell_type": "code",
   "execution_count": 20,
   "metadata": {},
   "outputs": [
    {
     "data": {
      "text/plain": [
       "(0.0, 1.0)"
      ]
     },
     "execution_count": 20,
     "metadata": {},
     "output_type": "execute_result"
    },
    {
     "data": {
      "image/png": "[encoded data removed]",
      "text/plain": [
       "<Figure size 432x288 with 1 Axes>"
      ]
     },
     "metadata": {
      "needs_background": "light"
     },
     "output_type": "display_data"
    }
   ],
   "source": [
    "plt.plot(xp, yp, '.-')\n",
    "plt.xlim(0,1)\n",
    "plt.ylim(0,1)"
   ]
  },
  {
   "cell_type": "markdown",
   "metadata": {},
   "source": [
    "#### Ejercicio 3.\n",
    "Dibuja la trayectoria de la siguiente manera.\n",
    "- El primer punto color naranja transparente y contorno negro. \n",
    "- Las posiciones siguientes de color negro sobre puestas sobre la trayectoria.\n",
    "- La trayectoria de color gris.\n",
    "- Verifica que la trayectoria no se salga del cuadrado unitario."
   ]
  },
  {
   "cell_type": "markdown",
   "metadata": {},
   "source": [
    "#### Ejercicio 4.\n",
    "Dibuja varias trayectorias que inicien en sitios diferentes."
   ]
  },
  {
   "cell_type": "markdown",
   "metadata": {},
   "source": [
    "#### Ejercicio 5.\n",
    "Implementa una interpolación bilineal para calcular la velocidad."
   ]
  },
  {
   "cell_type": "markdown",
   "metadata": {},
   "source": [
    "---\n",
    "### Proyecto 1.\n",
    "Resolver numéricamente las ecuaciones de Lorenz y dibujar las trayectorias en el espacio fase $x − y − z$ para $N$ posiciones iniciales elegidas aletoriamente.\n",
    "$$\n",
    "\\dfrac{dx}{dt} = \\sigma(y − x),\\qquad\n",
    "\\dfrac{dy}{dt} = x(\\rho − z) − y,\\qquad\n",
    "\\dfrac{dz}{dt} = xy − \\beta z\n",
    "$$\n",
    "para $\\sigma = 10$, $\\beta = 8/3$, $\\rho = 28$.\n",
    "---\n",
    "### Proyecto 2.\n",
    "Resolver el siguiente IVP para un conjunto de inicial de partı́culas.\n",
    "\n",
    "$$\n",
    "\\dfrac{d \\vec{x}}{dt} = \\vec{u}(t, \\vec{x})\n",
    "$$\n",
    "\n",
    "donde $\\vec{x} = (x, y)$ y $\\vec{u} = (u, v)$, por lo tanto:\n",
    "\n",
    "$$\n",
    "\\dfrac{d x}{dt} = u(t, \\vec{x}), \\qquad \\dfrac{d y}{dt} = v(t, \\vec{x}),\n",
    "$$\n",
    "\n",
    "Para $(x, y) \\in [0, 1] \\times [0, 1]$ y una velocidad definida como sigue:\n",
    "\n",
    "$$\n",
    "\\begin{eqnarray}\n",
    "u & = & -A \\cos(\\alpha \\pi y) sin(\\alpha \\pi x) \\\\\n",
    "v & = & A \\sin(\\alpha \\pi y) cos(\\alpha \\pi x)\n",
    "\\end{eqnarray}\n",
    "$$\n",
    "\n",
    "---\n",
    "**Tip**:<br>\n",
    "<div style=\"color: #2233AA;\">\n",
    "En ambos proyectos usar el método de Euler hacia adelante para resolver las ecuaciones:\n",
    "\n",
    "Dado:\n",
    "$$\n",
    "\\begin{eqnarray}\n",
    "\\dfrac{d y(t)}{dt} & = & f(t, y) \\qquad \\text{para} \\qquad a < t < b\\\\\n",
    "y(t=a) & = & y_o\n",
    "\\end{eqnarray}\n",
    "$$\n",
    "\n",
    "El método de Euler hacia adelante es:\n",
    "\n",
    "$$\n",
    "y_{n+1} = y_{n} + h_t * f(t,y_{n}), \\qquad \\text{para} \\, n = 0, 1, 2, \\dots, N_t-1\n",
    "$$\n",
    "\n",
    "donde \n",
    "$$\n",
    "\\begin{eqnarray}\n",
    "h_t & = & (b-a)/N_t \\\\\n",
    "y_{n} & = & y(t = a + n*h_t) \\\\\n",
    "y_{n+1} & = & y(t = a + (n+1)*h_t)\n",
    "\\end{eqnarray}\n",
    "$$\n",
    "</div>"
   ]
  },
  {
   "cell_type": "code",
   "execution_count": null,
   "metadata": {},
   "outputs": [],
   "source": []
  }
 ],
 "metadata": {
  "kernelspec": {
   "display_name": "Python 3",
   "language": "python",
   "name": "python3"
  },
  "language_info": {
   "codemirror_mode": {
    "name": "ipython",
    "version": 3
   },
   "file_extension": ".py",
   "mimetype": "text/x-python",
   "name": "python",
   "nbconvert_exporter": "python",
   "pygments_lexer": "ipython3",
   "version": "3.8.5"
  }
 },
 "nbformat": 4,
 "nbformat_minor": 4
}
