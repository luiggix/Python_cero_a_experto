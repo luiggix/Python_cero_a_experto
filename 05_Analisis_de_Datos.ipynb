{
 "cells": [
  {
   "cell_type": "markdown",
   "metadata": {},
   "source": [
    "# PANDAS\n",
    "\n",
    "- PANDAS es \"Python Data Analysis Library\". El nombre proviene del término *Panel Data* que es un término econométrico para manejar conjuntos de datos multidimensionales.\n",
    "\n",
    "- PANDAS es una biblioteca que provee de herramientas de alto desempeño, fáciles de usar, para manejar estructuras de datos y para su análisis. \n",
    "\n",
    "- PANDAS es un módulo que reúne las capacidades de Numpy, Scipy y Matplotlib.\n",
    "\n",
    "- Véase https://pandas.pydata.org/ para más información.\n",
    "\n",
    "- y en: https://vimeo.com/59324550\n",
    "\n",
    "\n"
   ]
  },
  {
   "cell_type": "code",
   "execution_count": 1,
   "metadata": {},
   "outputs": [],
   "source": [
    "import numpy as np\n",
    "import pandas as pd\n",
    "from pandas import Series,DataFrame"
   ]
  },
  {
   "cell_type": "markdown",
   "metadata": {},
   "source": [
    "## Series\n",
    "\n",
    "- Las `Series` son arreglos unidimensionales indexados basados en los arreglos de Numpy.\n",
    "- Pueden almacenar cualquier tipo de dato: int, floats, strings, Python objects, etc.\n",
    "- Se pueden ver como una estructura de datos con dos arreglos: uno para los índices y otro para los objetos que contiene.\n",
    "\n",
    "### Ejemplo"
   ]
  },
  {
   "cell_type": "code",
   "execution_count": 2,
   "metadata": {},
   "outputs": [
    {
     "data": {
      "text/plain": [
       "0     3\n",
       "1     6\n",
       "2     9\n",
       "3    12\n",
       "dtype: int64"
      ]
     },
     "execution_count": 2,
     "metadata": {},
     "output_type": "execute_result"
    }
   ],
   "source": [
    "obj = Series([3,6,9,12])\n",
    "obj"
   ]
  },
  {
   "cell_type": "code",
   "execution_count": 3,
   "metadata": {},
   "outputs": [
    {
     "data": {
      "text/plain": [
       "array([ 3,  6,  9, 12])"
      ]
     },
     "execution_count": 3,
     "metadata": {},
     "output_type": "execute_result"
    }
   ],
   "source": [
    "obj.values # Objetos de la serie"
   ]
  },
  {
   "cell_type": "code",
   "execution_count": 5,
   "metadata": {},
   "outputs": [
    {
     "data": {
      "text/plain": [
       "RangeIndex(start=0, stop=4, step=1)"
      ]
     },
     "execution_count": 5,
     "metadata": {},
     "output_type": "execute_result"
    }
   ],
   "source": [
    "obj.index # Índices de la serie"
   ]
  },
  {
   "cell_type": "markdown",
   "metadata": {},
   "source": [
    "- Comparemos con los array de Numpy"
   ]
  },
  {
   "cell_type": "code",
   "execution_count": 6,
   "metadata": {},
   "outputs": [
    {
     "data": {
      "text/plain": [
       "array([ 3,  6,  9, 12])"
      ]
     },
     "execution_count": 6,
     "metadata": {},
     "output_type": "execute_result"
    }
   ],
   "source": [
    "x = np.array([3,6,9,12])\n",
    "x"
   ]
  },
  {
   "cell_type": "code",
   "execution_count": 7,
   "metadata": {},
   "outputs": [
    {
     "name": "stdout",
     "output_type": "stream",
     "text": [
      "<class 'numpy.ndarray'>\n",
      "<class 'numpy.ndarray'>\n",
      "<class 'pandas.core.series.Series'>\n",
      "<class 'pandas.core.indexes.range.RangeIndex'>\n"
     ]
    }
   ],
   "source": [
    "print(type(obj.values))\n",
    "print(type(x))\n",
    "print(type(obj))\n",
    "print(type(obj.index))"
   ]
  },
  {
   "cell_type": "markdown",
   "metadata": {},
   "source": [
    "- Podemos definir los índices como queramos:"
   ]
  },
  {
   "cell_type": "code",
   "execution_count": 8,
   "metadata": {},
   "outputs": [
    {
     "data": {
      "text/plain": [
       "Diez         10.0\n",
       "Cinco         5.0\n",
       "Dos           2.0\n",
       "Un            1.0\n",
       "cincuenta     0.5\n",
       "veinte        0.2\n",
       "diez          0.1\n",
       "dtype: float64"
      ]
     },
     "execution_count": 8,
     "metadata": {},
     "output_type": "execute_result"
    }
   ],
   "source": [
    "monedas = Series([10.0,5.0,2.0,1.0,0.5,0.2,0.1],\n",
    "                 index=['Diez','Cinco','Dos','Un','cincuenta','veinte','diez'])\n",
    "monedas"
   ]
  },
  {
   "cell_type": "code",
   "execution_count": 9,
   "metadata": {},
   "outputs": [
    {
     "data": {
      "text/plain": [
       "0.1"
      ]
     },
     "execution_count": 9,
     "metadata": {},
     "output_type": "execute_result"
    }
   ],
   "source": [
    "monedas['diez'] # Podemos acceder a los objetos de la Serie con el índice"
   ]
  },
  {
   "cell_type": "code",
   "execution_count": 10,
   "metadata": {},
   "outputs": [
    {
     "name": "stdout",
     "output_type": "stream",
     "text": [
      " 0.1000000000000000055511151231257827021181583404541016\n"
     ]
    }
   ],
   "source": [
    "print('{: .52f}'.format(monedas['diez']))"
   ]
  },
  {
   "cell_type": "code",
   "execution_count": 11,
   "metadata": {},
   "outputs": [
    {
     "data": {
      "text/plain": [
       "Diez         10.0\n",
       "Cinco         5.0\n",
       "Dos           2.0\n",
       "Un            1.0\n",
       "cincuenta     0.5\n",
       "dtype: float64"
      ]
     },
     "execution_count": 11,
     "metadata": {},
     "output_type": "execute_result"
    }
   ],
   "source": [
    "monedas[monedas > 0.3] # Podemos hacer operaciones más complicadas"
   ]
  },
  {
   "cell_type": "code",
   "execution_count": null,
   "metadata": {},
   "outputs": [],
   "source": [
    "'quarter' in monedas # Es posible preguntar si un índice está en la Serie"
   ]
  },
  {
   "cell_type": "code",
   "execution_count": null,
   "metadata": {},
   "outputs": [],
   "source": [
    " 0.1 in monedas.values  # Es posible preguntar si un objeto está en la Serie"
   ]
  },
  {
   "cell_type": "markdown",
   "metadata": {},
   "source": [
    "# Transformación entre Series y tipos básicos de Python"
   ]
  },
  {
   "cell_type": "code",
   "execution_count": null,
   "metadata": {},
   "outputs": [],
   "source": [
    "# Es posible transformar la Serie en diferentes tipos\n",
    "\n",
    "# Transformar la Serie en una lista\n",
    "monedas_list = monedas.to_string()\n",
    "print(type(monedas_list))\n",
    "print(monedas_list)"
   ]
  },
  {
   "cell_type": "code",
   "execution_count": null,
   "metadata": {},
   "outputs": [],
   "source": [
    "# Transformar la Serie a un diccionario:\n",
    "monedas_dic = monedas.to_dict()\n",
    "print(type(monedas_dic))\n",
    "monedas_dic"
   ]
  },
  {
   "cell_type": "code",
   "execution_count": null,
   "metadata": {},
   "outputs": [],
   "source": [
    "# Podemos transformar un diccionario en una Serie.\n",
    "monedasX = Series(monedas_dic) # Regresa a la Serie pero en desorden\n",
    "monedasX"
   ]
  },
  {
   "cell_type": "code",
   "execution_count": null,
   "metadata": {},
   "outputs": [],
   "source": [
    "# Transformar la Serie en el formato CSV:\n",
    "f = open('MONEDAS.csv','w')\n",
    "f.write(monedas.to_csv())\n",
    "f.close()"
   ]
  },
  {
   "cell_type": "markdown",
   "metadata": {},
   "source": [
    "### Ejercicio\n",
    "- Crear una serie con sus índices iguales a los nombres de las delegaciones de la Ciudad de México y sus valores el número de habitantes por delegación.\n",
    "\n",
    "Delegación | Habitantes\n",
    "-- | --\n",
    "Azcapotzalco | 400 161\n",
    "Coyoacán | 608 479\n",
    "Cuajimalpa de Morelos | 199 224\n",
    "Gustavo A. Madero | 1 164 477\n",
    "Iztacalco | 390 348\n",
    "Iztapalapa | 1 827 868\n",
    "La Magdalena Contreras | 243 886\n",
    "Milpa Alta | 137 927\n",
    "Álvaro Obregón | 749 982\n",
    "Tláhuac | 361 593\n",
    "Tlalpan | 677 104\n",
    "Xochimilco | 415 933\n",
    "Benito Juárez | 417 416\n",
    "Cuauhtémoc | 532 553\n",
    "Miguel Hidalgo | 364 439\n",
    "Venustiano Carranza | 427 263\n",
    "\n",
    "- Calcular la suma total de habitantes\n",
    "- Imprimir los nombres de las delegaciones con mayor y menor número de habitantes.\n",
    "- Imprimer los nombres de las delegaciones con más de 400,000 habitantes"
   ]
  },
  {
   "cell_type": "code",
   "execution_count": null,
   "metadata": {
    "collapsed": true
   },
   "outputs": [],
   "source": [
    "fdel = open('delegaciones.csv','r')\n",
    "valor = []\n",
    "indices = []\n",
    "for line in fdel:\n",
    "    sline = line.split(sep=\",\")\n",
    "    indices.append(sline[0])\n",
    "    valor.append(sline[1])\n",
    "\n",
    "print(indices, valor)\n",
    "\n",
    "lista_delegacion = Series(valor[1:-1],index=indices[1:-1])\n",
    "lista_delegacion"
   ]
  },
  {
   "cell_type": "markdown",
   "metadata": {},
   "source": [
    "# Algunas operaciones con series"
   ]
  },
  {
   "cell_type": "code",
   "execution_count": null,
   "metadata": {},
   "outputs": [],
   "source": [
    "# Si queremos la serie en orden, lo podemos hacer vía los índices:\n",
    "etiquetas = ['Diez','Cinco','Dos','Un','cincuenta','veinte','diez']\n",
    "monedasY = Series(monedas_dic, index=etiquetas) # En orden!\n",
    "monedasY"
   ]
  },
  {
   "cell_type": "code",
   "execution_count": null,
   "metadata": {},
   "outputs": [],
   "source": [
    "# Incluso podemos agregar índices a los originales\n",
    "etiquetas = ['Diez','Cinco','quarter','Dos','Un','cincuenta','veinte','diez']\n",
    "monedasZ = Series(monedas_dic, index=etiquetas) # Hay un índice extra.\n",
    "monedasZ"
   ]
  },
  {
   "cell_type": "code",
   "execution_count": null,
   "metadata": {},
   "outputs": [],
   "source": [
    "# Podemos verificar si hay datos faltantes (NaN)\n",
    "pd.isnull(monedasZ['quarter'])     # Operación de PANDAS"
   ]
  },
  {
   "cell_type": "code",
   "execution_count": null,
   "metadata": {},
   "outputs": [],
   "source": [
    "pd.notnull(monedasZ['diez'])   # Operación de PANDAS"
   ]
  },
  {
   "cell_type": "code",
   "execution_count": null,
   "metadata": {},
   "outputs": [],
   "source": [
    "# Podemos sumar dos Series\n",
    "monedas + monedasY"
   ]
  },
  {
   "cell_type": "code",
   "execution_count": null,
   "metadata": {},
   "outputs": [],
   "source": [
    "# No importa que las series estén en desorden, la suma es correcta!\n",
    "monedas + monedasX"
   ]
  },
  {
   "cell_type": "code",
   "execution_count": null,
   "metadata": {},
   "outputs": [],
   "source": [
    "# Incluso podemos sumar series que tengan diferente longitud:\n",
    "monedasZ['quarter'] = 10\n",
    "print(monedasZ)\n",
    "print(monedas)\n",
    "monedas['quarter'] = -10\n",
    "monedas + monedasZ"
   ]
  },
  {
   "cell_type": "code",
   "execution_count": null,
   "metadata": {},
   "outputs": [],
   "source": [
    "# Las series tienen comportamiento, por ejemplo:\n",
    "nombre = Series(list('Luis Miguel de la Cruz Salas'))\n",
    "nombre.unique()"
   ]
  },
  {
   "cell_type": "code",
   "execution_count": null,
   "metadata": {},
   "outputs": [],
   "source": [
    "# Puede contar los objetos que hay en la Serie\n",
    "nombre.value_counts()"
   ]
  },
  {
   "cell_type": "code",
   "execution_count": null,
   "metadata": {},
   "outputs": [],
   "source": [
    "# Podemos tener una serie con índices en desorden:\n",
    "serie = Series(range(5),index=['C','A','B','E','D'])\n",
    "serie"
   ]
  },
  {
   "cell_type": "code",
   "execution_count": null,
   "metadata": {},
   "outputs": [],
   "source": [
    "# La serie se puede ordenar a través de los índices\n",
    "serie.sort_index()"
   ]
  },
  {
   "cell_type": "code",
   "execution_count": null,
   "metadata": {},
   "outputs": [],
   "source": [
    "serie   # Ojo: el ordenamiento no se hizo \"in place\", es decir no se modificó la serie original"
   ]
  },
  {
   "cell_type": "code",
   "execution_count": null,
   "metadata": {
    "collapsed": true
   },
   "outputs": [],
   "source": [
    "# Aquí creamos una nueva serie ordenada, pero la original prevalece\n",
    "serie_ordenada = serie.sort_index()"
   ]
  },
  {
   "cell_type": "code",
   "execution_count": null,
   "metadata": {},
   "outputs": [],
   "source": [
    "serie_ordenada"
   ]
  },
  {
   "cell_type": "code",
   "execution_count": null,
   "metadata": {},
   "outputs": [],
   "source": [
    "serie"
   ]
  },
  {
   "cell_type": "code",
   "execution_count": null,
   "metadata": {},
   "outputs": [],
   "source": [
    "# Podemos ordenar la serie \"in place\", es decir se modifica la serie original\n",
    "serie.sort_index(inplace=True)\n",
    "serie"
   ]
  },
  {
   "cell_type": "code",
   "execution_count": null,
   "metadata": {},
   "outputs": [],
   "source": [
    "# Se puede ordenar la serie usando los objetos que contiene\n",
    "serie.sort_values()"
   ]
  },
  {
   "cell_type": "code",
   "execution_count": null,
   "metadata": {},
   "outputs": [],
   "source": [
    "# Creamos otra serie con valores e índices desordenados\n",
    "serie = Series([7,5,2,8,3],index=['C','A','B','E','D'])\n",
    "serie"
   ]
  },
  {
   "cell_type": "code",
   "execution_count": null,
   "metadata": {},
   "outputs": [],
   "source": [
    "# La siguiente función \"rankea\" las entradas de la serie de acuerdo al contenido de su objeto\n",
    "serie.rank()"
   ]
  },
  {
   "cell_type": "code",
   "execution_count": null,
   "metadata": {},
   "outputs": [],
   "source": [
    "# Si ordenamos la serie que pasa ¿?:\n",
    "serie.sort_values()"
   ]
  },
  {
   "cell_type": "code",
   "execution_count": null,
   "metadata": {},
   "outputs": [],
   "source": [
    "# Se pueden usar varias de las funciones de Numpy\n",
    "serie + 3"
   ]
  },
  {
   "cell_type": "code",
   "execution_count": null,
   "metadata": {},
   "outputs": [],
   "source": [
    "serie**2"
   ]
  },
  {
   "cell_type": "code",
   "execution_count": null,
   "metadata": {},
   "outputs": [],
   "source": [
    "np.sin(serie)"
   ]
  },
  {
   "cell_type": "code",
   "execution_count": null,
   "metadata": {
    "collapsed": true
   },
   "outputs": [],
   "source": [
    "# Keep digging please!!"
   ]
  },
  {
   "cell_type": "markdown",
   "metadata": {},
   "source": [
    "### La función `apply`\n",
    "```python\n",
    "Series.apply(func, conver_dtype=True, args(), **kwds)\n",
    "```\n",
    "- La función `func` será aplicada a la serie y regresa un objeto de tipo Series o DataFrame.\n"
   ]
  },
  {
   "cell_type": "code",
   "execution_count": null,
   "metadata": {},
   "outputs": [],
   "source": [
    "s = serie.apply(np.sin)\n",
    "print(type(s))"
   ]
  },
  {
   "cell_type": "markdown",
   "metadata": {},
   "source": [
    "- Podemos usar funciones lambda"
   ]
  },
  {
   "cell_type": "code",
   "execution_count": null,
   "metadata": {},
   "outputs": [],
   "source": [
    "serie"
   ]
  },
  {
   "cell_type": "code",
   "execution_count": null,
   "metadata": {},
   "outputs": [],
   "source": [
    "serie.apply(lambda x: x if x > 5 else x**2)"
   ]
  },
  {
   "cell_type": "markdown",
   "metadata": {},
   "source": [
    "### Filtrar o completar datos faltantes"
   ]
  },
  {
   "cell_type": "code",
   "execution_count": null,
   "metadata": {},
   "outputs": [],
   "source": [
    "monedas['penny'] = 150000\n",
    "monedas\n",
    "monedas + monedasZ"
   ]
  },
  {
   "cell_type": "code",
   "execution_count": null,
   "metadata": {},
   "outputs": [],
   "source": [
    "nueva_serie = monedas + monedasZ\n",
    "nueva_serie"
   ]
  },
  {
   "cell_type": "code",
   "execution_count": null,
   "metadata": {},
   "outputs": [],
   "source": [
    "nueva_serie.dropna() # Desecha los NaN "
   ]
  },
  {
   "cell_type": "code",
   "execution_count": null,
   "metadata": {},
   "outputs": [],
   "source": [
    "nueva_serie.fillna(3000) # Completa los NaN con 3000"
   ]
  },
  {
   "cell_type": "markdown",
   "metadata": {},
   "source": [
    "## DataFrames\n",
    "\n",
    "- La idea principal de los DaraFrames se basa en las hojas de cálculo.\n",
    "- La estructura de un DataFrame son tablas similares a las hojas de cálculo.\n",
    "- Contiene una colección ordenada de columnas.\n",
    "- Cada columna consiste de un tipo de dato único.\n",
    "- Pero, diferentes columnas pueden tener diferens tipos: la primera columna podría contener cadenas, la segunda flotantes, la tercera Boleanos, etc.\n",
    "- También tiene una columna de índice: es como un diccionario de Series con un índice común.\n"
   ]
  },
  {
   "cell_type": "code",
   "execution_count": null,
   "metadata": {
    "collapsed": true
   },
   "outputs": [],
   "source": [
    "# Mi primer DataFrame\n",
    "dframe = DataFrame(np.arange(12).reshape(4,3))"
   ]
  },
  {
   "cell_type": "code",
   "execution_count": null,
   "metadata": {},
   "outputs": [],
   "source": [
    "dframe"
   ]
  },
  {
   "cell_type": "markdown",
   "metadata": {},
   "source": [
    "- En este ejemplo `dframe` se construye convirtiendo un arreglo multidimensional de **numpy** con la forma: 4 renglones X 3 columnas, en un objeto de tipo DataFrame, pre-llenado con los valores del 0 al 11. Los índices por omisión de los renglones van de 0 a 3 y los de las columnas de 0 a 2.  "
   ]
  },
  {
   "cell_type": "code",
   "execution_count": null,
   "metadata": {},
   "outputs": [],
   "source": [
    "type(dframe)"
   ]
  },
  {
   "cell_type": "markdown",
   "metadata": {},
   "source": [
    "## Construir un DataFrame a partir de un diccionario"
   ]
  },
  {
   "cell_type": "code",
   "execution_count": null,
   "metadata": {},
   "outputs": [],
   "source": [
    "datos = {'Delegación':['Coyoacán','Tlalpan','Xochimilco'],\n",
    "         'Población':[837000,3880000,8400000]}\n",
    "delegaciones = DataFrame(datos)\n",
    "delegaciones"
   ]
  },
  {
   "cell_type": "markdown",
   "metadata": {},
   "source": [
    "## Agregar una Serie a un DataFrame"
   ]
  },
  {
   "cell_type": "code",
   "execution_count": null,
   "metadata": {},
   "outputs": [],
   "source": [
    "IMECAS = Series([90,100,120], index=[0,1,2])\n",
    "print(IMECAS)\n",
    "delegaciones['Cal. Aire'] = IMECAS\n",
    "delegaciones"
   ]
  },
  {
   "cell_type": "markdown",
   "metadata": {},
   "source": [
    "## Se puede leer información de archivos"
   ]
  },
  {
   "cell_type": "code",
   "execution_count": null,
   "metadata": {},
   "outputs": [],
   "source": [
    "df_pets = pd.read_table('pets.txt',sep=' ')\n",
    "df_pets"
   ]
  },
  {
   "cell_type": "markdown",
   "metadata": {},
   "source": [
    "## Leer un DataFrame de un sitio web"
   ]
  },
  {
   "cell_type": "code",
   "execution_count": null,
   "metadata": {},
   "outputs": [],
   "source": [
    "import webbrowser\n",
    "website = 'http://en.wikipedia.org/wiki/NFL_win-loss_records'\n",
    "webbrowser.open(website)"
   ]
  },
  {
   "cell_type": "code",
   "execution_count": null,
   "metadata": {},
   "outputs": [],
   "source": [
    "# Antes de ejecutar esta celda, seleccione los 10 primeros renglones\n",
    "# de la tabla, incluyendo los títulos y copialos al clipboard, es decir\n",
    "# teclear [Ctrl + c]\n",
    "\n",
    "#-----------------------------------------------------------------------------\n",
    "# Es probable que en Linux se obtenga un error. La forma de resolverlo es como sigue\n",
    "#-----------------------------------------------------------------------------\n",
    "#You may get an error message that says: “Pyperclip could not find a copy/paste mechanism for your system. Please see https://pyperclip.readthedocs.io/en/latest/introduction.html#not-implemented-error for how to fix this.”\n",
    "#\n",
    "#In order to work equally well on Windows, Mac, and Linux, Pyperclip uses various mechanisms to do this. Currently, this error should only appear on Linux (not Windows or Mac). You can fix this by installing one of the copy/paste mechanisms:\n",
    "#\n",
    "#    sudo apt-get install xsel to install the xsel utility.\n",
    "#    sudo apt-get install xclip to install the xclip utility.\n",
    "#    pip install gtk to install the gtk Python module.\n",
    "#    pip install PyQt4 to install the PyQt4 Python module.\n",
    "#-----------------------------------------------------------------------------\n",
    "    \n",
    "nfl_frame = pd.read_clipboard(engine='python')"
   ]
  },
  {
   "cell_type": "code",
   "execution_count": null,
   "metadata": {},
   "outputs": [],
   "source": [
    "# En caso de que lo anterior no funcione, \n",
    "# lea la información del archivo nfl_teams.txt\n",
    "#nfl_frame = pd.read_table('nfl_teams.txt',sep='\\t')\n",
    "#nfl_frame"
   ]
  },
  {
   "cell_type": "code",
   "execution_count": null,
   "metadata": {},
   "outputs": [],
   "source": [
    "nfl_frame"
   ]
  },
  {
   "cell_type": "code",
   "execution_count": null,
   "metadata": {},
   "outputs": [],
   "source": [
    "type(nfl_frame)"
   ]
  },
  {
   "cell_type": "code",
   "execution_count": null,
   "metadata": {},
   "outputs": [],
   "source": [
    "nfl_frame.columns # Lista las columnas del DataFrame"
   ]
  },
  {
   "cell_type": "code",
   "execution_count": null,
   "metadata": {},
   "outputs": [],
   "source": [
    "nfl_frame['Total Games '] # Imprime la columa que concide con \"Total Games \""
   ]
  },
  {
   "cell_type": "code",
   "execution_count": null,
   "metadata": {},
   "outputs": [],
   "source": [
    "# Puedo crear un DataFrame eligiendo columnas de otro DataFrame\n",
    "nuevo_DF = DataFrame(nfl_frame,columns=['Team ','First NFL Season ','Total Games '])\n",
    "nuevo_DF"
   ]
  },
  {
   "cell_type": "code",
   "execution_count": null,
   "metadata": {},
   "outputs": [],
   "source": [
    "nfl_frame.head() # Los primeros 5 renglones"
   ]
  },
  {
   "cell_type": "code",
   "execution_count": null,
   "metadata": {},
   "outputs": [],
   "source": [
    "nfl_frame.head(3) # Los primeos 3 renglones"
   ]
  },
  {
   "cell_type": "code",
   "execution_count": null,
   "metadata": {},
   "outputs": [],
   "source": [
    "nfl_frame.tail(3) # Los últimos tres renglones"
   ]
  },
  {
   "cell_type": "code",
   "execution_count": null,
   "metadata": {},
   "outputs": [],
   "source": [
    "nfl_frame.ix[3] # Ojo: esta función será eliminada en el futuro!"
   ]
  },
  {
   "cell_type": "code",
   "execution_count": null,
   "metadata": {},
   "outputs": [],
   "source": [
    "nfl_frame.loc[3] # La función ix ha sido sustituida por loc, que permite acceder a un renglón"
   ]
  },
  {
   "cell_type": "markdown",
   "metadata": {},
   "source": [
    "# Se pueden renombrar las columnas"
   ]
  },
  {
   "cell_type": "code",
   "execution_count": null,
   "metadata": {},
   "outputs": [],
   "source": [
    "dframe"
   ]
  },
  {
   "cell_type": "code",
   "execution_count": null,
   "metadata": {
    "collapsed": true
   },
   "outputs": [],
   "source": [
    "dframe.rename(index={0:'a',1:'b',2:'c',3:'d'}, columns={0:'col1',1:'col2', 2:'col3'}, inplace=True)"
   ]
  },
  {
   "cell_type": "code",
   "execution_count": null,
   "metadata": {},
   "outputs": [],
   "source": [
    "dframe"
   ]
  },
  {
   "cell_type": "code",
   "execution_count": null,
   "metadata": {},
   "outputs": [],
   "source": [
    "nfl_frame.head(2)"
   ]
  },
  {
   "cell_type": "code",
   "execution_count": null,
   "metadata": {
    "collapsed": true
   },
   "outputs": [],
   "source": [
    "nfl_frame.rename(columns = {'Team ':'Equipo'}, inplace=True)"
   ]
  },
  {
   "cell_type": "code",
   "execution_count": null,
   "metadata": {},
   "outputs": [],
   "source": [
    "nfl_frame.head(2)"
   ]
  },
  {
   "cell_type": "code",
   "execution_count": null,
   "metadata": {},
   "outputs": [],
   "source": [
    "'Dallas Cowboys ' in nfl_frame.values"
   ]
  },
  {
   "cell_type": "markdown",
   "metadata": {},
   "source": [
    "# Leyendo archivos CSV"
   ]
  },
  {
   "cell_type": "code",
   "execution_count": null,
   "metadata": {
    "collapsed": true
   },
   "outputs": [],
   "source": [
    "dframe_wine = pd.read_csv('winequality-red.csv',sep=';') # Lectura de CSV"
   ]
  },
  {
   "cell_type": "code",
   "execution_count": null,
   "metadata": {},
   "outputs": [],
   "source": [
    "dframe_wine.head()"
   ]
  },
  {
   "cell_type": "code",
   "execution_count": null,
   "metadata": {},
   "outputs": [],
   "source": [
    "dframe_wine['alcohol'].mean() # Se puede calcular la media de una columna"
   ]
  },
  {
   "cell_type": "code",
   "execution_count": null,
   "metadata": {},
   "outputs": [],
   "source": [
    "dframe_wine"
   ]
  },
  {
   "cell_type": "markdown",
   "metadata": {},
   "source": [
    "# Agrupación, agregación y funciones definidas por el usuario"
   ]
  },
  {
   "cell_type": "code",
   "execution_count": null,
   "metadata": {
    "collapsed": true
   },
   "outputs": [],
   "source": [
    "def difMaxMin(arr):\n",
    "    \"\"\"\n",
    "    Calcula la diferencia entre el valor mínimo y máximo de un arreglo.\n",
    "    \"\"\"\n",
    "    return arr.max() - arr.min()"
   ]
  },
  {
   "cell_type": "code",
   "execution_count": null,
   "metadata": {},
   "outputs": [],
   "source": [
    "wino = dframe_wine.groupby('quality') # Agrupa una serie\n",
    "print(type(wino))                     # regresa un DataFrame agrupado\n",
    "print(type(dframe_wine))"
   ]
  },
  {
   "cell_type": "code",
   "execution_count": null,
   "metadata": {},
   "outputs": [],
   "source": [
    "print(wino) # Solo muestra el tipo de objeto"
   ]
  },
  {
   "cell_type": "code",
   "execution_count": null,
   "metadata": {},
   "outputs": [],
   "source": [
    "wino.describe() # Muestra el DataFrame agrupado"
   ]
  },
  {
   "cell_type": "markdown",
   "metadata": {},
   "source": [
    "- Obsérvese que la función groupby() también calcula algunos datos estadísticos y ordena el resultado por el nombre de la columna (orden alfabético)."
   ]
  },
  {
   "cell_type": "code",
   "execution_count": null,
   "metadata": {},
   "outputs": [],
   "source": [
    "wino.agg(difMaxMin) # Ahora aplicamos nuestra función"
   ]
  },
  {
   "cell_type": "code",
   "execution_count": null,
   "metadata": {},
   "outputs": [],
   "source": [
    "wino.agg('mean') # También podemos aplicar una función ya definida en la biblioteca\n",
    "                 # sum, min, max, std, count, ..."
   ]
  },
  {
   "cell_type": "markdown",
   "metadata": {},
   "source": [
    "### Agregando una columna a nuestro DataFrame"
   ]
  },
  {
   "cell_type": "code",
   "execution_count": null,
   "metadata": {},
   "outputs": [],
   "source": [
    "dframe_wine.head()"
   ]
  },
  {
   "cell_type": "code",
   "execution_count": null,
   "metadata": {
    "collapsed": true
   },
   "outputs": [],
   "source": [
    "# Agrega la columna realizando un cálculo entre valores de otras columnas\n",
    "dframe_wine['qual/alc ratio'] = dframe_wine['quality'] / dframe_wine['alcohol']"
   ]
  },
  {
   "cell_type": "code",
   "execution_count": null,
   "metadata": {},
   "outputs": [],
   "source": [
    "dframe_wine.head()"
   ]
  },
  {
   "cell_type": "code",
   "execution_count": null,
   "metadata": {},
   "outputs": [],
   "source": [
    "dframe_wine.head() # recordemos como es el DataFrame original"
   ]
  },
  {
   "cell_type": "markdown",
   "metadata": {},
   "source": [
    "# Graficación con matplotlib"
   ]
  },
  {
   "cell_type": "code",
   "execution_count": null,
   "metadata": {
    "collapsed": true
   },
   "outputs": [],
   "source": [
    "%matplotlib inline"
   ]
  },
  {
   "cell_type": "code",
   "execution_count": null,
   "metadata": {},
   "outputs": [],
   "source": [
    "dframe_wine.plot(kind='scatter',x='quality',y='alcohol')"
   ]
  },
  {
   "cell_type": "code",
   "execution_count": null,
   "metadata": {
    "collapsed": true
   },
   "outputs": [],
   "source": [
    "dframe_wine.sort_values('alcohol',ascending = False,inplace=True)"
   ]
  },
  {
   "cell_type": "code",
   "execution_count": null,
   "metadata": {},
   "outputs": [],
   "source": [
    "dframe_wine.head()"
   ]
  },
  {
   "cell_type": "code",
   "execution_count": null,
   "metadata": {
    "collapsed": true
   },
   "outputs": [],
   "source": [
    "num_of_qual = dframe_wine['quality'].value_counts()"
   ]
  },
  {
   "cell_type": "code",
   "execution_count": null,
   "metadata": {},
   "outputs": [],
   "source": [
    "num_of_qual"
   ]
  },
  {
   "cell_type": "code",
   "execution_count": null,
   "metadata": {
    "collapsed": true
   },
   "outputs": [],
   "source": [
    "import matplotlib.pyplot as plt\n",
    "plt.style.use('ggplot')"
   ]
  },
  {
   "cell_type": "code",
   "execution_count": null,
   "metadata": {
    "collapsed": true
   },
   "outputs": [],
   "source": [
    "dataset1 = np.random.randn(100)"
   ]
  },
  {
   "cell_type": "code",
   "execution_count": null,
   "metadata": {},
   "outputs": [],
   "source": [
    "plt.hist(dataset1)"
   ]
  },
  {
   "cell_type": "code",
   "execution_count": null,
   "metadata": {},
   "outputs": [],
   "source": [
    "dataset2 = np.random.randn(80)\n",
    "plt.hist(dataset2,color='green')"
   ]
  },
  {
   "cell_type": "code",
   "execution_count": null,
   "metadata": {},
   "outputs": [],
   "source": [
    "plt.hist(dataset1,normed=True,color='green',alpha=0.5,bins=20)\n",
    "plt.hist(dataset2,normed=True,color='red',alpha=0.75,bins=20)\n",
    "plt.grid()"
   ]
  },
  {
   "cell_type": "markdown",
   "metadata": {},
   "source": [
    "# Graficación con `seaborn`"
   ]
  },
  {
   "cell_type": "code",
   "execution_count": null,
   "metadata": {
    "collapsed": true
   },
   "outputs": [],
   "source": [
    "import seaborn as sns"
   ]
  },
  {
   "cell_type": "code",
   "execution_count": null,
   "metadata": {
    "collapsed": true
   },
   "outputs": [],
   "source": [
    "data1 = np.random.randn(1000)\n",
    "data2 = np.random.randn(1000)"
   ]
  },
  {
   "cell_type": "code",
   "execution_count": null,
   "metadata": {},
   "outputs": [],
   "source": [
    "sns.jointplot(data1,data2)"
   ]
  },
  {
   "cell_type": "code",
   "execution_count": null,
   "metadata": {},
   "outputs": [],
   "source": [
    "sns.jointplot(data1,data2,kind='hex')"
   ]
  },
  {
   "cell_type": "markdown",
   "metadata": {},
   "source": [
    "# Cálculos complicados (Pivot Tables, etc...)"
   ]
  },
  {
   "cell_type": "markdown",
   "metadata": {},
   "source": [
    "- No se como funciona esto :(\n",
    "- Tutorial: http://pbpython.com/pandas-pivot-table-explained.html"
   ]
  },
  {
   "cell_type": "code",
   "execution_count": null,
   "metadata": {},
   "outputs": [],
   "source": [
    "dframe_wine.pivot_table(index=['quality'])"
   ]
  },
  {
   "cell_type": "code",
   "execution_count": null,
   "metadata": {},
   "outputs": [],
   "source": [
    "def ranker(df):\n",
    "    df['alc_cont_rank'] = np.arange(len(df)) + 1\n",
    "    return df\n",
    "\n",
    "dframe_wine = dframe_wine.groupby('quality').apply(ranker)\n",
    "\n",
    "dframe_wine.head(10)"
   ]
  },
  {
   "cell_type": "code",
   "execution_count": null,
   "metadata": {},
   "outputs": [],
   "source": [
    "dframe_wine[dframe_wine.alc_cont_rank == 1].head(10)"
   ]
  },
  {
   "cell_type": "code",
   "execution_count": null,
   "metadata": {
    "collapsed": true
   },
   "outputs": [],
   "source": []
  }
 ],
 "metadata": {
  "kernelspec": {
   "display_name": "Python 3",
   "language": "python",
   "name": "python3"
  },
  "language_info": {
   "codemirror_mode": {
    "name": "ipython",
    "version": 3
   },
   "file_extension": ".py",
   "mimetype": "text/x-python",
   "name": "python",
   "nbconvert_exporter": "python",
   "pygments_lexer": "ipython3",
   "version": "3.7.6"
  }
 },
 "nbformat": 4,
 "nbformat_minor": 2
}
