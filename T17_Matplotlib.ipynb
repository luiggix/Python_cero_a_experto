{
 "cells": [
  {
   "cell_type": "markdown",
   "metadata": {},
   "source": [
    "# Python de cero a experto\n",
    "**Autor:** Luis Miguel de la Cruz Salas\n",
    "\n",
    "<a href=\"https://github.com/luiggix/Python_cero_a_experto\">Python de cero a experto</a> by Luis M. de la Cruz Salas is licensed under <a href=\"https://creativecommons.org/licenses/by-nc-nd/4.0?ref=chooser-v1\">Attribution-NonCommercial-NoDerivatives 4.0 International</a>"
   ]
  },
  {
   "cell_type": "markdown",
   "metadata": {},
   "source": [
    "## Matplotlib\n",
    "Es una biblioteca de Python multiplataforma para generar gráficos (plots) en dos dimensiones con las características: \n",
    "* Se puede usar en una variedad de ámbitos:\n",
    "    - Scripts de Python, Shells de IPython, Notebooks de Jupyter, Aplicaciones para Web e Interfaces Gráficas de Usuario (GUI). \n",
    "* Se puede usar para desarrollar aplicaciones profesionales.\n",
    "* Puede generar varios tipos de formatos de figuras y videos:\n",
    "    - png, jpg, svg, pdf, mp4, ...\n",
    "* Tiene un soporte limitado para realizar figuras en 3D.\n",
    "* Puede combinarse con otras bibliotecas y aplicaciones para extender su funcionalidad.\n",
    "\n",
    "**Arquitectura** de tres capas:\n",
    "* **Scripting**: API para crear gráficas.\n",
    "    - Provee de una interfaz simple para crear gráficas.\n",
    "    - Está orientada a usuarios sin mucha experiencia en la programación.\n",
    "    - Es lo que se conoce como el API de pyplot.\n",
    "* **Artist**: Hace el trabajo interno de creación de los elementos de la gráfica.\n",
    "   - Los Artist (artesanos?) dibujan los elementos de la gráfica.\n",
    "   - Cada elemento que se ve en la gráfica es un Artist.\n",
    "   - Provee de un API orientado a objetos muy flexible.\n",
    "   - Está orientado a programadores expertos para crear aplicaciones complejas.\n",
    "* **Backend**: El lugar donde se despliega la gráfica. Las gráficas se envían a un dispositivo de salida. Puede ser cualquier interfaz que soporta Matplotlib:\n",
    "   - User interface backends (interactive backends): pygtk, wxpython, tkinter, qt4, macosx, … \n",
    "   - Hard-copy backends (non-interactive backends): .png, .svg, .pdf, .ps\n",
    "\n",
    "<img src=\"./Figuras/anatomy_001.png\" style=\"width: 400px;\"/>\n"
   ]
  },
  {
   "cell_type": "code",
   "execution_count": 1,
   "metadata": {},
   "outputs": [],
   "source": [
    "import numpy as np\n",
    "import matplotlib.pyplot as plt"
   ]
  },
  {
   "cell_type": "markdown",
   "metadata": {},
   "source": [
    "### Figure\n",
    "- Representa a la figura completa. \n",
    "- Le da seguimiento a todos sus ejes hijos (*Axes*), un puñado de artistas especiales (*titles*, *figure legends*, etc.) y el lienzo (*canvas*).\n",
    "- Una figura puede tener cualquier número de ejes (*Axes*), y siempre debe haber al menos uno.\n",
    "- La forma más fácil de crear una figura es con `pyplot`."
   ]
  },
  {
   "cell_type": "code",
   "execution_count": null,
   "metadata": {},
   "outputs": [],
   "source": [
    "# Creación de una figura (pyplot)\n",
    "fig = plt.figure()"
   ]
  },
  {
   "cell_type": "markdown",
   "metadata": {},
   "source": [
    "### Axes\n",
    "- Es la región de la imagen con el espacio para graficar los datos.\n",
    "- Una figura puede contener muchos objetos de tipo *Axes*, pero un objeto *Axes* solo puede estar en una figura.\n",
    "- Los objetos *Axes* contienen dos (o tres en 3D) objetos *Axis* los cuales se encargan de los límites de los datos.\n",
    "- Cada objeto *Axes* tiene un título (`set_title())`, un *x-label* (`set_xlabel()`) y un *y-label* (`set_ylabel()`).\n",
    "- La clase `Axes` y sus funciones miembro son el primer punto de entrada para trabajar con la interface Orientada a Objetos."
   ]
  },
  {
   "cell_type": "code",
   "execution_count": null,
   "metadata": {},
   "outputs": [],
   "source": [
    "# Obtiene los ejes (Axes) de la figura actual (get current axes)\n",
    "# (pyplot)\n",
    "plt.gca() "
   ]
  },
  {
   "cell_type": "code",
   "execution_count": null,
   "metadata": {},
   "outputs": [],
   "source": [
    "# Genera una subgráfica\n",
    "# (pyplot)\n",
    "fig, axes = plt.subplots(1)"
   ]
  },
  {
   "cell_type": "code",
   "execution_count": null,
   "metadata": {},
   "outputs": [],
   "source": [
    "# Genera 6 subgráficas, arreglo de 2 renglones por tres columnas\n",
    "# (pyplot)\n",
    "fig, axes = plt.subplots(2,3)"
   ]
  },
  {
   "cell_type": "markdown",
   "metadata": {},
   "source": [
    "### Axis\n",
    "- Estos son objetos del tipo línea numerada. \n",
    "- Se encargan de configurar los límites de la gráfica y de generar las marcas sobre los ejes (*ticks*) y las etiquetas sobre esas marcas (*ticklabels*).\n",
    "- El lugar donde se ponen esas marcas se determina por un objeto `Locator` y las cadenas de las etiquetas son formateadas por un objeto `Formatter`.\n",
    "- La combinación de los objetos `Locator` y `Formatter` adecuados dan un control muy fino sobre el lugar de los *ticks* y sus *ticklabels*.\n"
   ]
  },
  {
   "cell_type": "code",
   "execution_count": null,
   "metadata": {},
   "outputs": [],
   "source": [
    "# Generación de las etiquetas de los ejes, los ticks y los tickslabels.\n",
    "#(pyplot)\n",
    "fig = plt.figure(figsize=(10,5))\n",
    "plt.xlabel('x')\n",
    "plt.ylabel('y')\n",
    "plt.xticks(ticks=np.linspace(0,1,5), labels=['a', 'b', 'c', 'd', 'c'])\n",
    "plt.yticks(ticks=np.linspace(0,1,2), labels=['A', 'B'])"
   ]
  },
  {
   "cell_type": "markdown",
   "metadata": {},
   "source": [
    "### Artist\n",
    "- Todo lo que se puede ver en la figura es un *Artist*: `Figure`, `Axes` y `Axis`, `Text`, `Line2D`, `collection`, `Patch`, etc.\n",
    "- Cuando una figura es producida/generada, todos los *Artist* son dibujados sobre el canvas.\n",
    "- La mayoría de los *Artist* están ligados a objetos de tipo `Axes`, esos *Artist* no se pueden compartir con múltiples `Axes`, ni se pueden mover a otros `Axes`.\n"
   ]
  },
  {
   "cell_type": "code",
   "execution_count": null,
   "metadata": {},
   "outputs": [],
   "source": [
    "# Figura con una gráfica y varios Artist\n",
    "# (pyplot)\n",
    "x = np.linspace(0,2*np.pi,100)\n",
    "y = np.sin(4*x)*np.exp(-x)\n",
    "plt.figure()\n",
    "plt.plot(x,y, label='$\\sin(4 \\pi x) e^{-x}$')\n",
    "plt.suptitle('FIGURA') # título de la figura\n",
    "plt.title('Onda amortiguada') # título de los ejes\n",
    "plt.xlabel('$x$')\n",
    "plt.ylabel('$y$')\n",
    "plt.grid()\n",
    "plt.legend()\n",
    "plt.savefig('onda_amortiguada.pdf')\n",
    "plt.show()"
   ]
  },
  {
   "cell_type": "markdown",
   "metadata": {},
   "source": [
    "### Ejemplo 1.\n",
    "Visualizar una imagen."
   ]
  },
  {
   "cell_type": "code",
   "execution_count": null,
   "metadata": {},
   "outputs": [],
   "source": [
    "import matplotlib.image as mpimg"
   ]
  },
  {
   "cell_type": "code",
   "execution_count": null,
   "metadata": {},
   "outputs": [],
   "source": [
    "chapulin = mpimg.imread('Figuras/chapulin.jpg')"
   ]
  },
  {
   "cell_type": "code",
   "execution_count": null,
   "metadata": {},
   "outputs": [],
   "source": [
    "print(chapulin)"
   ]
  },
  {
   "cell_type": "code",
   "execution_count": null,
   "metadata": {},
   "outputs": [],
   "source": [
    "plt.imshow(chapulin)"
   ]
  },
  {
   "cell_type": "code",
   "execution_count": null,
   "metadata": {},
   "outputs": [],
   "source": [
    "print(type(chapulin))"
   ]
  },
  {
   "cell_type": "code",
   "execution_count": null,
   "metadata": {},
   "outputs": [],
   "source": [
    "canal1_chapulin = chapulin[:,:,2]"
   ]
  },
  {
   "cell_type": "code",
   "execution_count": null,
   "metadata": {},
   "outputs": [],
   "source": [
    "plt.imshow(canal1_chapulin)"
   ]
  },
  {
   "cell_type": "code",
   "execution_count": null,
   "metadata": {},
   "outputs": [],
   "source": [
    "plt.imshow(canal1_chapulin, cmap='hot')"
   ]
  },
  {
   "cell_type": "code",
   "execution_count": null,
   "metadata": {},
   "outputs": [],
   "source": [
    "nueva = plt.imshow(canal1_chapulin, cmap='seismic')\n",
    "plt.colorbar(nueva)"
   ]
  },
  {
   "cell_type": "code",
   "execution_count": null,
   "metadata": {},
   "outputs": [],
   "source": [
    "h = plt.hist(canal1_chapulin.ravel(), bins=256)"
   ]
  },
  {
   "cell_type": "code",
   "execution_count": null,
   "metadata": {},
   "outputs": [],
   "source": [
    "fig = plt.figure()\n",
    "\n",
    "ax = fig.add_subplot(1, 2, 1)\n",
    "imgplot = plt.imshow(chapulin)\n",
    "ax.set_title('Before')\n",
    "plt.colorbar(ticks=[0,100,200], orientation='horizontal')\n",
    "\n",
    "ax = fig.add_subplot(1, 2, 2)\n",
    "imgplot = plt.imshow(canal1_chapulin, cmap='hot')\n",
    "ax.set_title('After')\n",
    "plt.colorbar(ticks=[0,100,200], orientation='horizontal')"
   ]
  },
  {
   "cell_type": "markdown",
   "metadata": {},
   "source": [
    "### Ejemplo 2.\n",
    "Dibujar las funciones $sin(x)$ , $cos(x)$ y puntos aleatorios en una sola gráfica en el dominio $(x,y) \\in [0,2\\pi] \\times [-1,1]$."
   ]
  },
  {
   "cell_type": "code",
   "execution_count": 64,
   "metadata": {},
   "outputs": [
    {
     "data": {
      "text/plain": [
       "<matplotlib.collections.PathCollection at 0x7f565659dfd0>"
      ]
     },
     "execution_count": 64,
     "metadata": {},
     "output_type": "execute_result"
    },
    {
     "data": {
      "image/png": "[encoded data removed]",
      "text/plain": [
       "<Figure size 432x288 with 1 Axes>"
      ]
     },
     "metadata": {
      "needs_background": "light"
     },
     "output_type": "display_data"
    }
   ],
   "source": [
    "x = np.linspace(0,2*np.pi,100)\n",
    "r = np.random.rand(2,50)\n",
    "r[0] *= 2*np.pi\n",
    "r[1] =  r[1] * 2 - 1\n",
    "\n",
    "#r = np.random.rand(2,50) * np.array([2*np.pi, 2]).reshape(2,1) - np.array([0,1]).reshape(2,1)\n",
    "\n",
    "y1 = np.sin(x)\n",
    "y2 = np.cos(x)\n",
    "\n",
    "plt.plot(x, y1, x, y2)\n",
    "plt.scatter(r[0], r[1])"
   ]
  },
  {
   "cell_type": "code",
   "execution_count": 80,
   "metadata": {},
   "outputs": [
    {
     "data": {
      "text/plain": [
       "<matplotlib.legend.Legend at 0x7f5655b7ae50>"
      ]
     },
     "execution_count": 80,
     "metadata": {},
     "output_type": "execute_result"
    },
    {
     "data": {
      "image/png": "[encoded data removed]",
      "text/plain": [
       "<Figure size 432x288 with 1 Axes>"
      ]
     },
     "metadata": {
      "needs_background": "light"
     },
     "output_type": "display_data"
    }
   ],
   "source": [
    "plt.plot(x, y1, lw = 2, c='C7', label='sin')\n",
    "plt.plot(x, y2)\n",
    "area = np.random.rand(50) * 50\n",
    "plt.scatter(r[0], r[1], s=area, c=area, edgecolor='k', lw=0.5, alpha=0.5)\n",
    "plt.legend()"
   ]
  },
  {
   "cell_type": "code",
   "execution_count": null,
   "metadata": {},
   "outputs": [],
   "source": []
  },
  {
   "cell_type": "code",
   "execution_count": null,
   "metadata": {},
   "outputs": [],
   "source": []
  }
 ],
 "metadata": {
  "kernelspec": {
   "display_name": "Python 3",
   "language": "python",
   "name": "python3"
  },
  "language_info": {
   "codemirror_mode": {
    "name": "ipython",
    "version": 3
   },
   "file_extension": ".py",
   "mimetype": "text/x-python",
   "name": "python",
   "nbconvert_exporter": "python",
   "pygments_lexer": "ipython3",
   "version": "3.8.5"
  }
 },
 "nbformat": 4,
 "nbformat_minor": 4
}
