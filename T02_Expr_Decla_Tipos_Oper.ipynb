{
 "cells": [
  {
   "cell_type": "markdown",
   "metadata": {},
   "source": [
    "# Python de cero a experto\n",
    "**Autor:** Luis Miguel de la Cruz Salas\n",
    "\n",
    "<a href=\"https://github.com/luiggix/Python_cero_a_experto\">Python de cero a experto</a> by Luis M. de la Cruz Salas is licensed under <a href=\"https://creativecommons.org/licenses/by-nc-nd/4.0?ref=chooser-v1\">Attribution-NonCommercial-NoDerivatives 4.0 International</a>"
   ]
  },
  {
   "cell_type": "markdown",
   "metadata": {},
   "source": [
    "## Pythonico es más bonito"
   ]
  },
  {
   "cell_type": "markdown",
   "metadata": {},
   "source": [
    "### <font color=\"#DF2145\">Expresiones y declaraciones</font>"
   ]
  },
  {
   "cell_type": "markdown",
   "metadata": {},
   "source": [
    "En matemáticas se define una expresión como una colección de símbolos que juntos expresan una cantidad, por ejemplo, el perímetro de una circunferencia es 2$\\pi r$. \n",
    "\n",
    "\n",
    "En Python una **expresión** está compuesta de una combinación válida de valores, operadores, funciones y métodos, que se puede evaluar y da como resultado al menos un valor. Una expresión puede estar del lado derecho de una asignación. \n",
    "\n",
    "```python\n",
    "a = 2**32\n",
    "```\n",
    "Véase más en \n",
    "<a href=\"https://docs.python.org/3/reference/expressions.html\">The Python language reference: Expressions</a> y <a href=\"https://en.wikipedia.org/wiki/Python_(programming_language)#Expressions\"> Python expressions </a> .\n",
    "\n",
    "En términos simples y generales se dice que **una expresión produce un valor**."
   ]
  },
  {
   "cell_type": "code",
   "execution_count": null,
   "metadata": {},
   "outputs": [],
   "source": [
    "23  # Expresión simple"
   ]
  },
  {
   "cell_type": "code",
   "execution_count": null,
   "metadata": {},
   "outputs": [],
   "source": [
    "len('Hola mundo') # Expresión que ejecuta una función"
   ]
  },
  {
   "cell_type": "code",
   "execution_count": null,
   "metadata": {},
   "outputs": [],
   "source": [
    "# Otros ejemplos\n",
    "x = 1\n",
    "y = x + 2\n",
    "y ** 3"
   ]
  },
  {
   "cell_type": "code",
   "execution_count": null,
   "metadata": {},
   "outputs": [],
   "source": [
    "7 == 2 * 2 * 2"
   ]
  },
  {
   "cell_type": "code",
   "execution_count": null,
   "metadata": {},
   "outputs": [],
   "source": [
    "3.141592 * len('Luis')"
   ]
  },
  {
   "cell_type": "markdown",
   "metadata": {},
   "source": [
    "Una **declaración** (*statement*) se puede pensar como el elemento autónomo más corto de un lenguaje de programación. Un programa se forma de una secuencia que contiene una o más declaraciones. Una declaración contiene componentes internos, que pueden ser otras declaraciones y varias expresiones. Véase más en <a href=\"https://docs.python.org/3/reference/simple_stmts.html\">Simple statements</a>, <a href=\"https://docs.python.org/3/reference/compound_stmts.html\">Compound statements</a>\n",
    "y <a href=\"https://en.wikipedia.org/wiki/Python_(programming_language)#Statements_and_control_flow\">Python statements (wikipedia)</a>.\n",
    "\n",
    "En términos simples y generales se dice que **una declaración hace algo**."
   ]
  },
  {
   "cell_type": "code",
   "execution_count": null,
   "metadata": {},
   "outputs": [],
   "source": [
    "# Esta declaración realiza una pregunta, no produce nada\n",
    "if x < 0:\n",
    "    x = 0"
   ]
  },
  {
   "cell_type": "code",
   "execution_count": null,
   "metadata": {},
   "outputs": [],
   "source": [
    "# Esta declaración ejecuta una función.\n",
    "print('Hola')"
   ]
  },
  {
   "cell_type": "markdown",
   "metadata": {},
   "source": [
    "### <font color=\"#DF2145\">Tipos y operadores</font>"
   ]
  },
  {
   "cell_type": "markdown",
   "metadata": {},
   "source": [
    "El tipo de un objeto se determina en tiempo de ejecución.\n",
    "\n",
    "Tres tipos más usados:\n",
    "\n",
    "|Tipo|Ejemplo|\n",
    "|----|-------|\n",
    "|Númerico|13, 3.1416, 1+5j|\n",
    "| Cadena |\"Frida\", \"Diego\"|\n",
    "| Lógico | True, False|"
   ]
  },
  {
   "cell_type": "markdown",
   "metadata": {},
   "source": [
    "### <font color=\"#DF2145\">Tipos númericos</font>\n",
    "Tres tipos de números:\n",
    "1. Enteros\n",
    "2. Reales\n",
    "3. Complejos"
   ]
  },
  {
   "cell_type": "markdown",
   "metadata": {},
   "source": [
    "**1. Enteros**\n",
    "\n",
    "Son aquellos que carecen de parte decimal."
   ]
  },
  {
   "cell_type": "code",
   "execution_count": null,
   "metadata": {},
   "outputs": [],
   "source": [
    "entero   = 13\n",
    "print(entero)\n",
    "print(type(entero))"
   ]
  },
  {
   "cell_type": "code",
   "execution_count": null,
   "metadata": {},
   "outputs": [],
   "source": [
    "import sys\n",
    "sys.int_info"
   ]
  },
  {
   "cell_type": "markdown",
   "metadata": {},
   "source": [
    "**2. Reales**\n",
    "\n",
    "Son aquellos que tienen una parte decimal."
   ]
  },
  {
   "cell_type": "code",
   "execution_count": null,
   "metadata": {},
   "outputs": [],
   "source": [
    "pi = 3.141592\n",
    "print(pi)\n",
    "print(type(pi))"
   ]
  },
  {
   "cell_type": "code",
   "execution_count": null,
   "metadata": {},
   "outputs": [],
   "source": [
    "sys.float_info"
   ]
  },
  {
   "cell_type": "markdown",
   "metadata": {},
   "source": [
    "**3. Complejos**\n",
    "\n",
    "Son aquellos que tienen una parte real y una parte imaginaria, y ambas partes son números reales."
   ]
  },
  {
   "cell_type": "code",
   "execution_count": null,
   "metadata": {},
   "outputs": [],
   "source": [
    "complejo = 12 + 5j # La parte imaginaria lleva una j al final\n",
    "print(complejo)\n",
    "print(type(complejo))"
   ]
  },
  {
   "cell_type": "code",
   "execution_count": null,
   "metadata": {},
   "outputs": [],
   "source": [
    "complejo.imag"
   ]
  },
  {
   "cell_type": "code",
   "execution_count": null,
   "metadata": {},
   "outputs": [],
   "source": [
    "complejo.real"
   ]
  },
  {
   "cell_type": "code",
   "execution_count": null,
   "metadata": {},
   "outputs": [],
   "source": [
    "complejo.conjugate()"
   ]
  },
  {
   "cell_type": "code",
   "execution_count": null,
   "metadata": {},
   "outputs": [],
   "source": [
    "complejo.imag"
   ]
  },
  {
   "cell_type": "markdown",
   "metadata": {},
   "source": [
    "### <font color=\"#DF2145\">Operadores Aritméticos</font>"
   ]
  },
  {
   "cell_type": "code",
   "execution_count": null,
   "metadata": {},
   "outputs": [],
   "source": [
    "# Suma\n",
    "1 + 2"
   ]
  },
  {
   "cell_type": "code",
   "execution_count": null,
   "metadata": {},
   "outputs": [],
   "source": [
    "# Resta\n",
    "5 - 32"
   ]
  },
  {
   "cell_type": "code",
   "execution_count": null,
   "metadata": {},
   "outputs": [],
   "source": [
    "# Multiplicación\n",
    "3 * 3"
   ]
  },
  {
   "cell_type": "code",
   "execution_count": null,
   "metadata": {},
   "outputs": [],
   "source": [
    "# División\n",
    "3 / 2"
   ]
  },
  {
   "cell_type": "code",
   "execution_count": null,
   "metadata": {},
   "outputs": [],
   "source": [
    "# Potencia\n",
    "81 ** (1/2)"
   ]
  },
  {
   "cell_type": "markdown",
   "metadata": {},
   "source": [
    "<a href=\"https://docs.python.org/3/library/stdtypes.html#numeric-types-int-float-complex\">Numeric types</a>"
   ]
  },
  {
   "cell_type": "code",
   "execution_count": null,
   "metadata": {},
   "outputs": [],
   "source": [
    "# Precedencia de operaciones\n",
    "1 + 2 * 3 + 4"
   ]
  },
  {
   "cell_type": "code",
   "execution_count": null,
   "metadata": {},
   "outputs": [],
   "source": [
    "# Uso de paréntesis para modificar la precedencia\n",
    "(1 + 2) * (3 + 4)"
   ]
  },
  {
   "cell_type": "code",
   "execution_count": null,
   "metadata": {},
   "outputs": [],
   "source": [
    "6/2*(2+1)"
   ]
  },
  {
   "cell_type": "markdown",
   "metadata": {},
   "source": [
    "<a href=\"https://docs.python.org/3/reference/expressions.html#operator-summary\">Operator precedence</a>"
   ]
  },
  {
   "cell_type": "code",
   "execution_count": null,
   "metadata": {},
   "outputs": [],
   "source": [
    "# Operaciones entre tipos diferentes\n",
    "a = 1\n",
    "b = 2 * 3j\n",
    "a + b"
   ]
  },
  {
   "cell_type": "markdown",
   "metadata": {},
   "source": [
    "### <font color=\"#DF2145\">Operadores de asignación</font>"
   ]
  },
  {
   "cell_type": "code",
   "execution_count": null,
   "metadata": {},
   "outputs": [],
   "source": [
    "etiqueta = 1.0 \n",
    "suma = 1.0\n",
    "suma += etiqueta  # Equivalente a : suma = suma + etiqueta\n",
    "print(suma)"
   ]
  },
  {
   "cell_type": "code",
   "execution_count": null,
   "metadata": {},
   "outputs": [],
   "source": [
    "suma += 1\n",
    "suma"
   ]
  },
  {
   "cell_type": "code",
   "execution_count": null,
   "metadata": {},
   "outputs": [],
   "source": [
    "suma = 1\n",
    "suma"
   ]
  },
  {
   "cell_type": "code",
   "execution_count": null,
   "metadata": {},
   "outputs": [],
   "source": [
    "etiqueta =  4\n",
    "resta = 16\n",
    "resta -= etiqueta # Equivalente a : resta = resta - etiqueta\n",
    "print(resta)"
   ]
  },
  {
   "cell_type": "code",
   "execution_count": null,
   "metadata": {},
   "outputs": [],
   "source": [
    "etiqueta = 2\n",
    "mult = 12\n",
    "mult *= etiqueta  # Equivalente a : mult = mult * etiqueta\n",
    "print(mult)"
   ]
  },
  {
   "cell_type": "code",
   "execution_count": null,
   "metadata": {},
   "outputs": [],
   "source": [
    "etiqueta = 5\n",
    "divide = 50\n",
    "divide /= etiqueta  # Equivalente a : divide = divide / etiqueta\n",
    "print(divide)"
   ]
  },
  {
   "cell_type": "code",
   "execution_count": null,
   "metadata": {},
   "outputs": [],
   "source": [
    "etiqueta = 2\n",
    "pot = 3\n",
    "pot **= etiqueta # Equivalente a : pot = pot ** etiqueta\n",
    "print(pot)"
   ]
  },
  {
   "cell_type": "code",
   "execution_count": null,
   "metadata": {},
   "outputs": [],
   "source": [
    "etiqueta = 5\n",
    "modulo = 50\n",
    "modulo %= etiqueta # Equivalente a : modulo = modulo % etiqueta\n",
    "print(modulo)"
   ]
  },
  {
   "cell_type": "markdown",
   "metadata": {},
   "source": [
    "### <font color=\"#DF2145\">Cadenas</font>\n",
    "\n",
    "Para definir una cadena se utilizan comillas simples, comillas dobles o comillas triples."
   ]
  },
  {
   "cell_type": "code",
   "execution_count": null,
   "metadata": {},
   "outputs": [],
   "source": [
    "ejemplo = 'este es un ejemplo usando \\' \\' '\n",
    "print(ejemplo)\n",
    "ejemplo = \"este es un ejemplo usando \\\" \\\" \"\n",
    "print(ejemplo)\n",
    "ejemplo = '''este es un ejemplo usando \\'\\'\\' \\''' '''\n",
    "print(ejemplo)"
   ]
  },
  {
   "cell_type": "code",
   "execution_count": null,
   "metadata": {
    "scrolled": true
   },
   "outputs": [],
   "source": [
    "queja = ''' \n",
    "Desde muy niño\n",
    "tuve que interrumpir mi educuación\n",
    "para ir a la escuela\n",
    "'''\n",
    "print(queja)"
   ]
  },
  {
   "cell_type": "code",
   "execution_count": null,
   "metadata": {},
   "outputs": [],
   "source": [
    "# La cadena puede tener ' dentro de \" \"\n",
    "poema = \"Enjoy the moments now, because they don't last forever\"\n",
    "print(poema)"
   ]
  },
  {
   "cell_type": "code",
   "execution_count": null,
   "metadata": {},
   "outputs": [],
   "source": [
    "# La cadena puede tener \" dentro de ' '\n",
    "titulo = 'Python \"pythonico\" '\n",
    "print(titulo)"
   ]
  },
  {
   "cell_type": "markdown",
   "metadata": {},
   "source": [
    "### <font color=\"#DF2145\">Indexación de las cadenas</font>"
   ]
  },
  {
   "cell_type": "markdown",
   "metadata": {},
   "source": [
    "|   |   |   |   |   |   |   |   |   |   |   |\n",
    "|---|---|---|---|---|---|---|---|---|---|---|\n",
    "|cadena : | M | u | r | c | i | é | l | a | g |o|\n",
    "|índice +:| 0| 1| 2| 3| 4| 5| 6| 7| 8| 9 |\n",
    "|índice -:|-10|-9|-8|-7|-6|-5|-4|-3|-2|-1|"
   ]
  },
  {
   "cell_type": "code",
   "execution_count": null,
   "metadata": {},
   "outputs": [],
   "source": [
    "ejemplo = 'Murciélago'"
   ]
  },
  {
   "cell_type": "code",
   "execution_count": null,
   "metadata": {},
   "outputs": [],
   "source": [
    "ejemplo[5]"
   ]
  },
  {
   "cell_type": "code",
   "execution_count": null,
   "metadata": {},
   "outputs": [],
   "source": [
    "len(ejemplo)"
   ]
  },
  {
   "cell_type": "code",
   "execution_count": null,
   "metadata": {},
   "outputs": [],
   "source": [
    "ejemplo[10]"
   ]
  },
  {
   "cell_type": "code",
   "execution_count": null,
   "metadata": {},
   "outputs": [],
   "source": [
    "ejemplo[-4]"
   ]
  },
  {
   "cell_type": "code",
   "execution_count": null,
   "metadata": {},
   "outputs": [],
   "source": [
    "ejemplo[6]"
   ]
  },
  {
   "cell_type": "markdown",
   "metadata": {},
   "source": [
    "### <font color=\"#DF2145\">Inmutabilidad de las cadenas</font>\n",
    "Las cadenas no se pueden modificar:"
   ]
  },
  {
   "cell_type": "code",
   "execution_count": null,
   "metadata": {},
   "outputs": [],
   "source": [
    "ejemplo[5] = \"e\""
   ]
  },
  {
   "cell_type": "markdown",
   "metadata": {},
   "source": [
    "### <font color=\"#DF2145\">Acceso a porciones de las cadenas (*slicing*)</font>"
   ]
  },
  {
   "cell_type": "markdown",
   "metadata": {},
   "source": [
    "Se puede obtener una subcadena a partir de la cadena original. La sintaxis es la siguiente:\n",
    "\n",
    "`cadena[Start:End:Stride]`\n",
    "\n",
    "**Start** :Índice del primer caracter para formar la subcadena.\n",
    "\n",
    "**End** : Índice (menos uno) que indica el caracter final de la subcadena.\n",
    "\n",
    "**Stride**: Salto entre elementos."
   ]
  },
  {
   "cell_type": "code",
   "execution_count": null,
   "metadata": {},
   "outputs": [],
   "source": [
    "ejemplo[:] # Cadena completa"
   ]
  },
  {
   "cell_type": "code",
   "execution_count": null,
   "metadata": {},
   "outputs": [],
   "source": [
    "ejemplo[0:3] "
   ]
  },
  {
   "cell_type": "code",
   "execution_count": null,
   "metadata": {},
   "outputs": [],
   "source": [
    "ejemplo[::2]"
   ]
  },
  {
   "cell_type": "code",
   "execution_count": null,
   "metadata": {},
   "outputs": [],
   "source": [
    "ejemplo[1:8:2]"
   ]
  },
  {
   "cell_type": "code",
   "execution_count": null,
   "metadata": {},
   "outputs": [],
   "source": [
    "ejemplo[::-1]"
   ]
  },
  {
   "cell_type": "markdown",
   "metadata": {},
   "source": [
    "### <font color=\"#DF2145\">Operaciones básicas con cadenas</font>\n",
    "\n",
    "Los operadores: `+` y `*` están definidos para las cadenas."
   ]
  },
  {
   "cell_type": "code",
   "execution_count": null,
   "metadata": {},
   "outputs": [],
   "source": [
    "'Luis' + ' ' + 'Miguel' # Concatenación"
   ]
  },
  {
   "cell_type": "code",
   "execution_count": null,
   "metadata": {},
   "outputs": [],
   "source": [
    "'ABC' * 3 # Repetición"
   ]
  },
  {
   "cell_type": "markdown",
   "metadata": {},
   "source": [
    "### <font color=\"#DF2145\">Funciones aplicables sobre las cadenas</font>"
   ]
  },
  {
   "cell_type": "code",
   "execution_count": null,
   "metadata": {},
   "outputs": [],
   "source": [
    "ejemplo = 'murcielago'"
   ]
  },
  {
   "cell_type": "code",
   "execution_count": null,
   "metadata": {},
   "outputs": [],
   "source": [
    "ejemplo.capitalize()"
   ]
  },
  {
   "cell_type": "code",
   "execution_count": null,
   "metadata": {},
   "outputs": [],
   "source": [
    "ejemplo.center # posicionarse en la palabra center y teclear [Shift+Tab]"
   ]
  },
  {
   "cell_type": "code",
   "execution_count": null,
   "metadata": {},
   "outputs": [],
   "source": [
    "print(ejemplo)\n",
    "print(ejemplo.center(20,'-'))\n",
    "print(ejemplo.upper())\n",
    "print(ejemplo.find('e'))\n",
    "print(ejemplo.count('g'))\n",
    "print(ejemplo.isprintable())"
   ]
  },
  {
   "cell_type": "markdown",
   "metadata": {},
   "source": [
    "### <font color=\"#DF2145\">Construcción de cadenas con variables</font>"
   ]
  },
  {
   "cell_type": "code",
   "execution_count": null,
   "metadata": {},
   "outputs": [],
   "source": [
    "edad = 15\n",
    "nombre = 'Pedro'\n",
    "apellido = 'Páramo'\n",
    "peso = 70.5"
   ]
  },
  {
   "cell_type": "code",
   "execution_count": null,
   "metadata": {},
   "outputs": [],
   "source": [
    "datos = nombre + apellido + 'tiene' + str(15) + 'años y pesa ' + str(70.5)\n",
    "datos"
   ]
  },
  {
   "cell_type": "code",
   "execution_count": null,
   "metadata": {},
   "outputs": [],
   "source": [
    "datos = '{} {} tiene {} años y pesa {}'.format(nombre, apellido, edad, peso)\n",
    "datos"
   ]
  },
  {
   "cell_type": "code",
   "execution_count": null,
   "metadata": {},
   "outputs": [],
   "source": [
    "# f-strings (formatted string literals)\n",
    "datos = f'{nombre} {apellido} tiene {edad} años y pesa {peso}'\n",
    "datos"
   ]
  },
  {
   "cell_type": "markdown",
   "metadata": {},
   "source": [
    "### <font color=\"#DF2145\">Constantes</font>\n",
    "\n",
    "- `False`: de tipo Booleano.\n",
    "- `True`: de tipo Booleano.\n",
    "- `None`: El único valor para el tipo NoneType. Es usado frecuentemente para representar la ausencia de un valor, por ejemplo cuando no se pasa un argumento a una función.\n",
    "- `NotImplemented`: es un valor especial que es regresado por métodos binarios especiales (por ejemplo `__eq__()`, `__lt__()`, `__add__()`, `__rsub__()`, etc.) para indicar que la operación no está implementada con respecto a otro tipo. \n",
    "\n",
    "- Ellipsis: equivalente a `...`, es un valor especial usado mayormente en conjunción con la sintáxis de *slicing*.\n",
    "\n",
    "- `__debug__` : Esta constante es verdadera si Python no se inició con la opción -O. \n",
    "\n",
    "Las siguiente constantes son usadas dentro del intérprete interactivo (no se pueden usar dentro de programas ejecutados fuera del intérprete).\n",
    "\n",
    "- `quit`(code=None)\n",
    "- `exit`(code=None)¶\n",
    "- `copyright`\n",
    "- `credits`\n",
    "- `license`"
   ]
  },
  {
   "cell_type": "code",
   "execution_count": null,
   "metadata": {},
   "outputs": [],
   "source": [
    "copyright"
   ]
  },
  {
   "cell_type": "markdown",
   "metadata": {},
   "source": [
    "### <font color=\"#DF2145\">Tipos lógicos </font>\n",
    "\n",
    "Es un tipo utilizado para realizar operaciones lógicas y puede tomar dos valores: **True** o **False**."
   ]
  },
  {
   "cell_type": "code",
   "execution_count": null,
   "metadata": {},
   "outputs": [],
   "source": [
    "bandera = True \n",
    "bandera"
   ]
  },
  {
   "cell_type": "markdown",
   "metadata": {},
   "source": [
    "### <font color=\"#DF2145\">Operadores lógicos </font>"
   ]
  },
  {
   "cell_type": "code",
   "execution_count": null,
   "metadata": {},
   "outputs": [],
   "source": [
    "35 > 562"
   ]
  },
  {
   "cell_type": "code",
   "execution_count": null,
   "metadata": {},
   "outputs": [],
   "source": [
    "32 >= 21"
   ]
  },
  {
   "cell_type": "code",
   "execution_count": null,
   "metadata": {},
   "outputs": [],
   "source": [
    "12 < 34"
   ]
  },
  {
   "cell_type": "code",
   "execution_count": null,
   "metadata": {},
   "outputs": [],
   "source": [
    "12 <= 25"
   ]
  },
  {
   "cell_type": "code",
   "execution_count": null,
   "metadata": {},
   "outputs": [],
   "source": [
    "5 == 5 "
   ]
  },
  {
   "cell_type": "code",
   "execution_count": null,
   "metadata": {},
   "outputs": [],
   "source": [
    "23 != 23"
   ]
  },
  {
   "cell_type": "code",
   "execution_count": null,
   "metadata": {},
   "outputs": [],
   "source": [
    "'aaa' == 'aaa'"
   ]
  },
  {
   "cell_type": "markdown",
   "metadata": {},
   "source": [
    "### <font color=\"#DF2145\">Operaciones lógicas básicas</font>\n",
    "\n",
    "1. and\n",
    "2. or\n",
    "3. not"
   ]
  },
  {
   "cell_type": "code",
   "execution_count": null,
   "metadata": {},
   "outputs": [],
   "source": [
    "(5 < 32) and (63 > 32)"
   ]
  },
  {
   "cell_type": "code",
   "execution_count": null,
   "metadata": {},
   "outputs": [],
   "source": [
    "(2.32 < 21) and (23 > 63)"
   ]
  },
  {
   "cell_type": "code",
   "execution_count": null,
   "metadata": {},
   "outputs": [],
   "source": [
    "(32 == 32) or (5 < 31)\n"
   ]
  },
  {
   "cell_type": "code",
   "execution_count": null,
   "metadata": {},
   "outputs": [],
   "source": [
    "(32 == 21) or (31 < 5) "
   ]
  },
  {
   "cell_type": "code",
   "execution_count": null,
   "metadata": {},
   "outputs": [],
   "source": [
    "not True "
   ]
  },
  {
   "cell_type": "code",
   "execution_count": null,
   "metadata": {},
   "outputs": [],
   "source": [
    "not (32 != 32)"
   ]
  },
  {
   "cell_type": "code",
   "execution_count": null,
   "metadata": {},
   "outputs": [],
   "source": [
    "(0.4 - 0.3) == 0.1 "
   ]
  },
  {
   "cell_type": "markdown",
   "metadata": {},
   "source": [
    "### <font color=\"#DF2145\">Fuertemente Tipado </font>\n",
    "\n",
    "Esta característica impide que se realizen operaciones entre tipos no compatibles."
   ]
  },
  {
   "cell_type": "code",
   "execution_count": null,
   "metadata": {},
   "outputs": [],
   "source": [
    "lógico = True \n",
    "real   = 220.0  \n",
    "entero = 284\n",
    "complejo = 1+1j\n",
    "cadena = 'numeros hermanos'"
   ]
  },
  {
   "cell_type": "code",
   "execution_count": null,
   "metadata": {},
   "outputs": [],
   "source": [
    "lógico + real"
   ]
  },
  {
   "cell_type": "code",
   "execution_count": null,
   "metadata": {},
   "outputs": [],
   "source": [
    "lógico + complejo"
   ]
  },
  {
   "cell_type": "code",
   "execution_count": null,
   "metadata": {
    "scrolled": true
   },
   "outputs": [],
   "source": [
    "cadena + real  # Tipos no compatibles"
   ]
  },
  {
   "cell_type": "markdown",
   "metadata": {},
   "source": [
    "### <font color=\"#DF2145\">Conversión entre tipos (*casting*) </font>\n",
    "\n",
    "Operación para transformar un tipo en otro tipo compatible."
   ]
  },
  {
   "cell_type": "markdown",
   "metadata": {},
   "source": [
    "`int()`\n",
    "\n",
    "Transforma objetos en enteros, siempre y cuando haya compatibilidad."
   ]
  },
  {
   "cell_type": "code",
   "execution_count": null,
   "metadata": {},
   "outputs": [],
   "source": [
    "cadena = '1000'\n",
    "print(type(cadena))\n",
    "entero = int(cadena)\n",
    "print(type(entero))\n",
    "print(entero)"
   ]
  },
  {
   "cell_type": "code",
   "execution_count": null,
   "metadata": {},
   "outputs": [],
   "source": [
    "flotante = 3.141592\n",
    "entero  = int(flotante) # Trunca la parte decimal\n",
    "print(entero)"
   ]
  },
  {
   "cell_type": "code",
   "execution_count": null,
   "metadata": {},
   "outputs": [],
   "source": [
    "complejo= 4-4j\n",
    "entero = int(complejo) # Tipos NO COMPATIBLES"
   ]
  },
  {
   "cell_type": "code",
   "execution_count": null,
   "metadata": {},
   "outputs": [],
   "source": [
    "entero = int(True) \n",
    "print(entero)"
   ]
  },
  {
   "cell_type": "code",
   "execution_count": null,
   "metadata": {},
   "outputs": [],
   "source": [
    "print(1 == True)"
   ]
  },
  {
   "cell_type": "markdown",
   "metadata": {},
   "source": [
    "`str()`\n",
    "\n",
    "Transforma objetos en cadenas, siempre y cuando haya compatibilidad."
   ]
  },
  {
   "cell_type": "code",
   "execution_count": null,
   "metadata": {},
   "outputs": [],
   "source": [
    "entero = 1000\n",
    "print(type(entero))\n",
    "cadena = str(entero) \n",
    "print(type(cadena))\n",
    "print(cadena)"
   ]
  },
  {
   "cell_type": "code",
   "execution_count": null,
   "metadata": {},
   "outputs": [],
   "source": [
    "complejo = 5+1j\n",
    "print(complejo)\n",
    "print(type(complejo))\n",
    "cadena = str(complejo)\n",
    "print(cadena)\n",
    "print(type(cadena))"
   ]
  },
  {
   "cell_type": "markdown",
   "metadata": {},
   "source": [
    "`float()`\n",
    "\n",
    "Transforma objetos en flotantes, siempre y cuando haya compatibilidad."
   ]
  },
  {
   "cell_type": "code",
   "execution_count": null,
   "metadata": {},
   "outputs": [],
   "source": [
    "cadena = '3.141592'\n",
    "print(cadena)\n",
    "print(type(cadena))\n",
    "real = float(cadena)\n",
    "print(real)\n",
    "print(type(real))"
   ]
  },
  {
   "cell_type": "code",
   "execution_count": null,
   "metadata": {},
   "outputs": [],
   "source": [
    "float(33)"
   ]
  },
  {
   "cell_type": "code",
   "execution_count": null,
   "metadata": {},
   "outputs": [],
   "source": [
    "float(False)"
   ]
  },
  {
   "cell_type": "code",
   "execution_count": null,
   "metadata": {},
   "outputs": [],
   "source": [
    "float(3+3j)"
   ]
  },
  {
   "cell_type": "markdown",
   "metadata": {},
   "source": [
    "### <font color=\"#DF2145\">Función `Eval` </font>\n",
    "\n",
    "\n",
    "Es una función que permite evaluar una cadena str, como si se tratase de una expresión, siempre y cuando la expresión sea válida en Python."
   ]
  },
  {
   "cell_type": "code",
   "execution_count": null,
   "metadata": {},
   "outputs": [],
   "source": [
    "suma = '300+800'\n",
    "resultado = eval(suma)\n",
    "print(resultado)\n",
    "print(type(resultado))"
   ]
  },
  {
   "cell_type": "code",
   "execution_count": null,
   "metadata": {},
   "outputs": [],
   "source": [
    "a = 220.1\n",
    "resta = 'a - 220'\n",
    "resultado = eval(resta)\n",
    "print(resultado)\n",
    "print(type(resultado))"
   ]
  },
  {
   "cell_type": "code",
   "execution_count": null,
   "metadata": {},
   "outputs": [],
   "source": [
    "logica = '32 == 32'\n",
    "resultado = eval(logica)\n",
    "print(resultado)\n",
    "print(type(resultado))"
   ]
  },
  {
   "cell_type": "code",
   "execution_count": null,
   "metadata": {},
   "outputs": [],
   "source": [
    "import math\n",
    "formula = 'math.sin(0.25*math.pi)'\n",
    "print(formula)\n",
    "print(type(formula))\n",
    "resultado = eval(formula)\n",
    "print(resultado)"
   ]
  },
  {
   "cell_type": "markdown",
   "metadata": {},
   "source": [
    "**Formato en código ANSI**\n",
    "- Un código de formato ANSI lo forma el carácter Escape seguido por tres números enteros separados por un punto y coma (;). \n",
    "- El primero de estos números (un valor de 0 a 7) establece el estilo del texto (negrita, subrayado, etc); el segundo número (de 30 a 37) fija el color del texto y el último número (de 40 a 47) el color del fondo.\n",
    "- El carácter Escape se puede expresar en octal \"\\033\", en hexadecimal \"\\x1b\", o bien, con chr(27).\n",
    "\n",
    "|Estilos|Código ANSI|\n",
    "|-------|-----------|\n",
    "|Sin efecto| 0 |\n",
    "|Negrita | 1 |\n",
    "|Débil| 2 |\n",
    "|Cursiva| 3 |\n",
    "|Subrayado| 4|\n",
    "|Inverso| 5 |\n",
    "|Oculto| 6 |\n",
    "|Tachado| 7 |\n",
    "\n",
    "|Color|Texto|Fondo|\n",
    "|-----|-----|-----|\n",
    "|Negro| 30 | 40 |\n",
    "|Rojo| 31 | 41 |\n",
    "|Verde| 32 | 42 |\n",
    "|Amarillo| 33 | 43 |\n",
    "|Azul| 34 | 44 |\n",
    "|Morado| 35 | 45 |\n",
    "|Cian| 36 | 46 |\n",
    "|Blanco| 37 | 47 |\n",
    "\n",
    "**OJO** : Algunos estilos no están soportados por todas las consolas."
   ]
  },
  {
   "cell_type": "code",
   "execution_count": null,
   "metadata": {},
   "outputs": [],
   "source": [
    "print(chr(27)+\"[0;31m\"+\"Texto en color rojo\")"
   ]
  },
  {
   "cell_type": "code",
   "execution_count": null,
   "metadata": {},
   "outputs": [],
   "source": [
    "print(\"\\x1b[1;32m\"+\"Texto en negrita de color verde\") "
   ]
  },
  {
   "cell_type": "code",
   "execution_count": null,
   "metadata": {},
   "outputs": [],
   "source": [
    "print(\"\\033[4;35m\"+\"Texto subrayado de color morado\") "
   ]
  },
  {
   "cell_type": "code",
   "execution_count": null,
   "metadata": {},
   "outputs": [],
   "source": [
    "print(\"\\033[1;34;46m\"+\"Texto en negrita de color azul con fondo cyan \")"
   ]
  },
  {
   "cell_type": "code",
   "execution_count": null,
   "metadata": {},
   "outputs": [],
   "source": []
  }
 ],
 "metadata": {
  "kernelspec": {
   "display_name": "Python 3",
   "language": "python",
   "name": "python3"
  },
  "language_info": {
   "codemirror_mode": {
    "name": "ipython",
    "version": 3
   },
   "file_extension": ".py",
   "mimetype": "text/x-python",
   "name": "python",
   "nbconvert_exporter": "python",
   "pygments_lexer": "ipython3",
   "version": "3.8.5"
  }
 },
 "nbformat": 4,
 "nbformat_minor": 4
}
