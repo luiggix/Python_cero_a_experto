{
 "cells": [
  {
   "cell_type": "code",
   "execution_count": 64,
   "metadata": {},
   "outputs": [],
   "source": [
    "import numpy as np\n",
    "import matplotlib.pyplot as plt\n",
    "from matplotlib.animation import FuncAnimation\n",
    "plt.style.use('ggplot')\n",
    "\n",
    "%matplotlib qt"
   ]
  },
  {
   "cell_type": "code",
   "execution_count": 65,
   "metadata": {},
   "outputs": [],
   "source": [
    "def funcion(x,t):\n",
    "    A = 0.95 * np.sin(2 * np.pi * t / 25)  # Amplitud\n",
    "    return A * np.sinc(x)  # Función: sin(x) / x"
   ]
  },
  {
   "cell_type": "code",
   "execution_count": 75,
   "metadata": {},
   "outputs": [],
   "source": [
    "def plotLine(i, linea, x):\n",
    "    linea.set_ydata(funcion(x,i)) # cambia los datos en la dirección y"
   ]
  },
  {
   "cell_type": "code",
   "execution_count": 136,
   "metadata": {},
   "outputs": [],
   "source": [
    "Tmax = 30\n",
    "x = np.linspace(-3, 3, 61)"
   ]
  },
  {
   "cell_type": "code",
   "execution_count": 107,
   "metadata": {},
   "outputs": [],
   "source": [
    "fig = plt.figure(figsize=(5,3))           # Figura\n",
    "ax = plt.axes(xlim=(-3, 3), ylim=(-1, 1)) # Ejes\n",
    "l = plt.plot(x, funcion(x,0))             # Primer estado de la gráfica\n",
    "\n",
    "anim = FuncAnimation(fig,             # Figura\n",
    "                     plotLine,        # Función que cambia los datos\n",
    "                     fargs=(l[0], x), # Argumentos de la funcion\n",
    "                     interval=100,    # Intervalo entre cuadros [ms]\n",
    "                     frames=Tmax+1,   # Total de cuadros\n",
    "                     repeat=True)     # Animación en un ciclo\n",
    "\n",
    "plt.show()"
   ]
  },
  {
   "cell_type": "code",
   "execution_count": 131,
   "metadata": {},
   "outputs": [],
   "source": [
    "def plotPoints(i, scatter, x):\n",
    "#    k = np.c_[ (x[:, np.newaxis], funcion(x,i)[:, np.newaxis]) ]\n",
    "\n",
    "    k = np.hstack( (x[:, np.newaxis], funcion(x,i)[:, np.newaxis]) )\n",
    "    scatter.set_offsets(k ) # cambia los datos en la dirección y"
   ]
  },
  {
   "cell_type": "code",
   "execution_count": 132,
   "metadata": {},
   "outputs": [],
   "source": [
    "fig = plt.figure(figsize=(5,3))           # Figura\n",
    "ax = plt.axes(xlim=(-3, 3), ylim=(-1, 1)) # Ejes\n",
    "s = plt.scatter(x, funcion(x,0))          # Primer estado de la gráfica\n",
    "\n",
    "anim = FuncAnimation(fig,             # Figura\n",
    "                     plotPoints,      # Función que cambia los datos\n",
    "                     fargs=(s, x), # Argumentos de la funcion\n",
    "                     interval=100,    # Intervalo entre cuadros [ms]\n",
    "                     frames=Tmax+1,   # Total de cuadros\n",
    "                     repeat=True)     # Animación en un ciclo\n",
    "\n",
    "plt.show()"
   ]
  },
  {
   "cell_type": "code",
   "execution_count": 154,
   "metadata": {},
   "outputs": [],
   "source": [
    "def funcion2D(x,y,t):\n",
    "    A = np.sin(2 * np.pi * t / 25)\n",
    "    return A * (x**2 + y**2)\n",
    "#F = A * np.sin(xg**2 + yg**2)\n",
    "#F = A * np.sin(xg) * np.cos(yg)"
   ]
  },
  {
   "cell_type": "code",
   "execution_count": 150,
   "metadata": {},
   "outputs": [],
   "source": [
    "def plotColor(i, cax, x, y):\n",
    "    z = funcion2D(x,y,i)\n",
    "    cax.set_array(z.flatten()) # Set_array requiere un arreglo"
   ]
  },
  {
   "cell_type": "code",
   "execution_count": 151,
   "metadata": {},
   "outputs": [],
   "source": [
    "xg, yg = np.meshgrid(x, x)\n",
    "#\n",
    "# Figura y ejes\n",
    "#\n",
    "fig = plt.figure(figsize=(4,3))           # Figuras\n",
    "ax = plt.axes(xlim=(-3, 3), ylim=(-3, 3)) # Ejes\n",
    "#\n",
    "# Se dibuja el primer conjunto de datos con mapa de color\n",
    "#\n",
    "cax = ax.pcolormesh(xg, yg, funcion2D(xg,yg,4), \n",
    "                    vmin=-1, vmax=1, cmap='Oranges', shading='gouraud')\n",
    "fig.colorbar(cax)\n",
    "#\n",
    "# Usamos \"FuncAnimation\" para realizar la animación de los diferentes\n",
    "# conjuntos de datos \n",
    "#\n",
    "anim = FuncAnimation(fig,           # La figura\n",
    "                     plotColor,       # la función que cambia los datos\n",
    "                     fargs=(cax, xg, yg), # Argumentos de la funcion\n",
    "                     interval=100,  # Intervalo entre cuadros en milisegundos\n",
    "                     frames=30,     # Cuadros por segundo\n",
    "                     repeat=True)   # Permite poner la animación en un ciclo\n",
    "\n",
    "plt.show()"
   ]
  },
  {
   "cell_type": "code",
   "execution_count": 155,
   "metadata": {},
   "outputs": [],
   "source": [
    "def plotContour(i, ax, x, y, c_o):\n",
    "    z = funcion2D(x,y,i)\n",
    "    ax.collections = []\n",
    "    ax.contour(x, y, z, **c_o)"
   ]
  },
  {
   "cell_type": "code",
   "execution_count": 164,
   "metadata": {},
   "outputs": [
    {
     "name": "stderr",
     "output_type": "stream",
     "text": [
      "<ipython-input-155-999fdc7f293e>:4: UserWarning: No contour levels were found within the data range.\n",
      "  ax.contour(x, y, z, **c_o)\n"
     ]
    }
   ],
   "source": [
    "xg, yg = np.meshgrid(x, x)\n",
    "#\n",
    "# Figura y ejes\n",
    "#\n",
    "fig = plt.figure(figsize=(4,3))           # Figuras\n",
    "ax = plt.axes(xlim=(-3, 3), ylim=(-3, 3)) # Ejes\n",
    "#\n",
    "# Se dibuja el primer conjunto de datos con mapa de color\n",
    "#\n",
    "c_o = {'levels':30, 'cmap':'RdBu'}\n",
    "cax = ax.contour(xg, yg, funcion2D(xg,yg,1), **c_o)\n",
    "fig.colorbar(cax)\n",
    "\n",
    "#\n",
    "# Usamos \"FuncAnimation\" para realizar la animación de los diferentes\n",
    "# conjuntos de datos \n",
    "#\n",
    "anim = FuncAnimation(fig,           # La figura\n",
    "                     plotContour,       # la función que cambia los datos\n",
    "                     fargs=(ax, xg, yg, c_o), # Argumentos de la funcion\n",
    "                     interval=100,  # Intervalo entre cuadros en milisegundos\n",
    "                     frames=30,     # Cuadros por segundo\n",
    "                     repeat=True)   # Permite poner la animación en un ciclo\n",
    "\n",
    "plt.show()"
   ]
  },
  {
   "cell_type": "code",
   "execution_count": null,
   "metadata": {},
   "outputs": [],
   "source": []
  }
 ],
 "metadata": {
  "kernelspec": {
   "display_name": "Python 3",
   "language": "python",
   "name": "python3"
  },
  "language_info": {
   "codemirror_mode": {
    "name": "ipython",
    "version": 3
   },
   "file_extension": ".py",
   "mimetype": "text/x-python",
   "name": "python",
   "nbconvert_exporter": "python",
   "pygments_lexer": "ipython3",
   "version": "3.8.5"
  }
 },
 "nbformat": 4,
 "nbformat_minor": 4
}
