{
 "cells": [
  {
   "cell_type": "markdown",
   "metadata": {},
   "source": [
    "# Python de cero a experto\n",
    "**Autor:** Luis Miguel de la Cruz Salas\n",
    "\n",
    "<a href=\"https://github.com/luiggix/Python_cero_a_experto\">Python de cero a experto</a> by Luis M. de la Cruz Salas is licensed under <a href=\"https://creativecommons.org/licenses/by-nc-nd/4.0?ref=chooser-v1\">Attribution-NonCommercial-NoDerivatives 4.0 International</a>\n",
    "\n",
    "\n",
    "**Objetivos.**\n",
    "Revisar los conceptos de funciones, *docstring*, excepciones, iterables, mapeo, filtrado, funciones lambda y *comprehensions*. "
   ]
  },
  {
   "cell_type": "markdown",
   "metadata": {},
   "source": [
    "## Convertidor de unidades\n",
    "\n",
    "El fútbol americano es un derivado del rugby inglés y nació hace más de cien años en Estados Unidos. Es bastante popular en ese país y se practica en más de 60 países. Para un espectador principiante que vive en un país donde se utiliza el Sistema Internacional de Unidades (SI) no es sencillo entender las dimensiones de la cancha dado que están en yardas y en pies.\n",
    "\n",
    "<img src=\"./Figuras/field-dimensions-image-yards.jpeg\" style=\"width: 500px;\"/>"
   ]
  },
  {
   "cell_type": "markdown",
   "metadata": {},
   "source": [
    "### Ejemplo 1.\n",
    "El lanzamiento de balón, de futbol americano, más largo registrado fue de Vinny Testaverde, quien supuestamente lanzó una pelota de 80 yardas en 1988. Randall Cunningham una vez registró 76 yardas y Brett Favre lanzó una bomba de 75 yardas en la competencia del 97. El mariscal de campo Patrick Mahomes asegura que puede lanzar el balón 83 yardas.\n",
    "\n",
    "1. Realice un código que convierta yardas a metros y ordene los lanzamientos mencionados en el párrafo anterior de mayor a menor. Utilice funciones para realizar lo anterior.\n",
    "\n",
    "<img src=\"./Figuras/unidades1.jpeg\" width=\"400\">"
   ]
  },
  {
   "cell_type": "markdown",
   "metadata": {},
   "source": [
    "<a href=\"./T06_Funciones_y_Documentacion.ipynb\">Funciones y documentación</a>"
   ]
  },
  {
   "cell_type": "markdown",
   "metadata": {},
   "source": [
    "**<font color=\"#126534\">SOLUCIÓN.</font>**<br>"
   ]
  },
  {
   "cell_type": "code",
   "execution_count": null,
   "metadata": {},
   "outputs": [],
   "source": [
    "def yardaToMeter(l):\n",
    "    return l / 1.093"
   ]
  },
  {
   "cell_type": "code",
   "execution_count": null,
   "metadata": {},
   "outputs": [],
   "source": [
    "lanzamientos = {'Vinny Testaverde':80, 'Randall Cunningham':76, 'Brett Favre':75, 'Patrick Mahomes':83}\n",
    "lanzamientos"
   ]
  },
  {
   "cell_type": "code",
   "execution_count": null,
   "metadata": {},
   "outputs": [],
   "source": [
    "for key, val in lanzamientos.items():\n",
    "    print(key, val)"
   ]
  },
  {
   "cell_type": "code",
   "execution_count": null,
   "metadata": {},
   "outputs": [],
   "source": [
    "lanza_metros = {}\n",
    "for key, val in lanzamientos.items():\n",
    "    lanza_metros[key] = yardaToMeter(val)\n",
    "    \n",
    "lanza_metros"
   ]
  },
  {
   "cell_type": "code",
   "execution_count": null,
   "metadata": {},
   "outputs": [],
   "source": [
    "sorted(lanza_metros)"
   ]
  },
  {
   "cell_type": "code",
   "execution_count": null,
   "metadata": {},
   "outputs": [],
   "source": [
    "sorted(lanza_metros.values())"
   ]
  },
  {
   "cell_type": "code",
   "execution_count": null,
   "metadata": {},
   "outputs": [],
   "source": [
    "import operator\n",
    "sorted(lanza_metros.items(), key=operator.itemgetter(1))"
   ]
  },
  {
   "cell_type": "code",
   "execution_count": null,
   "metadata": {},
   "outputs": [],
   "source": [
    "sorted(lanza_metros.items(), key=lambda x: x[1])"
   ]
  },
  {
   "cell_type": "code",
   "execution_count": null,
   "metadata": {},
   "outputs": [],
   "source": [
    "sorted(lanza_metros.items(), key=lambda x: x[1], reverse=True)"
   ]
  },
  {
   "cell_type": "code",
   "execution_count": null,
   "metadata": {},
   "outputs": [],
   "source": [
    "from collections import OrderedDict\n",
    "OrderedDict(sorted(lanza_metros.items(), key=lambda x: x[1]))"
   ]
  },
  {
   "cell_type": "markdown",
   "metadata": {},
   "source": [
    "<a href=\"./T07_Excepciones.ipynb\">Excepciones</a>"
   ]
  },
  {
   "cell_type": "markdown",
   "metadata": {},
   "source": [
    "<a href=\"./T08_IterablesMapFilter.ipynb\">Iterables, Mapeo y Filtrado</a>"
   ]
  },
  {
   "cell_type": "markdown",
   "metadata": {},
   "source": [
    "<a href=\"T09_LambdaExpressions_Reduce.ipynb\">Lambda Expressions y Reduce </a>"
   ]
  },
  {
   "cell_type": "markdown",
   "metadata": {},
   "source": [
    "<a href=\"T10_Comprehensions.ipynb\">Comprehensions</a>\n"
   ]
  },
  {
   "cell_type": "markdown",
   "metadata": {},
   "source": [
    "### Miniproyecto 2.\n",
    "Obtener información de internet sobre los mariscales de campo que tienen el mayor número de yardas de todos los tiempos. Para ello siga las instrucciones que se dan en \"Obteniendo datos de la web\". Con esa información hacer lo siguiente:\n",
    "1. Transformar los datos de DataFrame a un diccionario usando *comprehensions*.\n",
    "2. Corregir los nombres para que solo la primera letra del nombre y apellido sean mayúscula.\n",
    "3. Generar un menú que permita al usuario elegir en qué unidades desea ver la información.\n",
    "   * Metros.\n",
    "   * Pies.\n",
    "   * Pulgadas\n",
    "   * Centímetros.\n",
    "4. El usuario podrá decidir el rango de jugadores que desea ver, por ejemplo: `4-8`, y solo mostrará la información de los jugadores del 4 al 8. Si el usuario pone `0-0` entonces se mostrará toda la lista.\n",
    "5. La información se muestra en dos columnas: Jugador, Yardas.\n",
    "6. Una vez mostrada la información, el usuario podrá elegir entre salir o hacer otra consulta.\n",
    "7. Para las conversiones de unidades usar funciones lambda.\n",
    "8. Usar manejo de excepciones para los posibles errores que pueda cometer el usuario."
   ]
  },
  {
   "cell_type": "markdown",
   "metadata": {},
   "source": [
    "### Obteniendo datos de la web."
   ]
  },
  {
   "cell_type": "code",
   "execution_count": null,
   "metadata": {},
   "outputs": [],
   "source": [
    "import webbrowser\n",
    "website = 'http://www.espn.com/nfl/history/leaders/_/stat/passyards'\n",
    "webbrowser.open(website)"
   ]
  },
  {
   "cell_type": "code",
   "execution_count": null,
   "metadata": {},
   "outputs": [],
   "source": [
    "import pandas as pd"
   ]
  },
  {
   "cell_type": "code",
   "execution_count": null,
   "metadata": {},
   "outputs": [],
   "source": [
    "# Antes de ejecutar esta celda, seleccione todos los datos de la tabla, \n",
    "# incluyendo los títulos y copiarlos al clipboard, es decir teclear [Ctrl + c]\n",
    "\n",
    "#-----------------------------------------------------------------------------\n",
    "# Es probable que en Linux se obtenga un error. La forma de resolverlo es como sigue\n",
    "#-----------------------------------------------------------------------------\n",
    "#You may get an error message that says: “Pyperclip could not find a copy/paste mechanism for your system. Please see https://pyperclip.readthedocs.io/en/latest/introduction.html#not-implemented-error for how to fix this.”\n",
    "#\n",
    "#In order to work equally well on Windows, Mac, and Linux, Pyperclip uses various mechanisms to do this. Currently, this error should only appear on Linux (not Windows or Mac). You can fix this by installing one of the copy/paste mechanisms:\n",
    "#\n",
    "#    sudo apt-get install xsel to install the xsel utility.\n",
    "#    sudo apt-get install xclip to install the xclip utility.\n",
    "#    pip install gtk to install the gtk Python module.\n",
    "#    pip install PyQt4 to install the PyQt4 Python module.\n",
    "#-----------------------------------------------------------------------------\n",
    "nfl_frame = pd.read_clipboard(engine='python')\n",
    "nfl_frame"
   ]
  },
  {
   "cell_type": "code",
   "execution_count": null,
   "metadata": {},
   "outputs": [],
   "source": [
    "# Si no logró obtener los datos del sitio web, puede abrir el archivo local \n",
    "# 'all_time_pass_yards.csv' con el siguiente comando:\n",
    "#nfl_frame = pd.read_csv('all_time_pass_yards.csv')\n",
    "#nfl_frame"
   ]
  },
  {
   "cell_type": "code",
   "execution_count": null,
   "metadata": {},
   "outputs": [],
   "source": [
    "# Convertir el Dataframe en un diccionario\n",
    "dummy = nfl_frame.to_dict('split')"
   ]
  },
  {
   "cell_type": "code",
   "execution_count": null,
   "metadata": {},
   "outputs": [],
   "source": [
    "# Usar los datos de la entrada 'datos'\n",
    "dummy['data']"
   ]
  },
  {
   "cell_type": "code",
   "execution_count": null,
   "metadata": {},
   "outputs": [],
   "source": [
    "# Transformar estos datos en un diccionario como sigue:\n",
    "datos_yardas = { qb[1]:qb[2] for qb in dummy['data']}\n",
    "datos_yardas"
   ]
  },
  {
   "cell_type": "code",
   "execution_count": null,
   "metadata": {},
   "outputs": [],
   "source": []
  },
  {
   "cell_type": "markdown",
   "metadata": {},
   "source": [
    "<a href=\"T11_IteradoresGeneradores.ipynb\">Iteradores y generadores</a>"
   ]
  },
  {
   "cell_type": "markdown",
   "metadata": {},
   "source": [
    "<a href=\"T12_Decoradores.ipynb\">Decoradores</a>"
   ]
  },
  {
   "cell_type": "markdown",
   "metadata": {},
   "source": [
    "<a href=\"T13_BibliotecaEstandar.ipynb\">Biblioteca estándar</a>"
   ]
  }
 ],
 "metadata": {
  "kernelspec": {
   "display_name": "Python 3",
   "language": "python",
   "name": "python3"
  },
  "language_info": {
   "codemirror_mode": {
    "name": "ipython",
    "version": 3
   },
   "file_extension": ".py",
   "mimetype": "text/x-python",
   "name": "python",
   "nbconvert_exporter": "python",
   "pygments_lexer": "ipython3",
   "version": "3.8.5"
  }
 },
 "nbformat": 4,
 "nbformat_minor": 4
}
